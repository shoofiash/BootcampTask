{
  "nbformat": 4,
  "nbformat_minor": 0,
  "metadata": {
    "colab": {
      "name": "Assingment 3 - Basic Python - Yasmin Shofiyyah",
      "provenance": [],
      "collapsed_sections": [],
      "authorship_tag": "ABX9TyORw6yG/B77GzXJGr2urF5B",
      "include_colab_link": true
    },
    "kernelspec": {
      "name": "python3",
      "display_name": "Python 3"
    },
    "language_info": {
      "name": "python"
    }
  },
  "cells": [
    {
      "cell_type": "markdown",
      "metadata": {
        "id": "view-in-github",
        "colab_type": "text"
      },
      "source": [
        "<a href=\"https://colab.research.google.com/github/shoofiash/BootcampTask/blob/main/Assignment%203%20-%20Basic%20Python.ipynb\" target=\"_parent\"><img src=\"https://colab.research.google.com/assets/colab-badge.svg\" alt=\"Open In Colab\"/></a>"
      ]
    },
    {
      "cell_type": "markdown",
      "source": [
        "# BASIC PYTHON"
      ],
      "metadata": {
        "id": "pIgFtwafj-Uv"
      }
    },
    {
      "cell_type": "markdown",
      "source": [
        "1. Buatlah program yang meminta user untuk menginputkan nama mereka. Program harus merespon dengan pesan yang menyambut user dengan sapaan “Hi/Hallo” atau apapun, disertai dengan nama user tersebut."
      ],
      "metadata": {
        "id": "Ifq7l45aFhi_"
      }
    },
    {
      "cell_type": "code",
      "execution_count": null,
      "metadata": {
        "colab": {
          "base_uri": "https://localhost:8080/"
        },
        "id": "fJOLE50v8ERR",
        "outputId": "36d8918b-8e8f-463d-e929-80e9cae7150b"
      },
      "outputs": [
        {
          "output_type": "stream",
          "name": "stdout",
          "text": [
            "Masukkan nama Anda: yasmin\n",
            "Halo yasmin\n"
          ]
        }
      ],
      "source": [
        "a = input(\"Masukkan nama Anda: \")\n",
        "print(\"Halo\", a)"
      ]
    },
    {
      "cell_type": "markdown",
      "source": [
        "2. Buatlah program yang meminta user untuk mengisi panjang dan lebar dari suatu ruangan. Peserta diminta untuk memberikan output dengan dua satuan yang berbeda:\n",
        "\n",
        "a. Luas dalam meter persegi\n",
        "\n",
        "b. Luas dalam hektar\n"
      ],
      "metadata": {
        "id": "DSL6QUxDF4og"
      }
    },
    {
      "cell_type": "code",
      "source": [
        "panjang = int(input(\"Masukkan panjang (m): \"))\n",
        "lebar = int(input(\"Masukkan lebar (m): \"))\n",
        "LuasMeterPersegi = panjang * lebar\n",
        "\n",
        "# Soal 2.a\n",
        "print(\"Luas dalam meter persegi:\", LuasMeterPersegi)\n",
        "\n",
        "# Soal 2.b\n",
        "LuasHektar = float(LuasMeterPersegi * 0.0001)\n",
        "print(\"Luas dalam hektar: %.5f\" % LuasHektar)"
      ],
      "metadata": {
        "colab": {
          "base_uri": "https://localhost:8080/"
        },
        "id": "FaA60de_QkXF",
        "outputId": "e18e2088-99f7-481f-dbeb-3502af8fd628"
      },
      "execution_count": null,
      "outputs": [
        {
          "output_type": "stream",
          "name": "stdout",
          "text": [
            "Masukkan panjang (m): 6\n",
            "Masukkan lebar (m): 4\n",
            "Luas dalam meter persegi: 24\n",
            "Luas dalam hektar: 0.00240\n"
          ]
        }
      ]
    },
    {
      "cell_type": "markdown",
      "source": [
        "3. Buatlah sebuah program yang dapat menghitung jumlah dari n bilangan pertama dari bilangan natural atau bilangan bulat positif. Misal jika user memberikan input n = 10 maka program harus menghitung jumlah dari 1 + 2+ 3+ … + 10"
      ],
      "metadata": {
        "id": "6VRii7USSswl"
      }
    },
    {
      "cell_type": "code",
      "source": [
        "n = int(input(\"Masukkan banyaknya: \"))\n",
        "hasil = 0 # inisiasi\n",
        "\n",
        "for i in range(1, n+1): #for i in range(start, end-1, iterasi)\n",
        "  hasil += i\n",
        "  if i < n:\n",
        "    print(i, \"+\", end=\" \")\n",
        "  else:\n",
        "    print(i, \"=\", end=\" \")\n",
        "\n",
        "print(hasil)"
      ],
      "metadata": {
        "colab": {
          "base_uri": "https://localhost:8080/"
        },
        "id": "wv1Cu9j3SymH",
        "outputId": "c605a8ca-ed2d-47f5-a409-a6b1ab89a373"
      },
      "execution_count": null,
      "outputs": [
        {
          "output_type": "stream",
          "name": "stdout",
          "text": [
            "Masukkan banyaknya: 10\n",
            "1 + 2 + 3 + 4 + 5 + 6 + 7 + 8 + 9 + 10 = 55\n"
          ]
        }
      ]
    },
    {
      "cell_type": "markdown",
      "source": [
        "4. Buatlah program untuk menghitung luas segitiga dengan dua cara:\n",
        "\n",
        "a. Menghitung luas segitiga dengan rumus (alas x tinggi)/2\n",
        "\n",
        "\n",
        "b. Menghitung luas segitiga dengan rumus heron\n",
        "\n",
        "Jangan lupa bahwa program meminta input dari user tergantung rumus apa yang digunakan\n"
      ],
      "metadata": {
        "id": "Ay1MKQO8dztA"
      }
    },
    {
      "cell_type": "code",
      "source": [
        "print(\"RUMUS LUAS SEGITIGA\")\n",
        "print(\"1. (alas xtinggi)/2\")\n",
        "print(\"2. Rumus Heron\")\n",
        "pilihan = int(input(\"Masukkan pilihan rumus (1 atau 2): \"))\n",
        "\n",
        "if pilihan == 1:\n",
        "  alas = int(input(\"Masukkan alas: \"))\n",
        "  tinggi = int(input(\"Masukkan tinggi: \"))\n",
        "  LuasSegitiga = 0.5 * alas * tinggi\n",
        "  print(LuasSegitiga)\n",
        "\n",
        "elif pilihan == 2:\n",
        "  a = int(input(\"Masukkan panjang sisi a: \"))\n",
        "  b = int (input(\"Masukkan panjang sisi b: \"))\n",
        "  c = int (input(\"Masukkan panjang sisi c: \"))\n",
        "  s = (a+b+c)/2\n",
        "  LuasSegitiga = (s*(s-a)*(s-b)*(s-c))**0.5\n",
        "  print(LuasSegitiga)\n",
        "  \n",
        "else: #Jika terdapat user yang iseng\n",
        "  print(\"Tidak ada opsi tersebut\") "
      ],
      "metadata": {
        "colab": {
          "base_uri": "https://localhost:8080/"
        },
        "id": "OaOphiIPd59t",
        "outputId": "2bd868ec-6c81-4413-e95e-fe05d97a54fd"
      },
      "execution_count": null,
      "outputs": [
        {
          "output_type": "stream",
          "name": "stdout",
          "text": [
            "RUMUS LUAS SEGITIGA\n",
            "1. (alas xtinggi)/2\n",
            "2. Rumus Heron\n",
            "Masukkan pilihan rumus (1 atau 2): 2\n",
            "Masukkan panjang sisi a: 3\n",
            "Masukkan panjang sisi b: 4\n",
            "Masukkan panjang sisi c: 5\n",
            "6.0\n"
          ]
        }
      ]
    },
    {
      "cell_type": "markdown",
      "source": [
        "5. Buatlah program yang membaca input magnitude gempa dari user dan program menunjukkan informasi deskripsi dari gempa tersebut. Contoh: Jika user memberi input 5.5 maka output dari program adalah “Moderate earthquake”\n"
      ],
      "metadata": {
        "id": "pCdY4zHahR29"
      }
    },
    {
      "cell_type": "code",
      "source": [
        "Magnitude_Gempa = float(input(\"Masukkan besar magnitude gempa (besaran harus positif): \"))\n",
        "\n",
        "if Magnitude_Gempa < 2.0:\n",
        "  print(\"Micro Earthquake\")\n",
        "\n",
        "elif 2.0 <= Magnitude_Gempa <= 3.9:\n",
        "  print(\"Minor Earthquake\")\n",
        "\n",
        "elif 4.0 <= Magnitude_Gempa <= 4.9:\n",
        "  print(\"Light Earthquake\")\n",
        "\n",
        "elif 5.0 <= Magnitude_Gempa <= 5.9:\n",
        "  print(\"Moderate Earthquake\")\n",
        "\n",
        "elif 6.0 <= Magnitude_Gempa <= 6.9:\n",
        "  print(\"Strong Earthquake\")\n",
        "\n",
        "elif 7.0 <= Magnitude_Gempa <= 7.9:\n",
        "  print(\"Major Earthquake\")\n",
        "\n",
        "elif 8.0 <= Magnitude_Gempa <= 9.9:\n",
        "  print(\"Great Earthquake\")\n",
        "\n",
        "else: \n",
        "  print(\"Massive Earthquake\")\n"
      ],
      "metadata": {
        "colab": {
          "base_uri": "https://localhost:8080/"
        },
        "id": "nG7LAEAbhev4",
        "outputId": "7c0c8467-ae1e-43d3-abe3-3d8463ef80ec"
      },
      "execution_count": null,
      "outputs": [
        {
          "output_type": "stream",
          "name": "stdout",
          "text": [
            "Masukkan besar magnitude gempa (besaran harus positif): 4.4\n",
            "Light Earthquake\n"
          ]
        }
      ]
    },
    {
      "cell_type": "markdown",
      "source": [
        "# ADVANCED PYTHON"
      ],
      "metadata": {
        "id": "RfphN1VKRYlA"
      }
    },
    {
      "cell_type": "markdown",
      "source": [
        "1. Visualisasikan data yang diberikan menggunakan matplotlib"
      ],
      "metadata": {
        "id": "-Xd10qpIRfk-"
      }
    },
    {
      "cell_type": "code",
      "source": [
        "import matplotlib.pyplot as plt\n",
        "import numpy as np\n",
        "import pandas as pd\n",
        "\n",
        "df = pd.read_csv(\"https://raw.githubusercontent.com/hadimaster65555/dataset_for_teaching/main/dataset/linear_regression_simulation_data/linear-regression.csv\")\n",
        "df.columns = ['x', 'y']\n",
        "df = pd.DataFrame({'x': [0.58705], 'y': [5.79555]}).append(df, ignore_index = True)\n",
        "df\n"
      ],
      "metadata": {
        "colab": {
          "base_uri": "https://localhost:8080/",
          "height": 424
        },
        "id": "Ts47gdbSRj3_",
        "outputId": "ff89060d-438b-467e-d4c8-e67c5a4a7094"
      },
      "execution_count": null,
      "outputs": [
        {
          "output_type": "execute_result",
          "data": {
            "text/plain": [
              "          x        y\n",
              "0   0.58705  5.79555\n",
              "1  -0.15098  3.53372\n",
              "2  -0.24805  3.22805\n",
              "3  -0.36056  2.87947\n",
              "4   0.09375  4.40297\n",
              "..      ...      ...\n",
              "95  0.57697  5.62490\n",
              "96  0.54242  5.50030\n",
              "97 -0.02820  3.96986\n",
              "98 -0.52083  2.46482\n",
              "99 -0.63998  2.24709\n",
              "\n",
              "[100 rows x 2 columns]"
            ],
            "text/html": [
              "\n",
              "  <div id=\"df-56f7b01c-9da2-43d1-9c39-2e8b555e62b0\">\n",
              "    <div class=\"colab-df-container\">\n",
              "      <div>\n",
              "<style scoped>\n",
              "    .dataframe tbody tr th:only-of-type {\n",
              "        vertical-align: middle;\n",
              "    }\n",
              "\n",
              "    .dataframe tbody tr th {\n",
              "        vertical-align: top;\n",
              "    }\n",
              "\n",
              "    .dataframe thead th {\n",
              "        text-align: right;\n",
              "    }\n",
              "</style>\n",
              "<table border=\"1\" class=\"dataframe\">\n",
              "  <thead>\n",
              "    <tr style=\"text-align: right;\">\n",
              "      <th></th>\n",
              "      <th>x</th>\n",
              "      <th>y</th>\n",
              "    </tr>\n",
              "  </thead>\n",
              "  <tbody>\n",
              "    <tr>\n",
              "      <th>0</th>\n",
              "      <td>0.58705</td>\n",
              "      <td>5.79555</td>\n",
              "    </tr>\n",
              "    <tr>\n",
              "      <th>1</th>\n",
              "      <td>-0.15098</td>\n",
              "      <td>3.53372</td>\n",
              "    </tr>\n",
              "    <tr>\n",
              "      <th>2</th>\n",
              "      <td>-0.24805</td>\n",
              "      <td>3.22805</td>\n",
              "    </tr>\n",
              "    <tr>\n",
              "      <th>3</th>\n",
              "      <td>-0.36056</td>\n",
              "      <td>2.87947</td>\n",
              "    </tr>\n",
              "    <tr>\n",
              "      <th>4</th>\n",
              "      <td>0.09375</td>\n",
              "      <td>4.40297</td>\n",
              "    </tr>\n",
              "    <tr>\n",
              "      <th>...</th>\n",
              "      <td>...</td>\n",
              "      <td>...</td>\n",
              "    </tr>\n",
              "    <tr>\n",
              "      <th>95</th>\n",
              "      <td>0.57697</td>\n",
              "      <td>5.62490</td>\n",
              "    </tr>\n",
              "    <tr>\n",
              "      <th>96</th>\n",
              "      <td>0.54242</td>\n",
              "      <td>5.50030</td>\n",
              "    </tr>\n",
              "    <tr>\n",
              "      <th>97</th>\n",
              "      <td>-0.02820</td>\n",
              "      <td>3.96986</td>\n",
              "    </tr>\n",
              "    <tr>\n",
              "      <th>98</th>\n",
              "      <td>-0.52083</td>\n",
              "      <td>2.46482</td>\n",
              "    </tr>\n",
              "    <tr>\n",
              "      <th>99</th>\n",
              "      <td>-0.63998</td>\n",
              "      <td>2.24709</td>\n",
              "    </tr>\n",
              "  </tbody>\n",
              "</table>\n",
              "<p>100 rows × 2 columns</p>\n",
              "</div>\n",
              "      <button class=\"colab-df-convert\" onclick=\"convertToInteractive('df-56f7b01c-9da2-43d1-9c39-2e8b555e62b0')\"\n",
              "              title=\"Convert this dataframe to an interactive table.\"\n",
              "              style=\"display:none;\">\n",
              "        \n",
              "  <svg xmlns=\"http://www.w3.org/2000/svg\" height=\"24px\"viewBox=\"0 0 24 24\"\n",
              "       width=\"24px\">\n",
              "    <path d=\"M0 0h24v24H0V0z\" fill=\"none\"/>\n",
              "    <path d=\"M18.56 5.44l.94 2.06.94-2.06 2.06-.94-2.06-.94-.94-2.06-.94 2.06-2.06.94zm-11 1L8.5 8.5l.94-2.06 2.06-.94-2.06-.94L8.5 2.5l-.94 2.06-2.06.94zm10 10l.94 2.06.94-2.06 2.06-.94-2.06-.94-.94-2.06-.94 2.06-2.06.94z\"/><path d=\"M17.41 7.96l-1.37-1.37c-.4-.4-.92-.59-1.43-.59-.52 0-1.04.2-1.43.59L10.3 9.45l-7.72 7.72c-.78.78-.78 2.05 0 2.83L4 21.41c.39.39.9.59 1.41.59.51 0 1.02-.2 1.41-.59l7.78-7.78 2.81-2.81c.8-.78.8-2.07 0-2.86zM5.41 20L4 18.59l7.72-7.72 1.47 1.35L5.41 20z\"/>\n",
              "  </svg>\n",
              "      </button>\n",
              "      \n",
              "  <style>\n",
              "    .colab-df-container {\n",
              "      display:flex;\n",
              "      flex-wrap:wrap;\n",
              "      gap: 12px;\n",
              "    }\n",
              "\n",
              "    .colab-df-convert {\n",
              "      background-color: #E8F0FE;\n",
              "      border: none;\n",
              "      border-radius: 50%;\n",
              "      cursor: pointer;\n",
              "      display: none;\n",
              "      fill: #1967D2;\n",
              "      height: 32px;\n",
              "      padding: 0 0 0 0;\n",
              "      width: 32px;\n",
              "    }\n",
              "\n",
              "    .colab-df-convert:hover {\n",
              "      background-color: #E2EBFA;\n",
              "      box-shadow: 0px 1px 2px rgba(60, 64, 67, 0.3), 0px 1px 3px 1px rgba(60, 64, 67, 0.15);\n",
              "      fill: #174EA6;\n",
              "    }\n",
              "\n",
              "    [theme=dark] .colab-df-convert {\n",
              "      background-color: #3B4455;\n",
              "      fill: #D2E3FC;\n",
              "    }\n",
              "\n",
              "    [theme=dark] .colab-df-convert:hover {\n",
              "      background-color: #434B5C;\n",
              "      box-shadow: 0px 1px 3px 1px rgba(0, 0, 0, 0.15);\n",
              "      filter: drop-shadow(0px 1px 2px rgba(0, 0, 0, 0.3));\n",
              "      fill: #FFFFFF;\n",
              "    }\n",
              "  </style>\n",
              "\n",
              "      <script>\n",
              "        const buttonEl =\n",
              "          document.querySelector('#df-56f7b01c-9da2-43d1-9c39-2e8b555e62b0 button.colab-df-convert');\n",
              "        buttonEl.style.display =\n",
              "          google.colab.kernel.accessAllowed ? 'block' : 'none';\n",
              "\n",
              "        async function convertToInteractive(key) {\n",
              "          const element = document.querySelector('#df-56f7b01c-9da2-43d1-9c39-2e8b555e62b0');\n",
              "          const dataTable =\n",
              "            await google.colab.kernel.invokeFunction('convertToInteractive',\n",
              "                                                     [key], {});\n",
              "          if (!dataTable) return;\n",
              "\n",
              "          const docLinkHtml = 'Like what you see? Visit the ' +\n",
              "            '<a target=\"_blank\" href=https://colab.research.google.com/notebooks/data_table.ipynb>data table notebook</a>'\n",
              "            + ' to learn more about interactive tables.';\n",
              "          element.innerHTML = '';\n",
              "          dataTable['output_type'] = 'display_data';\n",
              "          await google.colab.output.renderOutput(dataTable, element);\n",
              "          const docLink = document.createElement('div');\n",
              "          docLink.innerHTML = docLinkHtml;\n",
              "          element.appendChild(docLink);\n",
              "        }\n",
              "      </script>\n",
              "    </div>\n",
              "  </div>\n",
              "  "
            ]
          },
          "metadata": {},
          "execution_count": 40
        }
      ]
    },
    {
      "cell_type": "code",
      "source": [
        "data_x = df['x']\n",
        "data_y = df['y']\n",
        "plt.plot(data_x,data_y,'o', label = \"random data\")\n",
        "plt.legend()\n",
        "plt.show()"
      ],
      "metadata": {
        "colab": {
          "base_uri": "https://localhost:8080/",
          "height": 265
        },
        "id": "QRznS6fZSY1A",
        "outputId": "d6cd420d-4e22-4285-81c4-fe81ae9f16da"
      },
      "execution_count": null,
      "outputs": [
        {
          "output_type": "display_data",
          "data": {
            "text/plain": [
              "<Figure size 432x288 with 1 Axes>"
            ],
            "image/png": "[encoded data removed]"
          },
          "metadata": {
            "needs_background": "light"
          }
        }
      ]
    },
    {
      "cell_type": "markdown",
      "source": [
        "2. Buatlah program untuk menghitung regresi linier menggunakan metode invers matriks\n",
        "\n",
        "x = (A^TA)^-1 A^T y\n",
        "\n",
        "dimana:\n",
        "- x adalah koefisien dari model regresi yang ingin dicari\n",
        "- A adalah matriks data\n",
        "- AT adalah transpose dari A\n",
        "- A-1 adalah invers dari matriks A\n",
        "- y adalah variabel target\n"
      ],
      "metadata": {
        "id": "ORLQbTCVYvPp"
      }
    },
    {
      "cell_type": "code",
      "source": [
        "# y = mx + c -> y = Ap sehingga A = [[x 1]] dan p = [[m], [c]]\n",
        "# dimana m = beta_1 (slope) dan c = beta_0 (konstanta pergeseran)\n",
        "\n",
        "x_vals_columns = np.transpose(np.mat(data_x)) # data x\n",
        "ones_column = np.transpose(np.mat(np.repeat(1,100))) # identitas matrix\n",
        "A = np.column_stack((x_vals_columns, ones_column)) # A = [[x 1]]\n",
        "y = np.transpose(np.mat(data_y)) # data y\n",
        "\n",
        "Atranspose_A = np.matmul(np.transpose(A), A) # A^T * A (perkalian matrix)\n",
        "Atranspose_A_inverse = np.linalg.inv(Atranspose_A) # (A^T * A)^-1 (inverse matrix)\n",
        "product = np.matmul(Atranspose_A_inverse, np.transpose(A)) # hasil dari (A^T * A)^-1 * A^T\n",
        "solution = np.matmul(product, y) # hasil dari persamaan x = ((A^T * A)^-1 * A^T) * y\n",
        "\n",
        "# solution = [[m], [c]]\n",
        "beta_0 = float(solution[1][0]) #mengambil nilai dari matrix solution yang mengandung nilai c \n",
        "beta_1 = float(solution[0][0]) #mengambil nilai dari matrix solution yang mengandung nilai m\n",
        "\n",
        "# Visualisasi\n",
        "plt.plot(data_x, data_y, 'o', label='data')\n",
        "plt.plot(data_x, data_x*beta_1 + beta_0, 'r-', label='fitted line')\n",
        "plt.legend()\n",
        "plt.show()"
      ],
      "metadata": {
        "colab": {
          "base_uri": "https://localhost:8080/",
          "height": 265
        },
        "id": "m7cYXQLRZELV",
        "outputId": "a2f49a1b-db38-499b-ce40-359504ef83d8"
      },
      "execution_count": null,
      "outputs": [
        {
          "output_type": "display_data",
          "data": {
            "text/plain": [
              "<Figure size 432x288 with 1 Axes>"
            ],
            "image/png": "[encoded data removed]"
          },
          "metadata": {
            "needs_background": "light"
          }
        }
      ]
    },
    {
      "cell_type": "markdown",
      "source": [
        "3. Buatlah program untuk menghitung regresi linier menggunakan method linalg.lstsq dari numpys"
      ],
      "metadata": {
        "id": "YZguj6LEmCrY"
      }
    },
    {
      "cell_type": "code",
      "source": [
        "A = np.vstack([data_x, np.ones(len(data_x))]).T\n",
        "m, c = np.linalg.lstsq(A, data_y, rcond=None)[0]\n",
        "\n",
        "plt.plot(data_x,data_y,'o', label=\"data\")\n",
        "plt.plot(data_x, m*data_x+c, 'r-', label=\"Fitted line\")\n",
        "plt.legend()\n",
        "plt.show()"
      ],
      "metadata": {
        "colab": {
          "base_uri": "https://localhost:8080/",
          "height": 265
        },
        "id": "8IuMS0AUmOy1",
        "outputId": "638d93b7-6ac3-4a91-b952-09140b12fd02"
      },
      "execution_count": null,
      "outputs": [
        {
          "output_type": "display_data",
          "data": {
            "text/plain": [
              "<Figure size 432x288 with 1 Axes>"
            ],
            "image/png": "[encoded data removed]"
          },
          "metadata": {
            "needs_background": "light"
          }
        }
      ]
    }
  ]
}