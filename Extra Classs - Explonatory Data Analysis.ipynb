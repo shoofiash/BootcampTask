{
  "cells": [
    {
      "cell_type": "markdown",
      "metadata": {
        "id": "view-in-github",
        "colab_type": "text"
      },
      "source": [
        "<a href=\"https://colab.research.google.com/github/shoofiash/BootcampTask/blob/main/Extra%20Classs%20-%20Explonatory%20Data%20Analysis.ipynb\" target=\"_parent\"><img src=\"https://colab.research.google.com/assets/colab-badge.svg\" alt=\"Open In Colab\"/></a>"
      ]
    },
    {
      "cell_type": "code",
      "execution_count": 1,
      "id": "2a960e8f",
      "metadata": {
        "id": "2a960e8f"
      },
      "outputs": [],
      "source": [
        "import pandas as pd\n",
        "import numpy as np\n",
        "import matplotlib.pyplot as plt\n",
        "import seaborn as sns"
      ]
    },
    {
      "cell_type": "markdown",
      "id": "589eaaf4",
      "metadata": {
        "id": "589eaaf4"
      },
      "source": [
        "### Import Data"
      ]
    },
    {
      "cell_type": "code",
      "execution_count": 2,
      "id": "5e2ff9e7",
      "metadata": {
        "colab": {
          "base_uri": "https://localhost:8080/"
        },
        "id": "5e2ff9e7",
        "outputId": "63b17145-ff91-4984-b6bd-fb85b218352e"
      },
      "outputs": [
        {
          "output_type": "stream",
          "name": "stdout",
          "text": [
            "Mounted at /content/drive\n"
          ]
        }
      ],
      "source": [
        "# import database\n",
        "from google.colab import drive\n",
        "drive.mount('/content/drive')"
      ]
    },
    {
      "cell_type": "code",
      "source": [
        "df = pd.read_csv(\"/content/drive/MyDrive/diamonds.csv\")\n",
        "\n",
        "df"
      ],
      "metadata": {
        "colab": {
          "base_uri": "https://localhost:8080/",
          "height": 424
        },
        "id": "S-0SXIIjWzZU",
        "outputId": "2cfebb1d-76cf-4e4b-be50-8bcd52c6711c"
      },
      "id": "S-0SXIIjWzZU",
      "execution_count": 3,
      "outputs": [
        {
          "output_type": "execute_result",
          "data": {
            "text/plain": [
              "       Unnamed: 0  carat        cut color clarity  depth  table  price     x  \\\n",
              "0               1   0.23      Ideal     E     SI2   61.5   55.0    326  3.95   \n",
              "1               2   0.21    Premium     E     SI1   59.8   61.0    326  3.89   \n",
              "2               3   0.23       Good     E     VS1   56.9   65.0    327  4.05   \n",
              "3               4   0.29    Premium     I     VS2   62.4   58.0    334  4.20   \n",
              "4               5   0.31       Good     J     SI2   63.3   58.0    335  4.34   \n",
              "...           ...    ...        ...   ...     ...    ...    ...    ...   ...   \n",
              "53935       53936   0.72      Ideal     D     SI1   60.8   57.0   2757  5.75   \n",
              "53936       53937   0.72       Good     D     SI1   63.1   55.0   2757  5.69   \n",
              "53937       53938   0.70  Very Good     D     SI1   62.8   60.0   2757  5.66   \n",
              "53938       53939   0.86    Premium     H     SI2   61.0   58.0   2757  6.15   \n",
              "53939       53940   0.75      Ideal     D     SI2   62.2   55.0   2757  5.83   \n",
              "\n",
              "          y     z  \n",
              "0      3.98  2.43  \n",
              "1      3.84  2.31  \n",
              "2      4.07  2.31  \n",
              "3      4.23  2.63  \n",
              "4      4.35  2.75  \n",
              "...     ...   ...  \n",
              "53935  5.76  3.50  \n",
              "53936  5.75  3.61  \n",
              "53937  5.68  3.56  \n",
              "53938  6.12  3.74  \n",
              "53939  5.87  3.64  \n",
              "\n",
              "[53940 rows x 11 columns]"
            ],
            "text/html": [
              "\n",
              "  <div id=\"df-4dbc7a2c-c233-45d3-980a-f0342c514b2d\">\n",
              "    <div class=\"colab-df-container\">\n",
              "      <div>\n",
              "<style scoped>\n",
              "    .dataframe tbody tr th:only-of-type {\n",
              "        vertical-align: middle;\n",
              "    }\n",
              "\n",
              "    .dataframe tbody tr th {\n",
              "        vertical-align: top;\n",
              "    }\n",
              "\n",
              "    .dataframe thead th {\n",
              "        text-align: right;\n",
              "    }\n",
              "</style>\n",
              "<table border=\"1\" class=\"dataframe\">\n",
              "  <thead>\n",
              "    <tr style=\"text-align: right;\">\n",
              "      <th></th>\n",
              "      <th>Unnamed: 0</th>\n",
              "      <th>carat</th>\n",
              "      <th>cut</th>\n",
              "      <th>color</th>\n",
              "      <th>clarity</th>\n",
              "      <th>depth</th>\n",
              "      <th>table</th>\n",
              "      <th>price</th>\n",
              "      <th>x</th>\n",
              "      <th>y</th>\n",
              "      <th>z</th>\n",
              "    </tr>\n",
              "  </thead>\n",
              "  <tbody>\n",
              "    <tr>\n",
              "      <th>0</th>\n",
              "      <td>1</td>\n",
              "      <td>0.23</td>\n",
              "      <td>Ideal</td>\n",
              "      <td>E</td>\n",
              "      <td>SI2</td>\n",
              "      <td>61.5</td>\n",
              "      <td>55.0</td>\n",
              "      <td>326</td>\n",
              "      <td>3.95</td>\n",
              "      <td>3.98</td>\n",
              "      <td>2.43</td>\n",
              "    </tr>\n",
              "    <tr>\n",
              "      <th>1</th>\n",
              "      <td>2</td>\n",
              "      <td>0.21</td>\n",
              "      <td>Premium</td>\n",
              "      <td>E</td>\n",
              "      <td>SI1</td>\n",
              "      <td>59.8</td>\n",
              "      <td>61.0</td>\n",
              "      <td>326</td>\n",
              "      <td>3.89</td>\n",
              "      <td>3.84</td>\n",
              "      <td>2.31</td>\n",
              "    </tr>\n",
              "    <tr>\n",
              "      <th>2</th>\n",
              "      <td>3</td>\n",
              "      <td>0.23</td>\n",
              "      <td>Good</td>\n",
              "      <td>E</td>\n",
              "      <td>VS1</td>\n",
              "      <td>56.9</td>\n",
              "      <td>65.0</td>\n",
              "      <td>327</td>\n",
              "      <td>4.05</td>\n",
              "      <td>4.07</td>\n",
              "      <td>2.31</td>\n",
              "    </tr>\n",
              "    <tr>\n",
              "      <th>3</th>\n",
              "      <td>4</td>\n",
              "      <td>0.29</td>\n",
              "      <td>Premium</td>\n",
              "      <td>I</td>\n",
              "      <td>VS2</td>\n",
              "      <td>62.4</td>\n",
              "      <td>58.0</td>\n",
              "      <td>334</td>\n",
              "      <td>4.20</td>\n",
              "      <td>4.23</td>\n",
              "      <td>2.63</td>\n",
              "    </tr>\n",
              "    <tr>\n",
              "      <th>4</th>\n",
              "      <td>5</td>\n",
              "      <td>0.31</td>\n",
              "      <td>Good</td>\n",
              "      <td>J</td>\n",
              "      <td>SI2</td>\n",
              "      <td>63.3</td>\n",
              "      <td>58.0</td>\n",
              "      <td>335</td>\n",
              "      <td>4.34</td>\n",
              "      <td>4.35</td>\n",
              "      <td>2.75</td>\n",
              "    </tr>\n",
              "    <tr>\n",
              "      <th>...</th>\n",
              "      <td>...</td>\n",
              "      <td>...</td>\n",
              "      <td>...</td>\n",
              "      <td>...</td>\n",
              "      <td>...</td>\n",
              "      <td>...</td>\n",
              "      <td>...</td>\n",
              "      <td>...</td>\n",
              "      <td>...</td>\n",
              "      <td>...</td>\n",
              "      <td>...</td>\n",
              "    </tr>\n",
              "    <tr>\n",
              "      <th>53935</th>\n",
              "      <td>53936</td>\n",
              "      <td>0.72</td>\n",
              "      <td>Ideal</td>\n",
              "      <td>D</td>\n",
              "      <td>SI1</td>\n",
              "      <td>60.8</td>\n",
              "      <td>57.0</td>\n",
              "      <td>2757</td>\n",
              "      <td>5.75</td>\n",
              "      <td>5.76</td>\n",
              "      <td>3.50</td>\n",
              "    </tr>\n",
              "    <tr>\n",
              "      <th>53936</th>\n",
              "      <td>53937</td>\n",
              "      <td>0.72</td>\n",
              "      <td>Good</td>\n",
              "      <td>D</td>\n",
              "      <td>SI1</td>\n",
              "      <td>63.1</td>\n",
              "      <td>55.0</td>\n",
              "      <td>2757</td>\n",
              "      <td>5.69</td>\n",
              "      <td>5.75</td>\n",
              "      <td>3.61</td>\n",
              "    </tr>\n",
              "    <tr>\n",
              "      <th>53937</th>\n",
              "      <td>53938</td>\n",
              "      <td>0.70</td>\n",
              "      <td>Very Good</td>\n",
              "      <td>D</td>\n",
              "      <td>SI1</td>\n",
              "      <td>62.8</td>\n",
              "      <td>60.0</td>\n",
              "      <td>2757</td>\n",
              "      <td>5.66</td>\n",
              "      <td>5.68</td>\n",
              "      <td>3.56</td>\n",
              "    </tr>\n",
              "    <tr>\n",
              "      <th>53938</th>\n",
              "      <td>53939</td>\n",
              "      <td>0.86</td>\n",
              "      <td>Premium</td>\n",
              "      <td>H</td>\n",
              "      <td>SI2</td>\n",
              "      <td>61.0</td>\n",
              "      <td>58.0</td>\n",
              "      <td>2757</td>\n",
              "      <td>6.15</td>\n",
              "      <td>6.12</td>\n",
              "      <td>3.74</td>\n",
              "    </tr>\n",
              "    <tr>\n",
              "      <th>53939</th>\n",
              "      <td>53940</td>\n",
              "      <td>0.75</td>\n",
              "      <td>Ideal</td>\n",
              "      <td>D</td>\n",
              "      <td>SI2</td>\n",
              "      <td>62.2</td>\n",
              "      <td>55.0</td>\n",
              "      <td>2757</td>\n",
              "      <td>5.83</td>\n",
              "      <td>5.87</td>\n",
              "      <td>3.64</td>\n",
              "    </tr>\n",
              "  </tbody>\n",
              "</table>\n",
              "<p>53940 rows × 11 columns</p>\n",
              "</div>\n",
              "      <button class=\"colab-df-convert\" onclick=\"convertToInteractive('df-4dbc7a2c-c233-45d3-980a-f0342c514b2d')\"\n",
              "              title=\"Convert this dataframe to an interactive table.\"\n",
              "              style=\"display:none;\">\n",
              "        \n",
              "  <svg xmlns=\"http://www.w3.org/2000/svg\" height=\"24px\"viewBox=\"0 0 24 24\"\n",
              "       width=\"24px\">\n",
              "    <path d=\"M0 0h24v24H0V0z\" fill=\"none\"/>\n",
              "    <path d=\"M18.56 5.44l.94 2.06.94-2.06 2.06-.94-2.06-.94-.94-2.06-.94 2.06-2.06.94zm-11 1L8.5 8.5l.94-2.06 2.06-.94-2.06-.94L8.5 2.5l-.94 2.06-2.06.94zm10 10l.94 2.06.94-2.06 2.06-.94-2.06-.94-.94-2.06-.94 2.06-2.06.94z\"/><path d=\"M17.41 7.96l-1.37-1.37c-.4-.4-.92-.59-1.43-.59-.52 0-1.04.2-1.43.59L10.3 9.45l-7.72 7.72c-.78.78-.78 2.05 0 2.83L4 21.41c.39.39.9.59 1.41.59.51 0 1.02-.2 1.41-.59l7.78-7.78 2.81-2.81c.8-.78.8-2.07 0-2.86zM5.41 20L4 18.59l7.72-7.72 1.47 1.35L5.41 20z\"/>\n",
              "  </svg>\n",
              "      </button>\n",
              "      \n",
              "  <style>\n",
              "    .colab-df-container {\n",
              "      display:flex;\n",
              "      flex-wrap:wrap;\n",
              "      gap: 12px;\n",
              "    }\n",
              "\n",
              "    .colab-df-convert {\n",
              "      background-color: #E8F0FE;\n",
              "      border: none;\n",
              "      border-radius: 50%;\n",
              "      cursor: pointer;\n",
              "      display: none;\n",
              "      fill: #1967D2;\n",
              "      height: 32px;\n",
              "      padding: 0 0 0 0;\n",
              "      width: 32px;\n",
              "    }\n",
              "\n",
              "    .colab-df-convert:hover {\n",
              "      background-color: #E2EBFA;\n",
              "      box-shadow: 0px 1px 2px rgba(60, 64, 67, 0.3), 0px 1px 3px 1px rgba(60, 64, 67, 0.15);\n",
              "      fill: #174EA6;\n",
              "    }\n",
              "\n",
              "    [theme=dark] .colab-df-convert {\n",
              "      background-color: #3B4455;\n",
              "      fill: #D2E3FC;\n",
              "    }\n",
              "\n",
              "    [theme=dark] .colab-df-convert:hover {\n",
              "      background-color: #434B5C;\n",
              "      box-shadow: 0px 1px 3px 1px rgba(0, 0, 0, 0.15);\n",
              "      filter: drop-shadow(0px 1px 2px rgba(0, 0, 0, 0.3));\n",
              "      fill: #FFFFFF;\n",
              "    }\n",
              "  </style>\n",
              "\n",
              "      <script>\n",
              "        const buttonEl =\n",
              "          document.querySelector('#df-4dbc7a2c-c233-45d3-980a-f0342c514b2d button.colab-df-convert');\n",
              "        buttonEl.style.display =\n",
              "          google.colab.kernel.accessAllowed ? 'block' : 'none';\n",
              "\n",
              "        async function convertToInteractive(key) {\n",
              "          const element = document.querySelector('#df-4dbc7a2c-c233-45d3-980a-f0342c514b2d');\n",
              "          const dataTable =\n",
              "            await google.colab.kernel.invokeFunction('convertToInteractive',\n",
              "                                                     [key], {});\n",
              "          if (!dataTable) return;\n",
              "\n",
              "          const docLinkHtml = 'Like what you see? Visit the ' +\n",
              "            '<a target=\"_blank\" href=https://colab.research.google.com/notebooks/data_table.ipynb>data table notebook</a>'\n",
              "            + ' to learn more about interactive tables.';\n",
              "          element.innerHTML = '';\n",
              "          dataTable['output_type'] = 'display_data';\n",
              "          await google.colab.output.renderOutput(dataTable, element);\n",
              "          const docLink = document.createElement('div');\n",
              "          docLink.innerHTML = docLinkHtml;\n",
              "          element.appendChild(docLink);\n",
              "        }\n",
              "      </script>\n",
              "    </div>\n",
              "  </div>\n",
              "  "
            ]
          },
          "metadata": {},
          "execution_count": 3
        }
      ]
    },
    {
      "cell_type": "markdown",
      "id": "7a31cc58",
      "metadata": {
        "id": "7a31cc58"
      },
      "source": [
        "Kolom-kolom dari dataset 'diamonds.csv' memiliki definisi sebagai berikut:\n",
        "- price: price in US dollars ($326--$18,823)\n",
        "- carat: weight of the diamond (0.2--5.01)\n",
        "- cut: quality of the cut (Fair, Good, Very Good, Premium, Ideal)\n",
        "- color: diamond colour, from J (worst) to D (best)\n",
        "- clarity: a measurement of how clear the diamond is (I1 (worst), SI2, SI1, VS2, VS1, VVS2, VVS1, IF (best))\n",
        "- x: length in mm \n",
        "- y: width in mm \n",
        "- z: depth in mm \n",
        "- depth: total depth percentage = z / mean(x, y) = 2 * z / (x + y) \n",
        "- table: width of top of diamond relative to widest point\n"
      ]
    },
    {
      "cell_type": "markdown",
      "id": "19c5a145",
      "metadata": {
        "id": "19c5a145"
      },
      "source": [
        "### Soal:\n",
        "\n",
        "1. Periksalah apakah setiap kolom sudah memiliki tipe data yang benar? Jika ada yang belum benar, mohon diperbaiki.\n",
        "2. Periksalah apakah terdapat missing values? Jika ya, berapa baris yang memiliki missing values? \n",
        "3. Buatlah visualisasi untuk memeriksa distribusi pada kolom-kolom 'x', 'y', dan 'z'. Apakah ada hal yang janggal? Jika ya, apa saja kejanggalan yang dimaksud? Berapa banyak kejanggalan yang terjadi?\n",
        "4. Seorang calon pembeli berlian bertanya kepada kalian, \"Konon katanya semakin tinggi kualitas `clarity` dari sebuah berlian, maka harganya pun akan semakin mahal. Tapi mengapa rata-rata harga berlian dengan clarity `SI2` lebih tinggi dari rata-rata harga berlain dengan clarity `IF`?\" Coba berikan penjelasan (dan mungkin visualisasi) yang dapat membantu kalian menjawab kebingungan calon pembeli tersebut!"
      ]
    },
    {
      "cell_type": "markdown",
      "source": [
        "**1. Inspeksi Data**"
      ],
      "metadata": {
        "id": "RQ3AHdqXXVsI"
      },
      "id": "RQ3AHdqXXVsI"
    },
    {
      "cell_type": "code",
      "execution_count": 4,
      "id": "d41b496b",
      "metadata": {
        "colab": {
          "base_uri": "https://localhost:8080/"
        },
        "id": "d41b496b",
        "outputId": "696837ba-cf6b-4ae7-c37b-4fa664a41628"
      },
      "outputs": [
        {
          "output_type": "stream",
          "name": "stdout",
          "text": [
            "<class 'pandas.core.frame.DataFrame'>\n",
            "RangeIndex: 53940 entries, 0 to 53939\n",
            "Data columns (total 11 columns):\n",
            " #   Column      Non-Null Count  Dtype  \n",
            "---  ------      --------------  -----  \n",
            " 0   Unnamed: 0  53940 non-null  int64  \n",
            " 1   carat       53940 non-null  float64\n",
            " 2   cut         53940 non-null  object \n",
            " 3   color       53940 non-null  object \n",
            " 4   clarity     53940 non-null  object \n",
            " 5   depth       53940 non-null  float64\n",
            " 6   table       53940 non-null  float64\n",
            " 7   price       53940 non-null  int64  \n",
            " 8   x           53940 non-null  float64\n",
            " 9   y           53940 non-null  float64\n",
            " 10  z           53940 non-null  float64\n",
            "dtypes: float64(6), int64(2), object(3)\n",
            "memory usage: 4.5+ MB\n"
          ]
        }
      ],
      "source": [
        "df.info()"
      ]
    },
    {
      "cell_type": "markdown",
      "source": [
        "Bagian unnamed: 0 merupakan index (penomoran). Sehingga bisa dihapus saja karena menyebabkan kolom index menjadi dua. "
      ],
      "metadata": {
        "id": "c2908Z9ZYJs2"
      },
      "id": "c2908Z9ZYJs2"
    },
    {
      "cell_type": "code",
      "execution_count": 5,
      "id": "ab8095a7",
      "metadata": {
        "id": "ab8095a7"
      },
      "outputs": [],
      "source": [
        "df.drop('Unnamed: 0', axis=1, inplace=True)"
      ]
    },
    {
      "cell_type": "code",
      "execution_count": 6,
      "id": "272b0e45",
      "metadata": {
        "colab": {
          "base_uri": "https://localhost:8080/",
          "height": 424
        },
        "id": "272b0e45",
        "outputId": "d4e07255-7fd7-48f3-9e57-8d87ff9a873d"
      },
      "outputs": [
        {
          "output_type": "execute_result",
          "data": {
            "text/plain": [
              "       carat        cut color clarity  depth  table  price     x     y     z\n",
              "0       0.23      Ideal     E     SI2   61.5   55.0    326  3.95  3.98  2.43\n",
              "1       0.21    Premium     E     SI1   59.8   61.0    326  3.89  3.84  2.31\n",
              "2       0.23       Good     E     VS1   56.9   65.0    327  4.05  4.07  2.31\n",
              "3       0.29    Premium     I     VS2   62.4   58.0    334  4.20  4.23  2.63\n",
              "4       0.31       Good     J     SI2   63.3   58.0    335  4.34  4.35  2.75\n",
              "...      ...        ...   ...     ...    ...    ...    ...   ...   ...   ...\n",
              "53935   0.72      Ideal     D     SI1   60.8   57.0   2757  5.75  5.76  3.50\n",
              "53936   0.72       Good     D     SI1   63.1   55.0   2757  5.69  5.75  3.61\n",
              "53937   0.70  Very Good     D     SI1   62.8   60.0   2757  5.66  5.68  3.56\n",
              "53938   0.86    Premium     H     SI2   61.0   58.0   2757  6.15  6.12  3.74\n",
              "53939   0.75      Ideal     D     SI2   62.2   55.0   2757  5.83  5.87  3.64\n",
              "\n",
              "[53940 rows x 10 columns]"
            ],
            "text/html": [
              "\n",
              "  <div id=\"df-ac1de3fb-8fa1-4f0f-9766-ce5b2966b90e\">\n",
              "    <div class=\"colab-df-container\">\n",
              "      <div>\n",
              "<style scoped>\n",
              "    .dataframe tbody tr th:only-of-type {\n",
              "        vertical-align: middle;\n",
              "    }\n",
              "\n",
              "    .dataframe tbody tr th {\n",
              "        vertical-align: top;\n",
              "    }\n",
              "\n",
              "    .dataframe thead th {\n",
              "        text-align: right;\n",
              "    }\n",
              "</style>\n",
              "<table border=\"1\" class=\"dataframe\">\n",
              "  <thead>\n",
              "    <tr style=\"text-align: right;\">\n",
              "      <th></th>\n",
              "      <th>carat</th>\n",
              "      <th>cut</th>\n",
              "      <th>color</th>\n",
              "      <th>clarity</th>\n",
              "      <th>depth</th>\n",
              "      <th>table</th>\n",
              "      <th>price</th>\n",
              "      <th>x</th>\n",
              "      <th>y</th>\n",
              "      <th>z</th>\n",
              "    </tr>\n",
              "  </thead>\n",
              "  <tbody>\n",
              "    <tr>\n",
              "      <th>0</th>\n",
              "      <td>0.23</td>\n",
              "      <td>Ideal</td>\n",
              "      <td>E</td>\n",
              "      <td>SI2</td>\n",
              "      <td>61.5</td>\n",
              "      <td>55.0</td>\n",
              "      <td>326</td>\n",
              "      <td>3.95</td>\n",
              "      <td>3.98</td>\n",
              "      <td>2.43</td>\n",
              "    </tr>\n",
              "    <tr>\n",
              "      <th>1</th>\n",
              "      <td>0.21</td>\n",
              "      <td>Premium</td>\n",
              "      <td>E</td>\n",
              "      <td>SI1</td>\n",
              "      <td>59.8</td>\n",
              "      <td>61.0</td>\n",
              "      <td>326</td>\n",
              "      <td>3.89</td>\n",
              "      <td>3.84</td>\n",
              "      <td>2.31</td>\n",
              "    </tr>\n",
              "    <tr>\n",
              "      <th>2</th>\n",
              "      <td>0.23</td>\n",
              "      <td>Good</td>\n",
              "      <td>E</td>\n",
              "      <td>VS1</td>\n",
              "      <td>56.9</td>\n",
              "      <td>65.0</td>\n",
              "      <td>327</td>\n",
              "      <td>4.05</td>\n",
              "      <td>4.07</td>\n",
              "      <td>2.31</td>\n",
              "    </tr>\n",
              "    <tr>\n",
              "      <th>3</th>\n",
              "      <td>0.29</td>\n",
              "      <td>Premium</td>\n",
              "      <td>I</td>\n",
              "      <td>VS2</td>\n",
              "      <td>62.4</td>\n",
              "      <td>58.0</td>\n",
              "      <td>334</td>\n",
              "      <td>4.20</td>\n",
              "      <td>4.23</td>\n",
              "      <td>2.63</td>\n",
              "    </tr>\n",
              "    <tr>\n",
              "      <th>4</th>\n",
              "      <td>0.31</td>\n",
              "      <td>Good</td>\n",
              "      <td>J</td>\n",
              "      <td>SI2</td>\n",
              "      <td>63.3</td>\n",
              "      <td>58.0</td>\n",
              "      <td>335</td>\n",
              "      <td>4.34</td>\n",
              "      <td>4.35</td>\n",
              "      <td>2.75</td>\n",
              "    </tr>\n",
              "    <tr>\n",
              "      <th>...</th>\n",
              "      <td>...</td>\n",
              "      <td>...</td>\n",
              "      <td>...</td>\n",
              "      <td>...</td>\n",
              "      <td>...</td>\n",
              "      <td>...</td>\n",
              "      <td>...</td>\n",
              "      <td>...</td>\n",
              "      <td>...</td>\n",
              "      <td>...</td>\n",
              "    </tr>\n",
              "    <tr>\n",
              "      <th>53935</th>\n",
              "      <td>0.72</td>\n",
              "      <td>Ideal</td>\n",
              "      <td>D</td>\n",
              "      <td>SI1</td>\n",
              "      <td>60.8</td>\n",
              "      <td>57.0</td>\n",
              "      <td>2757</td>\n",
              "      <td>5.75</td>\n",
              "      <td>5.76</td>\n",
              "      <td>3.50</td>\n",
              "    </tr>\n",
              "    <tr>\n",
              "      <th>53936</th>\n",
              "      <td>0.72</td>\n",
              "      <td>Good</td>\n",
              "      <td>D</td>\n",
              "      <td>SI1</td>\n",
              "      <td>63.1</td>\n",
              "      <td>55.0</td>\n",
              "      <td>2757</td>\n",
              "      <td>5.69</td>\n",
              "      <td>5.75</td>\n",
              "      <td>3.61</td>\n",
              "    </tr>\n",
              "    <tr>\n",
              "      <th>53937</th>\n",
              "      <td>0.70</td>\n",
              "      <td>Very Good</td>\n",
              "      <td>D</td>\n",
              "      <td>SI1</td>\n",
              "      <td>62.8</td>\n",
              "      <td>60.0</td>\n",
              "      <td>2757</td>\n",
              "      <td>5.66</td>\n",
              "      <td>5.68</td>\n",
              "      <td>3.56</td>\n",
              "    </tr>\n",
              "    <tr>\n",
              "      <th>53938</th>\n",
              "      <td>0.86</td>\n",
              "      <td>Premium</td>\n",
              "      <td>H</td>\n",
              "      <td>SI2</td>\n",
              "      <td>61.0</td>\n",
              "      <td>58.0</td>\n",
              "      <td>2757</td>\n",
              "      <td>6.15</td>\n",
              "      <td>6.12</td>\n",
              "      <td>3.74</td>\n",
              "    </tr>\n",
              "    <tr>\n",
              "      <th>53939</th>\n",
              "      <td>0.75</td>\n",
              "      <td>Ideal</td>\n",
              "      <td>D</td>\n",
              "      <td>SI2</td>\n",
              "      <td>62.2</td>\n",
              "      <td>55.0</td>\n",
              "      <td>2757</td>\n",
              "      <td>5.83</td>\n",
              "      <td>5.87</td>\n",
              "      <td>3.64</td>\n",
              "    </tr>\n",
              "  </tbody>\n",
              "</table>\n",
              "<p>53940 rows × 10 columns</p>\n",
              "</div>\n",
              "      <button class=\"colab-df-convert\" onclick=\"convertToInteractive('df-ac1de3fb-8fa1-4f0f-9766-ce5b2966b90e')\"\n",
              "              title=\"Convert this dataframe to an interactive table.\"\n",
              "              style=\"display:none;\">\n",
              "        \n",
              "  <svg xmlns=\"http://www.w3.org/2000/svg\" height=\"24px\"viewBox=\"0 0 24 24\"\n",
              "       width=\"24px\">\n",
              "    <path d=\"M0 0h24v24H0V0z\" fill=\"none\"/>\n",
              "    <path d=\"M18.56 5.44l.94 2.06.94-2.06 2.06-.94-2.06-.94-.94-2.06-.94 2.06-2.06.94zm-11 1L8.5 8.5l.94-2.06 2.06-.94-2.06-.94L8.5 2.5l-.94 2.06-2.06.94zm10 10l.94 2.06.94-2.06 2.06-.94-2.06-.94-.94-2.06-.94 2.06-2.06.94z\"/><path d=\"M17.41 7.96l-1.37-1.37c-.4-.4-.92-.59-1.43-.59-.52 0-1.04.2-1.43.59L10.3 9.45l-7.72 7.72c-.78.78-.78 2.05 0 2.83L4 21.41c.39.39.9.59 1.41.59.51 0 1.02-.2 1.41-.59l7.78-7.78 2.81-2.81c.8-.78.8-2.07 0-2.86zM5.41 20L4 18.59l7.72-7.72 1.47 1.35L5.41 20z\"/>\n",
              "  </svg>\n",
              "      </button>\n",
              "      \n",
              "  <style>\n",
              "    .colab-df-container {\n",
              "      display:flex;\n",
              "      flex-wrap:wrap;\n",
              "      gap: 12px;\n",
              "    }\n",
              "\n",
              "    .colab-df-convert {\n",
              "      background-color: #E8F0FE;\n",
              "      border: none;\n",
              "      border-radius: 50%;\n",
              "      cursor: pointer;\n",
              "      display: none;\n",
              "      fill: #1967D2;\n",
              "      height: 32px;\n",
              "      padding: 0 0 0 0;\n",
              "      width: 32px;\n",
              "    }\n",
              "\n",
              "    .colab-df-convert:hover {\n",
              "      background-color: #E2EBFA;\n",
              "      box-shadow: 0px 1px 2px rgba(60, 64, 67, 0.3), 0px 1px 3px 1px rgba(60, 64, 67, 0.15);\n",
              "      fill: #174EA6;\n",
              "    }\n",
              "\n",
              "    [theme=dark] .colab-df-convert {\n",
              "      background-color: #3B4455;\n",
              "      fill: #D2E3FC;\n",
              "    }\n",
              "\n",
              "    [theme=dark] .colab-df-convert:hover {\n",
              "      background-color: #434B5C;\n",
              "      box-shadow: 0px 1px 3px 1px rgba(0, 0, 0, 0.15);\n",
              "      filter: drop-shadow(0px 1px 2px rgba(0, 0, 0, 0.3));\n",
              "      fill: #FFFFFF;\n",
              "    }\n",
              "  </style>\n",
              "\n",
              "      <script>\n",
              "        const buttonEl =\n",
              "          document.querySelector('#df-ac1de3fb-8fa1-4f0f-9766-ce5b2966b90e button.colab-df-convert');\n",
              "        buttonEl.style.display =\n",
              "          google.colab.kernel.accessAllowed ? 'block' : 'none';\n",
              "\n",
              "        async function convertToInteractive(key) {\n",
              "          const element = document.querySelector('#df-ac1de3fb-8fa1-4f0f-9766-ce5b2966b90e');\n",
              "          const dataTable =\n",
              "            await google.colab.kernel.invokeFunction('convertToInteractive',\n",
              "                                                     [key], {});\n",
              "          if (!dataTable) return;\n",
              "\n",
              "          const docLinkHtml = 'Like what you see? Visit the ' +\n",
              "            '<a target=\"_blank\" href=https://colab.research.google.com/notebooks/data_table.ipynb>data table notebook</a>'\n",
              "            + ' to learn more about interactive tables.';\n",
              "          element.innerHTML = '';\n",
              "          dataTable['output_type'] = 'display_data';\n",
              "          await google.colab.output.renderOutput(dataTable, element);\n",
              "          const docLink = document.createElement('div');\n",
              "          docLink.innerHTML = docLinkHtml;\n",
              "          element.appendChild(docLink);\n",
              "        }\n",
              "      </script>\n",
              "    </div>\n",
              "  </div>\n",
              "  "
            ]
          },
          "metadata": {},
          "execution_count": 6
        }
      ],
      "source": [
        "# recheck\n",
        "df"
      ]
    },
    {
      "cell_type": "markdown",
      "source": [
        "Tipe data pada setiap feature sudah sesuai"
      ],
      "metadata": {
        "id": "VR37eLEXPO30"
      },
      "id": "VR37eLEXPO30"
    },
    {
      "cell_type": "markdown",
      "source": [
        "**2. Menghitung missing value**"
      ],
      "metadata": {
        "id": "8t2PdIv0PRug"
      },
      "id": "8t2PdIv0PRug"
    },
    {
      "cell_type": "code",
      "execution_count": 7,
      "id": "b2a64540",
      "metadata": {
        "id": "b2a64540",
        "colab": {
          "base_uri": "https://localhost:8080/"
        },
        "outputId": "3264009b-a799-4d9a-b5d6-adcae5dc2ed4"
      },
      "outputs": [
        {
          "output_type": "stream",
          "name": "stdout",
          "text": [
            "unik dari carat\n",
            "[0.23 0.21 0.29 0.31 0.24 0.26 0.22 0.3  0.2  0.32 0.33 0.25 0.35 0.42\n",
            " 0.28 0.38 0.7  0.86 0.71 0.78 0.96 0.73 0.8  0.75 0.74 0.81 0.59 0.9\n",
            " 0.91 0.61 0.77 0.63 0.76 0.64 0.72 0.79 0.58 1.17 0.6  0.83 0.54 0.98\n",
            " 0.52 1.01 0.53 0.84 0.51 1.05 0.55 0.87 1.   0.57 0.82 1.04 0.93 1.2\n",
            " 0.99 0.34 0.43 0.36 0.95 0.89 1.02 0.97 0.56 0.85 0.92 1.27 0.66 1.12\n",
            " 0.68 1.03 0.62 1.22 1.08 0.88 0.5  1.19 0.39 0.65 1.24 1.5  0.27 0.41\n",
            " 1.13 1.06 0.69 0.4  1.14 0.94 1.29 1.52 1.16 1.21 1.23 1.09 0.67 1.11\n",
            " 1.1  1.18 1.15 1.25 1.07 1.28 1.51 0.37 1.31 1.26 1.39 1.44 1.35 1.3\n",
            " 1.32 1.41 1.36 1.45 1.34 1.58 1.54 1.38 1.33 1.74 1.64 1.47 1.4  1.55\n",
            " 1.95 2.   1.37 1.83 1.62 1.57 1.69 2.06 1.72 1.66 2.14 1.49 1.46 2.15\n",
            " 1.96 2.22 1.7  1.53 1.85 2.01 2.27 1.68 1.56 1.81 1.65 1.82 2.03 1.73\n",
            " 1.59 1.42 1.43 2.08 1.48 1.6  2.49 1.71 2.02 2.07 3.   2.21 2.1  1.91\n",
            " 2.25 2.17 2.32 2.72 1.61 2.23 2.11 2.05 1.63 2.3  2.31 1.75 2.04 2.12\n",
            " 1.77 2.5  1.8  1.67 1.84 2.2  3.01 1.88 2.33 2.68 2.34 1.9  2.16 2.74\n",
            " 1.78 1.76 2.28 1.79 1.94 2.43 1.86 3.11 1.87 2.09 1.89 2.52 2.19 2.18\n",
            " 2.77 2.63 3.05 2.46 3.02 2.38 2.24 2.26 2.36 1.99 2.29 3.65 2.45 2.4\n",
            " 2.54 3.24 2.13 2.58 3.22 3.5  2.48 1.98 2.44 2.75 1.93 2.41 2.61 2.35\n",
            " 2.51 2.7  2.55 1.97 2.53 2.37 2.47 2.8  4.01 2.56 3.04 1.92 2.39 3.4\n",
            " 4.   3.67 2.42 2.66 2.65 2.59 2.6  2.57 2.71 4.13 2.64 5.01 4.5  2.67\n",
            " 3.51 0.44 0.45 0.47 0.46 0.48 0.49]\n",
            "\n",
            "unik dari cut\n",
            "['Ideal' 'Premium' 'Good' 'Very Good' 'Fair']\n",
            "\n",
            "unik dari color\n",
            "['E' 'I' 'J' 'H' 'F' 'G' 'D']\n",
            "\n",
            "unik dari clarity\n",
            "['SI2' 'SI1' 'VS1' 'VS2' 'VVS2' 'VVS1' 'I1' 'IF']\n",
            "\n",
            "unik dari depth\n",
            "[61.5 59.8 56.9 62.4 63.3 62.8 62.3 61.9 65.1 59.4 64.  60.4 62.2 60.2\n",
            " 60.9 62.  63.4 63.8 62.7 61.  58.1 62.5 60.5 60.  60.7 59.5 58.2 64.1\n",
            " 60.8 61.8 61.2 61.1 65.2 58.4 63.1 61.6 59.3 62.6 63.  63.2 62.1 61.4\n",
            " 62.9 63.7 59.2 59.9 57.9 55.1 57.5 66.3 61.7 58.8 64.5 65.3 59.6 64.4\n",
            " 65.7 63.6 61.3 60.1 60.3 58.  64.6 59.7 57.8 67.9 60.6 57.2 64.2 65.8\n",
            " 67.4 59.  63.5 67.3 58.7 66.4 68.1 63.9 55.  58.6 64.3 58.5 65.  56.\n",
            " 58.3 53.1 64.9 59.1 58.9 66.7 57.7 65.4 53.3 53.  67.8 66.1 55.8 67.6\n",
            " 68.2 65.5 67.7 69.5 56.6 56.3 66.9 66.  67.  57.6 67.1 65.6 64.8 69.3\n",
            " 66.2 55.4 66.8 64.7 66.6 55.9 57.3 57.4 68.3 68.5 56.2 65.9 56.5 56.1\n",
            " 66.5 68.4 69.7 57.1 68.7 56.7 68.6 71.6 43.  68.8 67.5 69.  55.2 68.9\n",
            " 69.6 57.  56.4 56.8 44.  67.2 70.1 71.3 70.6 69.8 71.8 53.8 53.2 70.\n",
            " 69.4 68.  70.2 50.8 55.6 70.5 71.  69.1 55.3 54.2 51.  70.8 54.6 54.\n",
            " 54.4 52.3 55.5 78.2 71.2 52.7 54.3 69.2 73.6 52.2 69.9 53.4 72.2 79.\n",
            " 72.9 54.7]\n",
            "\n",
            "unik dari table\n",
            "[55.  61.  65.  58.  57.  56.  54.  62.  59.  63.  60.  55.3 69.  53.\n",
            " 64.  56.4 60.5 67.  52.  55.8 66.  70.  68.  54.4 57.1 53.6 54.8 54.2\n",
            " 54.9 56.7 53.9 57.8 54.1 55.1 51.  58.1 56.9 56.5 53.7 60.7 56.2 56.6\n",
            " 56.1 56.3 57.2 57.5 60.9 59.8 62.3 60.1 55.9 50.1 62.2 54.5 55.7 53.4\n",
            " 54.7 58.8 59.4 62.5 54.3 60.6 55.2 58.6 49.  50.  54.6 62.6 57.7 56.8\n",
            " 57.9 60.3 55.6 59.5 57.4 62.4 60.4 53.3 60.2 60.8 58.5 57.6 43.  59.9\n",
            " 63.5 57.3 61.4 58.3 55.4 58.2 53.5 59.7 55.5 58.7 53.8 59.1 53.2 59.3\n",
            " 61.1 51.6 95.  61.2 59.2 58.4 53.1 52.8 44.  61.3 61.9 61.8 59.6 61.5\n",
            " 58.9 64.3 62.8 71.  52.4 63.3 61.7 64.2 73.  65.4 63.4 62.1 79.  76.\n",
            " 61.6]\n",
            "\n",
            "unik dari price\n",
            "[ 326  327  334 ... 2753 2755 2756]\n",
            "\n",
            "unik dari x\n",
            "[ 3.95  3.89  4.05  4.2   4.34  3.94  4.07  3.87  4.    4.25  3.93  3.88\n",
            "  4.35  3.79  4.38  4.31  4.23  4.21  4.26  3.85  4.39  4.44  3.97  4.28\n",
            "  3.96  4.04  4.01  3.92  4.06  3.83  4.29  4.13  4.49  3.99  4.19  4.24\n",
            "  4.36  4.33  4.02  4.45  3.91  4.3   4.43  4.54  4.78  4.15  4.08  4.03\n",
            "  4.65  4.22  5.7   6.45  5.68  5.81  5.85  5.71  6.27  5.77  5.97  5.8\n",
            "  6.    5.94  5.87  5.9   6.14  5.38  5.96  6.16  5.73  5.98  5.72  6.01\n",
            "  5.64  5.57  5.63  5.65  6.09  5.56  6.11  6.03  5.89  5.69  5.62  5.88\n",
            "  5.52  5.74  5.53  5.78  5.83  5.66  5.82  5.79  5.92  5.39  5.33  6.83\n",
            "  5.41  5.25  5.24  5.67  5.61  5.76  6.05  5.6   5.19  5.84  6.39  5.34\n",
            "  5.14  5.11  5.54  6.07  6.29  6.31  6.49  5.28  5.48  5.55  6.41  6.02\n",
            "  5.91  6.17  6.61  5.12  6.19  5.43  5.99  5.95  6.37  5.93  6.46  5.22\n",
            "  5.75  6.21  6.15  6.73  5.49  4.37  4.47  4.41  4.27  4.85  4.32  4.48\n",
            "  4.5   4.56  4.94  4.09  6.72  5.15  6.3   5.86  5.23  6.08  6.62  6.26\n",
            "  6.55  6.04  6.2   6.43  6.36  6.34  5.2   5.37  6.06  5.51  6.9   6.24\n",
            "  5.36  5.16  5.45  5.47  6.12  6.6   6.35  7.12  6.25  6.1   6.75  6.22\n",
            "  6.78  6.38  6.82  6.84  5.44  4.57  4.6   4.52  4.42  4.46  6.93  6.4\n",
            "  5.27  5.21  6.47  6.13  5.59  6.44  6.53  6.5   6.32  5.08  5.09  5.18\n",
            "  5.3   6.68  6.51  6.23  5.42  4.66  4.4   6.18  5.58  5.03  6.85  6.67\n",
            "  6.28  6.57  7.26  4.18  4.77  6.52  6.42  5.5   6.54  6.92  5.46  6.77\n",
            "  6.63  5.35  5.17  4.64  6.81  6.33  5.4   7.53  6.48  6.58  7.01  6.79\n",
            "  6.59  6.66  6.64  6.99  4.67  7.56  6.65  6.69  5.13  6.8   4.58  4.55\n",
            "  4.16  4.12  4.51  6.71  6.95  4.14  4.53  6.89  6.86  6.91  6.76  6.96\n",
            "  4.99  4.61  4.69  4.71  6.56  4.1   4.7   7.4   5.29  5.26  5.31  5.32\n",
            "  7.29  7.18  6.87  6.74  7.43  6.7   7.37  7.    4.11  4.63  6.94  7.22\n",
            "  7.06  7.05  7.09  7.17  7.07  4.73  4.75  4.74  7.02  7.16  7.11  6.88\n",
            "  7.1   4.98  7.15  6.98  7.31  7.38  7.39  7.33  4.17  4.59  7.28  7.08\n",
            "  6.97  4.62  4.83  4.68  7.34  7.21  4.89  7.03  7.55  4.79  7.25  7.45\n",
            "  7.19  7.04  7.62  7.14  3.98  4.8   7.44  0.    7.13  7.32  7.2   7.48\n",
            "  8.1   8.11  7.23  7.27  7.42  7.7   4.76  4.72  7.3   7.24  7.79  7.54\n",
            "  7.63  7.46  7.74  4.84  8.01  7.59  7.36  4.87  8.04  7.78  7.8   7.71\n",
            "  8.48  7.61  8.05  7.6   7.5   7.52  7.91  7.81  8.03  8.23  7.41  7.49\n",
            "  7.68  7.57  7.35  8.26  7.84  7.58  8.    8.19  7.77  7.87  7.47  8.25\n",
            "  7.76  9.23  7.97  8.31  8.3   7.82  4.88  7.93  7.73  7.89  7.66  7.75\n",
            "  8.75  7.88  7.99  8.46  7.51  7.69  7.64  8.24  8.15  8.71  7.83  8.39\n",
            "  7.72  8.13  4.82  7.65  9.1   8.93  8.16  7.94  7.85  8.64  7.67  4.91\n",
            "  4.81  8.14  7.86  9.11  8.45  7.9   8.47  8.07  8.55  8.76  7.96  8.28\n",
            "  8.4   8.37  8.52  8.43  8.09  7.98  8.81  8.54  8.02  8.08  8.18  4.92\n",
            "  8.12  9.15  8.17  9.24  8.33  8.34  7.92  8.57  7.95  8.06  9.26  8.82\n",
            "  8.27  8.66  8.22  9.54  9.38  8.36  8.41  8.53  8.42  8.44  8.21  8.51\n",
            "  8.68  8.49  8.29  8.2   9.08  9.17  8.6   9.53  8.7   8.32  8.65  9.44\n",
            "  8.38  8.61  8.58  9.49  9.65  8.83  8.5   8.79  8.63  8.74  9.04  9.42\n",
            "  8.35  8.56  8.8   8.87  8.84  8.88  8.59  8.69  9.32  9.03  8.72 10.14\n",
            " 10.02  8.62  8.85  9.14  8.67  8.99 10.01  8.78  9.25  9.86  8.77  8.73\n",
            "  9.3   9.13  9.05 10.    8.9   8.97 10.74  9.36  9.06  8.89 10.23  9.51\n",
            "  9.66  9.35  9.41  4.86  4.9   3.9   3.86  4.93  4.96  5.04  5.    4.95\n",
            "  5.01  5.05  3.81  3.84  3.73  3.74  3.76  3.77  4.97  5.06  5.02  5.1\n",
            "  5.07  3.82]\n",
            "\n",
            "unik dari y\n",
            "[ 3.98  3.84  4.07  4.23  4.35  3.96  4.11  3.78  4.05  4.28  3.9   4.37\n",
            "  3.75  4.42  4.34  4.29  4.26  4.27  4.3   3.92  4.43  4.47  4.01  3.94\n",
            "  3.97  3.99  4.03  4.06  4.08  3.85  4.31  4.16  4.51  4.5   4.55  4.02\n",
            "  4.24  4.38  3.95  4.48  3.89  3.88  4.33  4.32  4.59  4.84  4.22  4.\n",
            "  4.25  4.13  4.09  4.04  4.12  4.67  5.72  6.33  5.67  5.73  5.85  5.9\n",
            "  5.76  5.95  5.78  5.93  5.75  5.96  5.79  5.87  5.8   5.81  6.11  5.43\n",
            "  6.    5.84  6.12  5.82  5.74  5.94  6.07  5.69  5.83  5.61  5.53  5.58\n",
            "  5.59  5.97  6.09  5.99  5.86  5.68  5.65  5.55  5.77  5.91  5.56  5.89\n",
            "  5.92  6.03  5.44  5.37  5.88  6.9   5.62  5.27  5.26  5.7   5.64  5.63\n",
            "  5.71  5.51  5.22  6.36  5.54  5.66  6.2   5.18  5.15  6.1   6.21  6.22\n",
            "  6.45  6.01  5.3   5.41  5.52  6.27  6.05  6.06  6.13  6.55  5.35  5.16\n",
            "  6.25  6.02  5.46  6.23  6.08  5.45  6.41  6.34  5.25  6.15  6.19  6.66\n",
            "  4.36  4.2   4.79  4.57  4.52  4.53  4.58  5.    6.67  5.11  6.29  6.04\n",
            "  6.53  6.65  6.5   6.16  5.6   6.39  5.21  5.4   5.98  6.83  6.37  6.31\n",
            "  5.38  6.43  5.29  5.19  6.18  5.34  5.48  5.23  6.14  5.49  5.57  6.46\n",
            "  7.05  6.26  6.75  6.74  6.77  4.66  4.46  4.56  4.41  4.4   4.39  5.2\n",
            "  6.88  5.31  6.3   6.48  5.47  5.13  6.49  6.47  6.32  5.12  5.24  6.35\n",
            "  6.61  4.7   6.24  6.28  5.08  6.44  6.79  6.57  6.92  6.6   5.28  5.42\n",
            "  5.5   7.09  4.45  4.62  4.8   6.42  6.85  6.54  6.7   6.51  6.59  6.38\n",
            "  6.69  5.06  4.69  4.44  4.49  6.71  6.4   6.17  5.39  7.42  6.52  6.95\n",
            "  6.56  6.62  6.87  6.81  7.39  6.58  6.73  5.17  4.65  4.19  4.61  6.64\n",
            "  6.91  6.8   4.15  4.71  4.21  4.68  6.84  6.86  4.96  5.04  5.09  4.64\n",
            "  4.74  4.73  4.6   4.75  7.28  5.32  6.82  6.63  7.17  7.13  4.1   4.63\n",
            "  7.35  6.68  7.26  6.78  4.17  4.9   6.89  7.01  7.1   6.72  7.    5.36\n",
            "  4.76  4.78  6.96  7.15  7.19  6.93  4.54  7.34  6.76  7.18  4.14  7.12\n",
            "  7.04  7.22  7.2   6.94  7.16  7.21  4.18  7.32  7.06  6.99  4.72  7.03\n",
            "  7.14  6.97  7.29  7.51  4.81  6.98  7.33  7.23  7.25  7.02  7.59  7.11\n",
            "  4.82  7.07  7.36  7.08  7.4   7.41  8.05  8.06  0.    4.83  7.44  7.79\n",
            "  8.07  7.24  7.7   7.45  7.56  4.88  7.27  7.95  4.87  7.31  4.77  4.89\n",
            "  8.02  7.37  7.49  7.38  7.74  7.75  7.64  8.39  7.55  8.    7.48  7.5\n",
            "  7.54  7.47  7.52  7.53  7.43  7.85  7.6   7.3   7.99  7.57  8.18  7.8\n",
            "  7.92  7.72  8.2   7.65  7.63  7.58  7.73  9.1   8.27  8.19  7.76  8.01\n",
            "  7.66  7.46  7.97  4.94  7.91  7.86  7.61  8.69  7.82  7.9   8.43  7.62\n",
            "  7.71  7.83  8.3   8.12  7.94  7.98  8.56  7.78  8.22  8.28  7.67  4.85\n",
            "  8.44  7.87  8.97  8.84  8.11  4.98  7.81  8.09  7.68  8.25  9.07  8.38\n",
            "  8.67  7.84  4.86  8.26  8.66  7.69  8.32  8.46  8.35  7.89  8.04  8.21\n",
            "  7.96  8.03  8.77  8.49  8.17  8.13  8.33  7.77  9.02  8.08  9.13  7.88\n",
            "  8.31  8.53  8.5   8.14  8.83  8.81  9.25  8.15  8.76  8.23  7.93  8.16\n",
            "  8.63  9.38  9.31  8.34  8.24  8.51  8.47  8.1   8.57  8.45  3.86  8.96\n",
            "  9.48  8.36  8.58  8.41  8.61  8.64  4.97 58.9   8.68  9.4   8.37  8.48\n",
            "  8.29  8.4   9.42  9.59  8.78  8.54  8.7   8.98  9.26  8.65  8.52  8.6\n",
            "  8.42  9.37  8.74  8.59  8.55  9.01  9.19 10.1   9.94  8.71  9.34  9.2\n",
            "  9.81  8.73  8.82  8.87  8.75  8.79  8.93  8.88  9.14  9.03  8.9   8.94\n",
            "  9.85  8.62 10.54  8.89 10.16  9.46  9.63  9.22  9.32  8.85  4.91  4.93\n",
            "  4.92  3.93  4.95  5.01  4.99  5.05  3.77  3.8   3.71  3.73  3.68  3.72\n",
            "  3.91  5.07  5.02  5.03  3.87  5.14  5.1   5.33  3.83  3.81  3.82 31.8 ]\n",
            "\n",
            "unik dari z\n",
            "[ 2.43  2.31  2.63  2.75  2.48  2.47  2.53  2.49  2.39  2.73  2.46  2.33\n",
            "  2.71  2.27  2.68  2.7   2.66  2.41  2.62  2.59  2.67  2.4   2.42  2.44\n",
            "  2.37  2.52  2.78  2.76  2.61  2.65  2.79  2.54  2.64  2.45  2.72  2.69\n",
            "  2.96  2.58  2.51  2.56  2.55  2.87  3.57  3.52  3.5   3.56  3.72  3.38\n",
            "  3.4   4.07  3.66  3.65  3.58  3.59  3.63  3.69  3.61  3.6   3.35  3.67\n",
            "  3.62  3.87  3.68  3.49  3.47  3.46  3.7   3.32  3.93  3.95  3.64  3.53\n",
            "  3.37  3.43  3.51  3.54  3.48  3.55  3.33  3.3   4.13  3.79  3.24  3.23\n",
            "  4.08  3.19  3.94  3.08  3.31  3.21  3.75  3.18  3.41  4.03  4.09  3.22\n",
            "  4.18  3.76  3.83  3.17  3.44  3.74  3.8   3.39  3.88  4.    3.98  3.85\n",
            "  3.96  3.16  3.78  3.84  4.33  4.01  3.45  2.74  2.95  2.8   2.77  2.9\n",
            "  2.82  3.77  3.9   3.73  3.34  3.86  3.89  3.81  3.42  3.71  3.91  3.2\n",
            "  3.1   4.06  3.97  4.02  4.2   4.11  3.99  4.23  3.27  3.92  4.15  2.83\n",
            "  2.81  4.04  3.82  4.21  4.1   4.26  4.29  3.26  2.88  2.5   4.16  4.14\n",
            "  4.12  3.25  4.7   4.19  3.13  4.05  4.27  4.34  3.14  2.97  4.17  3.36\n",
            "  4.42  4.28  4.38  3.29  0.    4.25  4.78  2.99  2.57  2.84  4.22  2.6\n",
            "  3.15  4.32  4.3   2.85  3.01  3.28  4.63  4.65  3.12  4.52  4.47  2.89\n",
            "  4.24  4.49  4.57  4.36  4.8   4.76  2.94  4.66  4.54  4.56  4.62  4.37\n",
            "  4.46  4.31  2.91  4.5   4.39  4.4   4.55  2.86  2.35  2.93  4.41  4.51\n",
            "  4.45  4.72  4.48  2.98  4.75  4.64  4.84  2.92  4.87  4.35  4.53  4.44\n",
            "  4.6   4.81  4.68  4.82  3.    4.58  4.97  5.12  4.59  4.61  4.95  4.98\n",
            "  4.79  4.43  5.36  2.36  5.23  5.04  4.74  5.1   4.92  5.17  4.71  5.43\n",
            "  1.07  5.29  4.67  5.07  5.19  4.93  5.15  4.73  5.08  5.06  5.45  4.85\n",
            "  5.27  4.69  5.18  5.16  4.94  4.77  5.25  5.77  5.02  5.14  5.44  5.24\n",
            "  4.99  5.41  5.58  5.76  5.22  5.31  5.09  5.28  5.47  5.01  5.    4.91\n",
            "  4.88  5.32  4.89  5.67  5.97  5.33  5.2   4.83  5.53  5.37  5.65  1.53\n",
            "  4.9   5.21  5.05  5.11  5.35  1.41  4.96  5.98  5.03  5.73  4.86  5.6\n",
            "  5.56  5.66  5.26  5.91  3.04  5.3   5.79  5.13  6.38  5.49  5.34  8.06\n",
            "  5.85  5.57  5.92  6.03  3.02  5.48  5.62  5.46  3.03  5.55  5.39  5.5\n",
            "  6.17  6.24  5.75  6.16  5.51  6.27  6.31  5.69  6.13  5.54  5.86  5.38\n",
            "  5.72  5.4   5.61  6.43  5.52  5.42  6.98  5.9   6.72  5.64  5.59  3.06\n",
            "  3.05  3.07  3.09  3.11  2.26  2.24  2.32  2.28  2.3   2.38  2.34  2.29\n",
            "  2.06  2.25 31.8 ]\n",
            "\n"
          ]
        }
      ],
      "source": [
        "# melakukan pengecekan unique pada setiap features\n",
        "for x in df.columns:\n",
        "  print(f\"unik dari {x}\")\n",
        "  print(f\"{df[x].unique()}\")\n",
        "  print()"
      ]
    },
    {
      "cell_type": "code",
      "execution_count": 8,
      "id": "c6bea692",
      "metadata": {
        "id": "c6bea692",
        "colab": {
          "base_uri": "https://localhost:8080/"
        },
        "outputId": "416c6fca-f499-485a-b3b5-31444f392af4"
      },
      "outputs": [
        {
          "output_type": "execute_result",
          "data": {
            "text/plain": [
              "carat      0\n",
              "cut        0\n",
              "color      0\n",
              "clarity    0\n",
              "depth      0\n",
              "table      0\n",
              "price      0\n",
              "x          0\n",
              "y          0\n",
              "z          0\n",
              "dtype: int64"
            ]
          },
          "metadata": {},
          "execution_count": 8
        }
      ],
      "source": [
        "#melihat jumlah null pada kolom\n",
        "df.isnull().sum()"
      ]
    },
    {
      "cell_type": "markdown",
      "source": [
        "Bentuk null pada kolom bisa saja tidak hanya berbentuk NaN, tetapi berbentuk (?). Tetapi, pada setiap unique feature, tidak terdapat NaN maupun (?). Setelah dilakukan penjumlahan, tidak terdapat nilai null pada setiap kolom"
      ],
      "metadata": {
        "id": "ugMM_elCPziM"
      },
      "id": "ugMM_elCPziM"
    },
    {
      "cell_type": "markdown",
      "source": [
        "**3. Distribusi kolom**"
      ],
      "metadata": {
        "id": "K9cmWQFXQe06"
      },
      "id": "K9cmWQFXQe06"
    },
    {
      "cell_type": "markdown",
      "source": [
        "**kolom x**"
      ],
      "metadata": {
        "id": "feO4pgHUikvc"
      },
      "id": "feO4pgHUikvc"
    },
    {
      "cell_type": "code",
      "execution_count": 9,
      "id": "90789c5d",
      "metadata": {
        "id": "90789c5d",
        "colab": {
          "base_uri": "https://localhost:8080/",
          "height": 279
        },
        "outputId": "638a7152-39ab-4565-e3a9-19794a747d61"
      },
      "outputs": [
        {
          "output_type": "display_data",
          "data": {
            "text/plain": [
              "<Figure size 432x288 with 1 Axes>"
            ],
            "image/png": "[encoded data removed]"
          },
          "metadata": {
            "needs_background": "light"
          }
        }
      ],
      "source": [
        "df.plot(x=\"x\", y=\"price\", kind=\"scatter\")\n",
        "plt.show()"
      ]
    },
    {
      "cell_type": "markdown",
      "source": [
        "Dari grafik diatas, dapat dilihat bahwa terdapat kecenderungan peningkatan harga ketika diamond semakin panjang."
      ],
      "metadata": {
        "id": "KQLQaYnlR18a"
      },
      "id": "KQLQaYnlR18a"
    },
    {
      "cell_type": "code",
      "source": [
        "df.loc[df[\"x\"] < 1]"
      ],
      "metadata": {
        "colab": {
          "base_uri": "https://localhost:8080/",
          "height": 300
        },
        "id": "KICIFEkeTMxz",
        "outputId": "b648cc4e-e541-4b89-eafc-a62b8dcb7ba6"
      },
      "id": "KICIFEkeTMxz",
      "execution_count": 10,
      "outputs": [
        {
          "output_type": "execute_result",
          "data": {
            "text/plain": [
              "       carat        cut color clarity  depth  table  price    x     y    z\n",
              "11182   1.07      Ideal     F     SI2   61.6   56.0   4954  0.0  6.62  0.0\n",
              "11963   1.00  Very Good     H     VS2   63.3   53.0   5139  0.0  0.00  0.0\n",
              "15951   1.14       Fair     G     VS1   57.5   67.0   6381  0.0  0.00  0.0\n",
              "24520   1.56      Ideal     G     VS2   62.2   54.0  12800  0.0  0.00  0.0\n",
              "26243   1.20    Premium     D    VVS1   62.1   59.0  15686  0.0  0.00  0.0\n",
              "27429   2.25    Premium     H     SI2   62.8   59.0  18034  0.0  0.00  0.0\n",
              "49556   0.71       Good     F     SI2   64.1   60.0   2130  0.0  0.00  0.0\n",
              "49557   0.71       Good     F     SI2   64.1   60.0   2130  0.0  0.00  0.0"
            ],
            "text/html": [
              "\n",
              "  <div id=\"df-de68eb38-98e2-42b2-add1-09cb7a32d772\">\n",
              "    <div class=\"colab-df-container\">\n",
              "      <div>\n",
              "<style scoped>\n",
              "    .dataframe tbody tr th:only-of-type {\n",
              "        vertical-align: middle;\n",
              "    }\n",
              "\n",
              "    .dataframe tbody tr th {\n",
              "        vertical-align: top;\n",
              "    }\n",
              "\n",
              "    .dataframe thead th {\n",
              "        text-align: right;\n",
              "    }\n",
              "</style>\n",
              "<table border=\"1\" class=\"dataframe\">\n",
              "  <thead>\n",
              "    <tr style=\"text-align: right;\">\n",
              "      <th></th>\n",
              "      <th>carat</th>\n",
              "      <th>cut</th>\n",
              "      <th>color</th>\n",
              "      <th>clarity</th>\n",
              "      <th>depth</th>\n",
              "      <th>table</th>\n",
              "      <th>price</th>\n",
              "      <th>x</th>\n",
              "      <th>y</th>\n",
              "      <th>z</th>\n",
              "    </tr>\n",
              "  </thead>\n",
              "  <tbody>\n",
              "    <tr>\n",
              "      <th>11182</th>\n",
              "      <td>1.07</td>\n",
              "      <td>Ideal</td>\n",
              "      <td>F</td>\n",
              "      <td>SI2</td>\n",
              "      <td>61.6</td>\n",
              "      <td>56.0</td>\n",
              "      <td>4954</td>\n",
              "      <td>0.0</td>\n",
              "      <td>6.62</td>\n",
              "      <td>0.0</td>\n",
              "    </tr>\n",
              "    <tr>\n",
              "      <th>11963</th>\n",
              "      <td>1.00</td>\n",
              "      <td>Very Good</td>\n",
              "      <td>H</td>\n",
              "      <td>VS2</td>\n",
              "      <td>63.3</td>\n",
              "      <td>53.0</td>\n",
              "      <td>5139</td>\n",
              "      <td>0.0</td>\n",
              "      <td>0.00</td>\n",
              "      <td>0.0</td>\n",
              "    </tr>\n",
              "    <tr>\n",
              "      <th>15951</th>\n",
              "      <td>1.14</td>\n",
              "      <td>Fair</td>\n",
              "      <td>G</td>\n",
              "      <td>VS1</td>\n",
              "      <td>57.5</td>\n",
              "      <td>67.0</td>\n",
              "      <td>6381</td>\n",
              "      <td>0.0</td>\n",
              "      <td>0.00</td>\n",
              "      <td>0.0</td>\n",
              "    </tr>\n",
              "    <tr>\n",
              "      <th>24520</th>\n",
              "      <td>1.56</td>\n",
              "      <td>Ideal</td>\n",
              "      <td>G</td>\n",
              "      <td>VS2</td>\n",
              "      <td>62.2</td>\n",
              "      <td>54.0</td>\n",
              "      <td>12800</td>\n",
              "      <td>0.0</td>\n",
              "      <td>0.00</td>\n",
              "      <td>0.0</td>\n",
              "    </tr>\n",
              "    <tr>\n",
              "      <th>26243</th>\n",
              "      <td>1.20</td>\n",
              "      <td>Premium</td>\n",
              "      <td>D</td>\n",
              "      <td>VVS1</td>\n",
              "      <td>62.1</td>\n",
              "      <td>59.0</td>\n",
              "      <td>15686</td>\n",
              "      <td>0.0</td>\n",
              "      <td>0.00</td>\n",
              "      <td>0.0</td>\n",
              "    </tr>\n",
              "    <tr>\n",
              "      <th>27429</th>\n",
              "      <td>2.25</td>\n",
              "      <td>Premium</td>\n",
              "      <td>H</td>\n",
              "      <td>SI2</td>\n",
              "      <td>62.8</td>\n",
              "      <td>59.0</td>\n",
              "      <td>18034</td>\n",
              "      <td>0.0</td>\n",
              "      <td>0.00</td>\n",
              "      <td>0.0</td>\n",
              "    </tr>\n",
              "    <tr>\n",
              "      <th>49556</th>\n",
              "      <td>0.71</td>\n",
              "      <td>Good</td>\n",
              "      <td>F</td>\n",
              "      <td>SI2</td>\n",
              "      <td>64.1</td>\n",
              "      <td>60.0</td>\n",
              "      <td>2130</td>\n",
              "      <td>0.0</td>\n",
              "      <td>0.00</td>\n",
              "      <td>0.0</td>\n",
              "    </tr>\n",
              "    <tr>\n",
              "      <th>49557</th>\n",
              "      <td>0.71</td>\n",
              "      <td>Good</td>\n",
              "      <td>F</td>\n",
              "      <td>SI2</td>\n",
              "      <td>64.1</td>\n",
              "      <td>60.0</td>\n",
              "      <td>2130</td>\n",
              "      <td>0.0</td>\n",
              "      <td>0.00</td>\n",
              "      <td>0.0</td>\n",
              "    </tr>\n",
              "  </tbody>\n",
              "</table>\n",
              "</div>\n",
              "      <button class=\"colab-df-convert\" onclick=\"convertToInteractive('df-de68eb38-98e2-42b2-add1-09cb7a32d772')\"\n",
              "              title=\"Convert this dataframe to an interactive table.\"\n",
              "              style=\"display:none;\">\n",
              "        \n",
              "  <svg xmlns=\"http://www.w3.org/2000/svg\" height=\"24px\"viewBox=\"0 0 24 24\"\n",
              "       width=\"24px\">\n",
              "    <path d=\"M0 0h24v24H0V0z\" fill=\"none\"/>\n",
              "    <path d=\"M18.56 5.44l.94 2.06.94-2.06 2.06-.94-2.06-.94-.94-2.06-.94 2.06-2.06.94zm-11 1L8.5 8.5l.94-2.06 2.06-.94-2.06-.94L8.5 2.5l-.94 2.06-2.06.94zm10 10l.94 2.06.94-2.06 2.06-.94-2.06-.94-.94-2.06-.94 2.06-2.06.94z\"/><path d=\"M17.41 7.96l-1.37-1.37c-.4-.4-.92-.59-1.43-.59-.52 0-1.04.2-1.43.59L10.3 9.45l-7.72 7.72c-.78.78-.78 2.05 0 2.83L4 21.41c.39.39.9.59 1.41.59.51 0 1.02-.2 1.41-.59l7.78-7.78 2.81-2.81c.8-.78.8-2.07 0-2.86zM5.41 20L4 18.59l7.72-7.72 1.47 1.35L5.41 20z\"/>\n",
              "  </svg>\n",
              "      </button>\n",
              "      \n",
              "  <style>\n",
              "    .colab-df-container {\n",
              "      display:flex;\n",
              "      flex-wrap:wrap;\n",
              "      gap: 12px;\n",
              "    }\n",
              "\n",
              "    .colab-df-convert {\n",
              "      background-color: #E8F0FE;\n",
              "      border: none;\n",
              "      border-radius: 50%;\n",
              "      cursor: pointer;\n",
              "      display: none;\n",
              "      fill: #1967D2;\n",
              "      height: 32px;\n",
              "      padding: 0 0 0 0;\n",
              "      width: 32px;\n",
              "    }\n",
              "\n",
              "    .colab-df-convert:hover {\n",
              "      background-color: #E2EBFA;\n",
              "      box-shadow: 0px 1px 2px rgba(60, 64, 67, 0.3), 0px 1px 3px 1px rgba(60, 64, 67, 0.15);\n",
              "      fill: #174EA6;\n",
              "    }\n",
              "\n",
              "    [theme=dark] .colab-df-convert {\n",
              "      background-color: #3B4455;\n",
              "      fill: #D2E3FC;\n",
              "    }\n",
              "\n",
              "    [theme=dark] .colab-df-convert:hover {\n",
              "      background-color: #434B5C;\n",
              "      box-shadow: 0px 1px 3px 1px rgba(0, 0, 0, 0.15);\n",
              "      filter: drop-shadow(0px 1px 2px rgba(0, 0, 0, 0.3));\n",
              "      fill: #FFFFFF;\n",
              "    }\n",
              "  </style>\n",
              "\n",
              "      <script>\n",
              "        const buttonEl =\n",
              "          document.querySelector('#df-de68eb38-98e2-42b2-add1-09cb7a32d772 button.colab-df-convert');\n",
              "        buttonEl.style.display =\n",
              "          google.colab.kernel.accessAllowed ? 'block' : 'none';\n",
              "\n",
              "        async function convertToInteractive(key) {\n",
              "          const element = document.querySelector('#df-de68eb38-98e2-42b2-add1-09cb7a32d772');\n",
              "          const dataTable =\n",
              "            await google.colab.kernel.invokeFunction('convertToInteractive',\n",
              "                                                     [key], {});\n",
              "          if (!dataTable) return;\n",
              "\n",
              "          const docLinkHtml = 'Like what you see? Visit the ' +\n",
              "            '<a target=\"_blank\" href=https://colab.research.google.com/notebooks/data_table.ipynb>data table notebook</a>'\n",
              "            + ' to learn more about interactive tables.';\n",
              "          element.innerHTML = '';\n",
              "          dataTable['output_type'] = 'display_data';\n",
              "          await google.colab.output.renderOutput(dataTable, element);\n",
              "          const docLink = document.createElement('div');\n",
              "          docLink.innerHTML = docLinkHtml;\n",
              "          element.appendChild(docLink);\n",
              "        }\n",
              "      </script>\n",
              "    </div>\n",
              "  </div>\n",
              "  "
            ]
          },
          "metadata": {},
          "execution_count": 10
        }
      ]
    },
    {
      "cell_type": "markdown",
      "source": [
        "Namun, terdapat kejanggalan yaitu ternyata terdapat beberapa nilai 0 pada kolom x. Hal ini bisa saja disebabkan karena nilai x belum diinput pada 8 baris diatas"
      ],
      "metadata": {
        "id": "PDovg7U3TqEv"
      },
      "id": "PDovg7U3TqEv"
    },
    {
      "cell_type": "markdown",
      "source": [
        "melakukan imputasi pada baris ke 11182"
      ],
      "metadata": {
        "id": "SvnttU-jcfPJ"
      },
      "id": "SvnttU-jcfPJ"
    },
    {
      "cell_type": "code",
      "source": [
        "x_si2 = df[(df[\"cut\"]==\"Ideal\") & (df[\"color\"]==\"F\") & (df[\"clarity\"]==\"SI2\") & (df[\"carat\"]==1.07)]\n",
        "x_si2 = pd.DataFrame(x_si2)"
      ],
      "metadata": {
        "id": "uhxan9mVUDMS"
      },
      "id": "uhxan9mVUDMS",
      "execution_count": 11,
      "outputs": []
    },
    {
      "cell_type": "code",
      "execution_count": 12,
      "id": "f8d46309",
      "metadata": {
        "id": "f8d46309",
        "colab": {
          "base_uri": "https://localhost:8080/"
        },
        "outputId": "91d6dce2-b880-410d-b8f3-deb634bb4ca5"
      },
      "outputs": [
        {
          "output_type": "execute_result",
          "data": {
            "text/plain": [
              "6.019166666666667"
            ]
          },
          "metadata": {},
          "execution_count": 12
        }
      ],
      "source": [
        "x_si2_average = x_si2[\"x\"].mean()\n",
        "x_si2_average"
      ]
    },
    {
      "cell_type": "code",
      "source": [
        "z_si2_average = x_si2[\"z\"].mean()\n",
        "z_si2_average"
      ],
      "metadata": {
        "colab": {
          "base_uri": "https://localhost:8080/"
        },
        "id": "FOrhk4TbcG6z",
        "outputId": "31fc6f0d-c0f8-48d3-8964-e5d36da85ff1"
      },
      "id": "FOrhk4TbcG6z",
      "execution_count": 13,
      "outputs": [
        {
          "output_type": "execute_result",
          "data": {
            "text/plain": [
              "3.713333333333333"
            ]
          },
          "metadata": {},
          "execution_count": 13
        }
      ]
    },
    {
      "cell_type": "code",
      "execution_count": 14,
      "id": "85f131d8",
      "metadata": {
        "id": "85f131d8",
        "colab": {
          "base_uri": "https://localhost:8080/"
        },
        "outputId": "6d4c7402-3e2c-421e-c278-55da92b3b173"
      },
      "outputs": [
        {
          "output_type": "execute_result",
          "data": {
            "text/plain": [
              "carat       1.07\n",
              "cut        Ideal\n",
              "color          F\n",
              "clarity      SI2\n",
              "depth       61.6\n",
              "table       56.0\n",
              "price       4954\n",
              "x           6.01\n",
              "y           6.62\n",
              "z           3.71\n",
              "Name: 11182, dtype: object"
            ]
          },
          "metadata": {},
          "execution_count": 14
        }
      ],
      "source": [
        "df.loc[11182, \"x\"] = 6.01\n",
        "df.loc[11182,\"z\"] = 3.71\n",
        "df.loc[11182]"
      ]
    },
    {
      "cell_type": "markdown",
      "source": [
        "melakukan imputasi pada baris ke 11963"
      ],
      "metadata": {
        "id": "kb8euv35cjfr"
      },
      "id": "kb8euv35cjfr"
    },
    {
      "cell_type": "code",
      "execution_count": 15,
      "id": "b9607370",
      "metadata": {
        "id": "b9607370"
      },
      "outputs": [],
      "source": [
        "x_vs2 = df[(df[\"cut\"]==\"Very Good\") & (df[\"color\"]==\"H\") & (df[\"clarity\"]==\"VS2\") & (df[\"carat\"]==1.00)]\n",
        "x_vs2 = pd.DataFrame(x_vs2)"
      ]
    },
    {
      "cell_type": "code",
      "execution_count": 16,
      "id": "2427da31",
      "metadata": {
        "id": "2427da31",
        "colab": {
          "base_uri": "https://localhost:8080/"
        },
        "outputId": "05e6f745-9569-4333-d284-169ba598e8a3"
      },
      "outputs": [
        {
          "output_type": "execute_result",
          "data": {
            "text/plain": [
              "5.8172727272727265"
            ]
          },
          "metadata": {},
          "execution_count": 16
        }
      ],
      "source": [
        "x_vs2_average = x_vs2[\"x\"].mean()\n",
        "x_vs2_average"
      ]
    },
    {
      "cell_type": "code",
      "source": [
        "y_vs2_average = x_vs2[\"y\"].mean()\n",
        "y_vs2_average"
      ],
      "metadata": {
        "colab": {
          "base_uri": "https://localhost:8080/"
        },
        "id": "ITIt0FURc3RV",
        "outputId": "4f7347d3-b635-4657-dedf-a7b3a6b891ec"
      },
      "id": "ITIt0FURc3RV",
      "execution_count": 17,
      "outputs": [
        {
          "output_type": "execute_result",
          "data": {
            "text/plain": [
              "5.805454545454546"
            ]
          },
          "metadata": {},
          "execution_count": 17
        }
      ]
    },
    {
      "cell_type": "code",
      "source": [
        "z_vs2_average = x_vs2[\"z\"].mean()\n",
        "z_vs2_average"
      ],
      "metadata": {
        "colab": {
          "base_uri": "https://localhost:8080/"
        },
        "id": "YLUFRfRkc7r1",
        "outputId": "26fe74bd-cf3e-402c-eaf8-2e82e5a80a00"
      },
      "id": "YLUFRfRkc7r1",
      "execution_count": 18,
      "outputs": [
        {
          "output_type": "execute_result",
          "data": {
            "text/plain": [
              "3.6136363636363638"
            ]
          },
          "metadata": {},
          "execution_count": 18
        }
      ]
    },
    {
      "cell_type": "code",
      "source": [
        "df.loc[11963, \"x\"] = 5.81\n",
        "df.loc[11963, \"y\"] = 5.80\n",
        "df.loc[11963, \"z\"] = 3.61\n",
        "df.loc[11963]"
      ],
      "metadata": {
        "colab": {
          "base_uri": "https://localhost:8080/"
        },
        "id": "dn9koArrdGD4",
        "outputId": "55c3ac51-1afd-4f96-a41d-18a48a8aa89e"
      },
      "id": "dn9koArrdGD4",
      "execution_count": 19,
      "outputs": [
        {
          "output_type": "execute_result",
          "data": {
            "text/plain": [
              "carat            1.0\n",
              "cut        Very Good\n",
              "color              H\n",
              "clarity          VS2\n",
              "depth           63.3\n",
              "table           53.0\n",
              "price           5139\n",
              "x               5.81\n",
              "y                5.8\n",
              "z               3.61\n",
              "Name: 11963, dtype: object"
            ]
          },
          "metadata": {},
          "execution_count": 19
        }
      ]
    },
    {
      "cell_type": "markdown",
      "source": [
        "melakukan imputasi pada baris ke 15951"
      ],
      "metadata": {
        "id": "7k8cCWHPdlbk"
      },
      "id": "7k8cCWHPdlbk"
    },
    {
      "cell_type": "code",
      "source": [
        "x_vs1 = df[(df[\"cut\"]==\"Fair\") & (df[\"color\"]==\"G\") & (df[\"clarity\"]==\"VS1\") & (df[\"carat\"]==1.14)]\n",
        "x_vs1 = pd.DataFrame(x_vs1)"
      ],
      "metadata": {
        "id": "-Bzebppid2_5"
      },
      "id": "-Bzebppid2_5",
      "execution_count": 70,
      "outputs": []
    },
    {
      "cell_type": "code",
      "source": [
        "x_vs1_average = x_vs1[\"x\"].mean()\n",
        "x_vs1_average"
      ],
      "metadata": {
        "colab": {
          "base_uri": "https://localhost:8080/"
        },
        "id": "2Cq24gK7eFSi",
        "outputId": "5031a4c7-072b-4dc5-c972-acc030102d68"
      },
      "id": "2Cq24gK7eFSi",
      "execution_count": 71,
      "outputs": [
        {
          "output_type": "execute_result",
          "data": {
            "text/plain": [
              "5.59"
            ]
          },
          "metadata": {},
          "execution_count": 71
        }
      ]
    },
    {
      "cell_type": "code",
      "source": [
        "y_vs1_average = x_vs1[\"y\"].mean()\n",
        "y_vs1_average"
      ],
      "metadata": {
        "colab": {
          "base_uri": "https://localhost:8080/"
        },
        "id": "ZvKdbOlXeL5V",
        "outputId": "ccf175d0-69d2-4e8c-d148-058cc8b53d88"
      },
      "id": "ZvKdbOlXeL5V",
      "execution_count": 72,
      "outputs": [
        {
          "output_type": "execute_result",
          "data": {
            "text/plain": [
              "5.53"
            ]
          },
          "metadata": {},
          "execution_count": 72
        }
      ]
    },
    {
      "cell_type": "code",
      "source": [
        "z_vs1_average = x_vs1[\"z\"].mean()\n",
        "z_vs1_average"
      ],
      "metadata": {
        "colab": {
          "base_uri": "https://localhost:8080/"
        },
        "id": "IHvNVLVGeQWJ",
        "outputId": "f734ecfa-af51-4a57-c966-b2f77d0d1a46"
      },
      "id": "IHvNVLVGeQWJ",
      "execution_count": 73,
      "outputs": [
        {
          "output_type": "execute_result",
          "data": {
            "text/plain": [
              "3.52"
            ]
          },
          "metadata": {},
          "execution_count": 73
        }
      ]
    },
    {
      "cell_type": "code",
      "source": [
        "df.loc[15951, \"x\"] = 5.59\n",
        "df.loc[15951, \"y\"] = 5.53\n",
        "df.loc[15951, \"z\"] = 3.52\n",
        "df.loc[15951]"
      ],
      "metadata": {
        "colab": {
          "base_uri": "https://localhost:8080/"
        },
        "id": "V1H6_JH1eUks",
        "outputId": "3377fee9-6a8b-473b-e980-d4f22ed42189"
      },
      "id": "V1H6_JH1eUks",
      "execution_count": 24,
      "outputs": [
        {
          "output_type": "execute_result",
          "data": {
            "text/plain": [
              "carat      1.14\n",
              "cut        Fair\n",
              "color         G\n",
              "clarity     VS1\n",
              "depth      57.5\n",
              "table      67.0\n",
              "price      6381\n",
              "x          5.59\n",
              "y          5.53\n",
              "z          3.52\n",
              "Name: 15951, dtype: object"
            ]
          },
          "metadata": {},
          "execution_count": 24
        }
      ]
    },
    {
      "cell_type": "markdown",
      "source": [
        "melakukan imputasi pada baris ke 24520"
      ],
      "metadata": {
        "id": "5q8ex2Sfegtx"
      },
      "id": "5q8ex2Sfegtx"
    },
    {
      "cell_type": "code",
      "source": [
        "x_vs2_2 = df[(df[\"cut\"]==\"Ideal\") & (df[\"color\"]==\"G\") & (df[\"clarity\"]==\"VS2\") & (df[\"carat\"]==1.56)]\n",
        "x_vs2_2 = pd.DataFrame(x_vs2_2)"
      ],
      "metadata": {
        "id": "EK3CMqdoemdZ"
      },
      "id": "EK3CMqdoemdZ",
      "execution_count": 74,
      "outputs": []
    },
    {
      "cell_type": "code",
      "source": [
        "x_vs2_2_average = x_vs2_2[\"x\"].mean()\n",
        "x_vs2_2_average"
      ],
      "metadata": {
        "colab": {
          "base_uri": "https://localhost:8080/"
        },
        "id": "WwFT7Myhe0tw",
        "outputId": "cd271772-d00e-4e3b-ee68-b5cbebf181c8"
      },
      "id": "WwFT7Myhe0tw",
      "execution_count": 75,
      "outputs": [
        {
          "output_type": "execute_result",
          "data": {
            "text/plain": [
              "7.436666666666667"
            ]
          },
          "metadata": {},
          "execution_count": 75
        }
      ]
    },
    {
      "cell_type": "code",
      "source": [
        "y_vs2_2_average = x_vs2_2[\"y\"].mean()\n",
        "y_vs2_2_average"
      ],
      "metadata": {
        "colab": {
          "base_uri": "https://localhost:8080/"
        },
        "id": "YyhshEsoe8GW",
        "outputId": "253bb6ff-f171-44f4-a626-088a567c98e3"
      },
      "id": "YyhshEsoe8GW",
      "execution_count": 76,
      "outputs": [
        {
          "output_type": "execute_result",
          "data": {
            "text/plain": [
              "7.486666666666667"
            ]
          },
          "metadata": {},
          "execution_count": 76
        }
      ]
    },
    {
      "cell_type": "code",
      "source": [
        "z_vs2_2_average = x_vs2_2[\"z\"].mean()\n",
        "z_vs2_2_average"
      ],
      "metadata": {
        "colab": {
          "base_uri": "https://localhost:8080/"
        },
        "id": "dBOWHuh0e-8i",
        "outputId": "ecd25e6d-b86b-458b-d212-6903f5e8abcd"
      },
      "id": "dBOWHuh0e-8i",
      "execution_count": 77,
      "outputs": [
        {
          "output_type": "execute_result",
          "data": {
            "text/plain": [
              "4.609999999999999"
            ]
          },
          "metadata": {},
          "execution_count": 77
        }
      ]
    },
    {
      "cell_type": "code",
      "source": [
        "df.loc[24520, \"x\"] = 7.43\n",
        "df.loc[24520, \"y\"] = 7.48\n",
        "df.loc[24520, \"z\"] = 4.60\n",
        "df.loc[24520]"
      ],
      "metadata": {
        "colab": {
          "base_uri": "https://localhost:8080/"
        },
        "id": "roGjTW79fBih",
        "outputId": "46100238-d7bc-40a9-d904-0614b8dbeadb"
      },
      "id": "roGjTW79fBih",
      "execution_count": 78,
      "outputs": [
        {
          "output_type": "execute_result",
          "data": {
            "text/plain": [
              "carat       1.56\n",
              "cut        Ideal\n",
              "color          G\n",
              "clarity      VS2\n",
              "depth       62.2\n",
              "table       54.0\n",
              "price      12800\n",
              "x           7.43\n",
              "y           7.48\n",
              "z            4.6\n",
              "Name: 24520, dtype: object"
            ]
          },
          "metadata": {},
          "execution_count": 78
        }
      ]
    },
    {
      "cell_type": "markdown",
      "source": [
        "melakukan imputasi pada baris ke 26243"
      ],
      "metadata": {
        "id": "FRsWw7zffPof"
      },
      "id": "FRsWw7zffPof"
    },
    {
      "cell_type": "code",
      "source": [
        "x_vvs1 = df[(df[\"cut\"]==\"Premium\") & (df[\"color\"]==\"D\") & (df[\"clarity\"]==\"VVS1\") & (df[\"carat\"]==1.20)]\n",
        "x_vvs1 = pd.DataFrame(x_vvs1)"
      ],
      "metadata": {
        "id": "Xwm4Joy6fBsQ"
      },
      "id": "Xwm4Joy6fBsQ",
      "execution_count": 79,
      "outputs": []
    },
    {
      "cell_type": "code",
      "source": [
        "x_vvs1_average = x_vvs1[\"x\"].mean()\n",
        "x_vvs1_average"
      ],
      "metadata": {
        "colab": {
          "base_uri": "https://localhost:8080/"
        },
        "id": "QYnDKM_tfece",
        "outputId": "a7a01187-aa03-40bc-f8cb-958d118049e8"
      },
      "id": "QYnDKM_tfece",
      "execution_count": 80,
      "outputs": [
        {
          "output_type": "execute_result",
          "data": {
            "text/plain": [
              "4.94"
            ]
          },
          "metadata": {},
          "execution_count": 80
        }
      ]
    },
    {
      "cell_type": "code",
      "source": [
        "y_vvs1_average = x_vvs1[\"y\"].mean()\n",
        "y_vvs1_average"
      ],
      "metadata": {
        "colab": {
          "base_uri": "https://localhost:8080/"
        },
        "id": "7p5fNmWifkaH",
        "outputId": "8ca7601c-d308-48ef-8a51-54a62d84f88d"
      },
      "id": "7p5fNmWifkaH",
      "execution_count": 81,
      "outputs": [
        {
          "output_type": "execute_result",
          "data": {
            "text/plain": [
              "4.92"
            ]
          },
          "metadata": {},
          "execution_count": 81
        }
      ]
    },
    {
      "cell_type": "code",
      "source": [
        "z_vvs1_average = x_vvs1[\"z\"].mean()\n",
        "z_vvs1_average"
      ],
      "metadata": {
        "colab": {
          "base_uri": "https://localhost:8080/"
        },
        "id": "HL5czw1Sfl9n",
        "outputId": "8cd4da3d-947e-415d-bcc4-e595f8c8653f"
      },
      "id": "HL5czw1Sfl9n",
      "execution_count": 82,
      "outputs": [
        {
          "output_type": "execute_result",
          "data": {
            "text/plain": [
              "3.01"
            ]
          },
          "metadata": {},
          "execution_count": 82
        }
      ]
    },
    {
      "cell_type": "code",
      "source": [
        "df.loc[26243, \"x\"] = 4.94\n",
        "df.loc[26243, \"y\"] = 4.92\n",
        "df.loc[26243, \"z\"] = 3.01\n",
        "df.loc[26243]"
      ],
      "metadata": {
        "colab": {
          "base_uri": "https://localhost:8080/"
        },
        "id": "4htuBywffuAa",
        "outputId": "8e7f48c5-a190-4f03-b36f-319c1445857c"
      },
      "id": "4htuBywffuAa",
      "execution_count": 34,
      "outputs": [
        {
          "output_type": "execute_result",
          "data": {
            "text/plain": [
              "carat          1.2\n",
              "cut        Premium\n",
              "color            D\n",
              "clarity       VVS1\n",
              "depth         62.1\n",
              "table         59.0\n",
              "price        15686\n",
              "x             4.94\n",
              "y             4.92\n",
              "z             3.01\n",
              "Name: 26243, dtype: object"
            ]
          },
          "metadata": {},
          "execution_count": 34
        }
      ]
    },
    {
      "cell_type": "markdown",
      "source": [
        "melakukan imputasi pada baris ke 27429\t"
      ],
      "metadata": {
        "id": "Oac-6t-ff3sT"
      },
      "id": "Oac-6t-ff3sT"
    },
    {
      "cell_type": "code",
      "source": [
        "x_si2_2 = df[(df[\"cut\"]==\"Premium\") & (df[\"color\"]==\"H\") & (df[\"clarity\"]==\"SI2\") & (df[\"carat\"]==2.25)]\n",
        "x_si2_2 = pd.DataFrame(x_si2_2)"
      ],
      "metadata": {
        "id": "2tpa24eaf9BN"
      },
      "id": "2tpa24eaf9BN",
      "execution_count": 83,
      "outputs": []
    },
    {
      "cell_type": "code",
      "source": [
        "x_si2_2_average = x_si2_2[\"x\"].mean()\n",
        "x_si2_2_average"
      ],
      "metadata": {
        "colab": {
          "base_uri": "https://localhost:8080/"
        },
        "id": "oxNiYDXxgOgT",
        "outputId": "fa52d530-3976-42a0-96a6-12d357808181"
      },
      "id": "oxNiYDXxgOgT",
      "execution_count": 84,
      "outputs": [
        {
          "output_type": "execute_result",
          "data": {
            "text/plain": [
              "6.92"
            ]
          },
          "metadata": {},
          "execution_count": 84
        }
      ]
    },
    {
      "cell_type": "code",
      "source": [
        "y_si2_2_average = x_si2_2[\"y\"].mean()\n",
        "y_si2_2_average"
      ],
      "metadata": {
        "colab": {
          "base_uri": "https://localhost:8080/"
        },
        "id": "0mICgrGTgVos",
        "outputId": "5a01ddb7-55cb-4db4-f662-315a76af2425"
      },
      "id": "0mICgrGTgVos",
      "execution_count": 85,
      "outputs": [
        {
          "output_type": "execute_result",
          "data": {
            "text/plain": [
              "6.97"
            ]
          },
          "metadata": {},
          "execution_count": 85
        }
      ]
    },
    {
      "cell_type": "code",
      "source": [
        "z_si2_2_average = x_si2_2[\"z\"].mean()\n",
        "z_si2_2_average"
      ],
      "metadata": {
        "colab": {
          "base_uri": "https://localhost:8080/"
        },
        "id": "zaQCsNLsgX3c",
        "outputId": "9f55b843-4eab-4514-a7ae-8d7a62f7bd4a"
      },
      "id": "zaQCsNLsgX3c",
      "execution_count": 86,
      "outputs": [
        {
          "output_type": "execute_result",
          "data": {
            "text/plain": [
              "4.22"
            ]
          },
          "metadata": {},
          "execution_count": 86
        }
      ]
    },
    {
      "cell_type": "code",
      "source": [
        "df.loc[27429, \"x\"] = 6.92\n",
        "df.loc[27429, \"y\"] = 6.97\n",
        "df.loc[27429, \"z\"] = 4.22\n",
        "df.loc[27429]"
      ],
      "metadata": {
        "colab": {
          "base_uri": "https://localhost:8080/"
        },
        "id": "2q0XqTnGga2U",
        "outputId": "0f95abcf-cb04-4472-b5e5-94a64357a791"
      },
      "id": "2q0XqTnGga2U",
      "execution_count": 87,
      "outputs": [
        {
          "output_type": "execute_result",
          "data": {
            "text/plain": [
              "carat         2.25\n",
              "cut        Premium\n",
              "color            H\n",
              "clarity        SI2\n",
              "depth         62.8\n",
              "table         59.0\n",
              "price        18034\n",
              "x             6.92\n",
              "y             6.97\n",
              "z             4.22\n",
              "Name: 27429, dtype: object"
            ]
          },
          "metadata": {},
          "execution_count": 87
        }
      ]
    },
    {
      "cell_type": "markdown",
      "source": [
        "melakukan imputasi pada baris ke 49556\n",
        "\n"
      ],
      "metadata": {
        "id": "w2IoDw-Qgk4w"
      },
      "id": "w2IoDw-Qgk4w"
    },
    {
      "cell_type": "code",
      "source": [
        "x_si2_3 = df[(df[\"cut\"]==\"Good\") & (df[\"color\"]==\"F\") & (df[\"clarity\"]==\"SI2\") & (df[\"carat\"]==0.71)]\n",
        "x_si2_3 = pd.DataFrame(x_si2_3)"
      ],
      "metadata": {
        "id": "3_nlKDtXgs5B"
      },
      "id": "3_nlKDtXgs5B",
      "execution_count": 88,
      "outputs": []
    },
    {
      "cell_type": "code",
      "source": [
        "x_si2_3_average = x_si2_3[\"x\"].mean()\n",
        "x_si2_3_average"
      ],
      "metadata": {
        "colab": {
          "base_uri": "https://localhost:8080/"
        },
        "id": "h-mMvPA4g7Qt",
        "outputId": "38026a2a-8b28-4c77-b3c3-9c679a6405df"
      },
      "id": "h-mMvPA4g7Qt",
      "execution_count": 89,
      "outputs": [
        {
          "output_type": "execute_result",
          "data": {
            "text/plain": [
              "5.628"
            ]
          },
          "metadata": {},
          "execution_count": 89
        }
      ]
    },
    {
      "cell_type": "code",
      "source": [
        "y_si2_3_average = x_si2_3[\"y\"].mean()\n",
        "y_si2_3_average"
      ],
      "metadata": {
        "colab": {
          "base_uri": "https://localhost:8080/"
        },
        "id": "pd0GiGY1hAM1",
        "outputId": "f2f36ff8-6f79-4c5f-f895-5f1d844ec23b"
      },
      "id": "pd0GiGY1hAM1",
      "execution_count": 90,
      "outputs": [
        {
          "output_type": "execute_result",
          "data": {
            "text/plain": [
              "5.608"
            ]
          },
          "metadata": {},
          "execution_count": 90
        }
      ]
    },
    {
      "cell_type": "code",
      "source": [
        "z_si2_3_average = x_si2_3[\"z\"].mean()\n",
        "z_si2_3_average"
      ],
      "metadata": {
        "colab": {
          "base_uri": "https://localhost:8080/"
        },
        "id": "VxRsNao9hDSO",
        "outputId": "a8b3789f-33fb-47f2-a35a-1a30f6449eb2"
      },
      "id": "VxRsNao9hDSO",
      "execution_count": 91,
      "outputs": [
        {
          "output_type": "execute_result",
          "data": {
            "text/plain": [
              "3.594"
            ]
          },
          "metadata": {},
          "execution_count": 91
        }
      ]
    },
    {
      "cell_type": "code",
      "source": [
        "df.loc[49556, \"x\"] = 5.62\n",
        "df.loc[49556, \"y\"] = 5.60\n",
        "df.loc[49556, \"z\"] = 3.59\n",
        "df.loc[49556]"
      ],
      "metadata": {
        "colab": {
          "base_uri": "https://localhost:8080/"
        },
        "id": "tw5-hWt_hfFL",
        "outputId": "ef2935d4-02b8-489f-f422-50d80a1a96cb"
      },
      "id": "tw5-hWt_hfFL",
      "execution_count": 92,
      "outputs": [
        {
          "output_type": "execute_result",
          "data": {
            "text/plain": [
              "carat      0.71\n",
              "cut        Good\n",
              "color         F\n",
              "clarity     SI2\n",
              "depth      64.1\n",
              "table      60.0\n",
              "price      2130\n",
              "x          5.62\n",
              "y           5.6\n",
              "z          3.59\n",
              "Name: 49556, dtype: object"
            ]
          },
          "metadata": {},
          "execution_count": 92
        }
      ]
    },
    {
      "cell_type": "markdown",
      "source": [
        "melakukan imputasi pada baris ke 49557"
      ],
      "metadata": {
        "id": "OyCP31dVhmyu"
      },
      "id": "OyCP31dVhmyu"
    },
    {
      "cell_type": "code",
      "source": [
        "x_si2_4 = df[(df[\"cut\"]==\"Good\") & (df[\"color\"]==\"F\") & (df[\"clarity\"]==\"SI2\") & (df[\"carat\"]==0.71)]\n",
        "x_si2_4 = pd.DataFrame(x_si2_4)"
      ],
      "metadata": {
        "id": "_IdjBYWdhsaJ"
      },
      "id": "_IdjBYWdhsaJ",
      "execution_count": 93,
      "outputs": []
    },
    {
      "cell_type": "code",
      "source": [
        "x_si2_4_average = x_si2_4[\"x\"].mean()\n",
        "x_si2_4_average"
      ],
      "metadata": {
        "colab": {
          "base_uri": "https://localhost:8080/"
        },
        "id": "G4ocgTNMiGZF",
        "outputId": "6d2d15af-93bf-43ec-c74e-e04859d0e6b4"
      },
      "id": "G4ocgTNMiGZF",
      "execution_count": 94,
      "outputs": [
        {
          "output_type": "execute_result",
          "data": {
            "text/plain": [
              "5.624"
            ]
          },
          "metadata": {},
          "execution_count": 94
        }
      ]
    },
    {
      "cell_type": "code",
      "source": [
        "y_si2_4_average = x_si2_4[\"y\"].mean()\n",
        "y_si2_4_average"
      ],
      "metadata": {
        "colab": {
          "base_uri": "https://localhost:8080/"
        },
        "id": "abw3b7aoiKhT",
        "outputId": "d6d40cfc-1527-465c-d439-f9cd54baf217"
      },
      "id": "abw3b7aoiKhT",
      "execution_count": 95,
      "outputs": [
        {
          "output_type": "execute_result",
          "data": {
            "text/plain": [
              "5.603999999999999"
            ]
          },
          "metadata": {},
          "execution_count": 95
        }
      ]
    },
    {
      "cell_type": "code",
      "source": [
        "z_si2_4_average = x_si2_4[\"z\"].mean()\n",
        "z_si2_4_average"
      ],
      "metadata": {
        "colab": {
          "base_uri": "https://localhost:8080/"
        },
        "id": "pBkJ_AOxiMx4",
        "outputId": "b5793d5a-7e18-41db-9a4c-156f8b485c42"
      },
      "id": "pBkJ_AOxiMx4",
      "execution_count": 96,
      "outputs": [
        {
          "output_type": "execute_result",
          "data": {
            "text/plain": [
              "3.592"
            ]
          },
          "metadata": {},
          "execution_count": 96
        }
      ]
    },
    {
      "cell_type": "code",
      "source": [
        "df.loc[49557, \"x\"] = 5.62\n",
        "df.loc[49557, \"y\"] = 5.60\n",
        "df.loc[49557, \"z\"] = 3.59\n",
        "df.loc[49557]"
      ],
      "metadata": {
        "colab": {
          "base_uri": "https://localhost:8080/"
        },
        "id": "xWh4ssHLiPYP",
        "outputId": "ba39de17-b51a-440b-d5ad-2d3b012d1d91"
      },
      "id": "xWh4ssHLiPYP",
      "execution_count": 97,
      "outputs": [
        {
          "output_type": "execute_result",
          "data": {
            "text/plain": [
              "carat      0.71\n",
              "cut        Good\n",
              "color         F\n",
              "clarity     SI2\n",
              "depth      64.1\n",
              "table      60.0\n",
              "price      2130\n",
              "x          5.62\n",
              "y           5.6\n",
              "z          3.59\n",
              "Name: 49557, dtype: object"
            ]
          },
          "metadata": {},
          "execution_count": 97
        }
      ]
    },
    {
      "cell_type": "code",
      "source": [
        "# after imputasi\n",
        "df.plot(x=\"x\", y=\"price\", kind=\"scatter\")\n",
        "plt.show()"
      ],
      "metadata": {
        "colab": {
          "base_uri": "https://localhost:8080/",
          "height": 279
        },
        "id": "IoViK6kzieD3",
        "outputId": "7369b8b3-de97-46bf-ccf4-8ebbabd59ada"
      },
      "id": "IoViK6kzieD3",
      "execution_count": 98,
      "outputs": [
        {
          "output_type": "display_data",
          "data": {
            "text/plain": [
              "<Figure size 432x288 with 1 Axes>"
            ],
            "image/png": "[encoded data removed]"
          },
          "metadata": {
            "needs_background": "light"
          }
        }
      ]
    },
    {
      "cell_type": "markdown",
      "source": [
        "**kolom y**"
      ],
      "metadata": {
        "id": "oJ0wuJppisW9"
      },
      "id": "oJ0wuJppisW9"
    },
    {
      "cell_type": "code",
      "source": [
        "df.plot(x=\"y\", y=\"price\", kind=\"scatter\")\n",
        "plt.show()"
      ],
      "metadata": {
        "colab": {
          "base_uri": "https://localhost:8080/",
          "height": 279
        },
        "id": "2_sJfQ6piuL1",
        "outputId": "d8b5938f-1d2f-43d7-8573-7d22c8c65ef0"
      },
      "id": "2_sJfQ6piuL1",
      "execution_count": 51,
      "outputs": [
        {
          "output_type": "display_data",
          "data": {
            "text/plain": [
              "<Figure size 432x288 with 1 Axes>"
            ],
            "image/png": "[encoded data removed]"
          },
          "metadata": {
            "needs_background": "light"
          }
        }
      ]
    },
    {
      "cell_type": "markdown",
      "source": [
        "Bentuk grafik persebaran kolom y cukup aneh, sehingga kita perlu cek karena mungkin terdapat nilai 0 seperti kolom x"
      ],
      "metadata": {
        "id": "K6_1HJN8i1p5"
      },
      "id": "K6_1HJN8i1p5"
    },
    {
      "cell_type": "code",
      "source": [
        "df.loc[df[\"y\"] == 0]"
      ],
      "metadata": {
        "colab": {
          "base_uri": "https://localhost:8080/",
          "height": 49
        },
        "id": "HBn7c7CFi1Ik",
        "outputId": "bc3b148f-c4f1-4f52-9abc-41eca717be65"
      },
      "id": "HBn7c7CFi1Ik",
      "execution_count": 52,
      "outputs": [
        {
          "output_type": "execute_result",
          "data": {
            "text/plain": [
              "Empty DataFrame\n",
              "Columns: [carat, cut, color, clarity, depth, table, price, x, y, z]\n",
              "Index: []"
            ],
            "text/html": [
              "\n",
              "  <div id=\"df-c5025664-64d3-46fe-a648-d7da5cce733f\">\n",
              "    <div class=\"colab-df-container\">\n",
              "      <div>\n",
              "<style scoped>\n",
              "    .dataframe tbody tr th:only-of-type {\n",
              "        vertical-align: middle;\n",
              "    }\n",
              "\n",
              "    .dataframe tbody tr th {\n",
              "        vertical-align: top;\n",
              "    }\n",
              "\n",
              "    .dataframe thead th {\n",
              "        text-align: right;\n",
              "    }\n",
              "</style>\n",
              "<table border=\"1\" class=\"dataframe\">\n",
              "  <thead>\n",
              "    <tr style=\"text-align: right;\">\n",
              "      <th></th>\n",
              "      <th>carat</th>\n",
              "      <th>cut</th>\n",
              "      <th>color</th>\n",
              "      <th>clarity</th>\n",
              "      <th>depth</th>\n",
              "      <th>table</th>\n",
              "      <th>price</th>\n",
              "      <th>x</th>\n",
              "      <th>y</th>\n",
              "      <th>z</th>\n",
              "    </tr>\n",
              "  </thead>\n",
              "  <tbody>\n",
              "  </tbody>\n",
              "</table>\n",
              "</div>\n",
              "      <button class=\"colab-df-convert\" onclick=\"convertToInteractive('df-c5025664-64d3-46fe-a648-d7da5cce733f')\"\n",
              "              title=\"Convert this dataframe to an interactive table.\"\n",
              "              style=\"display:none;\">\n",
              "        \n",
              "  <svg xmlns=\"http://www.w3.org/2000/svg\" height=\"24px\"viewBox=\"0 0 24 24\"\n",
              "       width=\"24px\">\n",
              "    <path d=\"M0 0h24v24H0V0z\" fill=\"none\"/>\n",
              "    <path d=\"M18.56 5.44l.94 2.06.94-2.06 2.06-.94-2.06-.94-.94-2.06-.94 2.06-2.06.94zm-11 1L8.5 8.5l.94-2.06 2.06-.94-2.06-.94L8.5 2.5l-.94 2.06-2.06.94zm10 10l.94 2.06.94-2.06 2.06-.94-2.06-.94-.94-2.06-.94 2.06-2.06.94z\"/><path d=\"M17.41 7.96l-1.37-1.37c-.4-.4-.92-.59-1.43-.59-.52 0-1.04.2-1.43.59L10.3 9.45l-7.72 7.72c-.78.78-.78 2.05 0 2.83L4 21.41c.39.39.9.59 1.41.59.51 0 1.02-.2 1.41-.59l7.78-7.78 2.81-2.81c.8-.78.8-2.07 0-2.86zM5.41 20L4 18.59l7.72-7.72 1.47 1.35L5.41 20z\"/>\n",
              "  </svg>\n",
              "      </button>\n",
              "      \n",
              "  <style>\n",
              "    .colab-df-container {\n",
              "      display:flex;\n",
              "      flex-wrap:wrap;\n",
              "      gap: 12px;\n",
              "    }\n",
              "\n",
              "    .colab-df-convert {\n",
              "      background-color: #E8F0FE;\n",
              "      border: none;\n",
              "      border-radius: 50%;\n",
              "      cursor: pointer;\n",
              "      display: none;\n",
              "      fill: #1967D2;\n",
              "      height: 32px;\n",
              "      padding: 0 0 0 0;\n",
              "      width: 32px;\n",
              "    }\n",
              "\n",
              "    .colab-df-convert:hover {\n",
              "      background-color: #E2EBFA;\n",
              "      box-shadow: 0px 1px 2px rgba(60, 64, 67, 0.3), 0px 1px 3px 1px rgba(60, 64, 67, 0.15);\n",
              "      fill: #174EA6;\n",
              "    }\n",
              "\n",
              "    [theme=dark] .colab-df-convert {\n",
              "      background-color: #3B4455;\n",
              "      fill: #D2E3FC;\n",
              "    }\n",
              "\n",
              "    [theme=dark] .colab-df-convert:hover {\n",
              "      background-color: #434B5C;\n",
              "      box-shadow: 0px 1px 3px 1px rgba(0, 0, 0, 0.15);\n",
              "      filter: drop-shadow(0px 1px 2px rgba(0, 0, 0, 0.3));\n",
              "      fill: #FFFFFF;\n",
              "    }\n",
              "  </style>\n",
              "\n",
              "      <script>\n",
              "        const buttonEl =\n",
              "          document.querySelector('#df-c5025664-64d3-46fe-a648-d7da5cce733f button.colab-df-convert');\n",
              "        buttonEl.style.display =\n",
              "          google.colab.kernel.accessAllowed ? 'block' : 'none';\n",
              "\n",
              "        async function convertToInteractive(key) {\n",
              "          const element = document.querySelector('#df-c5025664-64d3-46fe-a648-d7da5cce733f');\n",
              "          const dataTable =\n",
              "            await google.colab.kernel.invokeFunction('convertToInteractive',\n",
              "                                                     [key], {});\n",
              "          if (!dataTable) return;\n",
              "\n",
              "          const docLinkHtml = 'Like what you see? Visit the ' +\n",
              "            '<a target=\"_blank\" href=https://colab.research.google.com/notebooks/data_table.ipynb>data table notebook</a>'\n",
              "            + ' to learn more about interactive tables.';\n",
              "          element.innerHTML = '';\n",
              "          dataTable['output_type'] = 'display_data';\n",
              "          await google.colab.output.renderOutput(dataTable, element);\n",
              "          const docLink = document.createElement('div');\n",
              "          docLink.innerHTML = docLinkHtml;\n",
              "          element.appendChild(docLink);\n",
              "        }\n",
              "      </script>\n",
              "    </div>\n",
              "  </div>\n",
              "  "
            ]
          },
          "metadata": {},
          "execution_count": 52
        }
      ]
    },
    {
      "cell_type": "markdown",
      "source": [
        "Ternyata tidak terdapat nilai 0 pada kolom y, sehingga mungkin karena disebabkan nilai y yang besar yaitu >30"
      ],
      "metadata": {
        "id": "1e89zKdrozMC"
      },
      "id": "1e89zKdrozMC"
    },
    {
      "cell_type": "code",
      "source": [
        "df.loc[df[\"y\"] > 30]"
      ],
      "metadata": {
        "colab": {
          "base_uri": "https://localhost:8080/",
          "height": 112
        },
        "id": "OPAkAIbBo4SW",
        "outputId": "6ad52ee8-1084-46e2-da91-10ab6dc8baad"
      },
      "id": "OPAkAIbBo4SW",
      "execution_count": 53,
      "outputs": [
        {
          "output_type": "execute_result",
          "data": {
            "text/plain": [
              "       carat      cut color clarity  depth  table  price     x     y     z\n",
              "24067   2.00  Premium     H     SI2   58.9   57.0  12210  8.09  58.9  8.06\n",
              "49189   0.51    Ideal     E     VS1   61.8   55.0   2075  5.15  31.8  5.12"
            ],
            "text/html": [
              "\n",
              "  <div id=\"df-49be18d7-0266-4fb9-b1c1-b5e999f45920\">\n",
              "    <div class=\"colab-df-container\">\n",
              "      <div>\n",
              "<style scoped>\n",
              "    .dataframe tbody tr th:only-of-type {\n",
              "        vertical-align: middle;\n",
              "    }\n",
              "\n",
              "    .dataframe tbody tr th {\n",
              "        vertical-align: top;\n",
              "    }\n",
              "\n",
              "    .dataframe thead th {\n",
              "        text-align: right;\n",
              "    }\n",
              "</style>\n",
              "<table border=\"1\" class=\"dataframe\">\n",
              "  <thead>\n",
              "    <tr style=\"text-align: right;\">\n",
              "      <th></th>\n",
              "      <th>carat</th>\n",
              "      <th>cut</th>\n",
              "      <th>color</th>\n",
              "      <th>clarity</th>\n",
              "      <th>depth</th>\n",
              "      <th>table</th>\n",
              "      <th>price</th>\n",
              "      <th>x</th>\n",
              "      <th>y</th>\n",
              "      <th>z</th>\n",
              "    </tr>\n",
              "  </thead>\n",
              "  <tbody>\n",
              "    <tr>\n",
              "      <th>24067</th>\n",
              "      <td>2.00</td>\n",
              "      <td>Premium</td>\n",
              "      <td>H</td>\n",
              "      <td>SI2</td>\n",
              "      <td>58.9</td>\n",
              "      <td>57.0</td>\n",
              "      <td>12210</td>\n",
              "      <td>8.09</td>\n",
              "      <td>58.9</td>\n",
              "      <td>8.06</td>\n",
              "    </tr>\n",
              "    <tr>\n",
              "      <th>49189</th>\n",
              "      <td>0.51</td>\n",
              "      <td>Ideal</td>\n",
              "      <td>E</td>\n",
              "      <td>VS1</td>\n",
              "      <td>61.8</td>\n",
              "      <td>55.0</td>\n",
              "      <td>2075</td>\n",
              "      <td>5.15</td>\n",
              "      <td>31.8</td>\n",
              "      <td>5.12</td>\n",
              "    </tr>\n",
              "  </tbody>\n",
              "</table>\n",
              "</div>\n",
              "      <button class=\"colab-df-convert\" onclick=\"convertToInteractive('df-49be18d7-0266-4fb9-b1c1-b5e999f45920')\"\n",
              "              title=\"Convert this dataframe to an interactive table.\"\n",
              "              style=\"display:none;\">\n",
              "        \n",
              "  <svg xmlns=\"http://www.w3.org/2000/svg\" height=\"24px\"viewBox=\"0 0 24 24\"\n",
              "       width=\"24px\">\n",
              "    <path d=\"M0 0h24v24H0V0z\" fill=\"none\"/>\n",
              "    <path d=\"M18.56 5.44l.94 2.06.94-2.06 2.06-.94-2.06-.94-.94-2.06-.94 2.06-2.06.94zm-11 1L8.5 8.5l.94-2.06 2.06-.94-2.06-.94L8.5 2.5l-.94 2.06-2.06.94zm10 10l.94 2.06.94-2.06 2.06-.94-2.06-.94-.94-2.06-.94 2.06-2.06.94z\"/><path d=\"M17.41 7.96l-1.37-1.37c-.4-.4-.92-.59-1.43-.59-.52 0-1.04.2-1.43.59L10.3 9.45l-7.72 7.72c-.78.78-.78 2.05 0 2.83L4 21.41c.39.39.9.59 1.41.59.51 0 1.02-.2 1.41-.59l7.78-7.78 2.81-2.81c.8-.78.8-2.07 0-2.86zM5.41 20L4 18.59l7.72-7.72 1.47 1.35L5.41 20z\"/>\n",
              "  </svg>\n",
              "      </button>\n",
              "      \n",
              "  <style>\n",
              "    .colab-df-container {\n",
              "      display:flex;\n",
              "      flex-wrap:wrap;\n",
              "      gap: 12px;\n",
              "    }\n",
              "\n",
              "    .colab-df-convert {\n",
              "      background-color: #E8F0FE;\n",
              "      border: none;\n",
              "      border-radius: 50%;\n",
              "      cursor: pointer;\n",
              "      display: none;\n",
              "      fill: #1967D2;\n",
              "      height: 32px;\n",
              "      padding: 0 0 0 0;\n",
              "      width: 32px;\n",
              "    }\n",
              "\n",
              "    .colab-df-convert:hover {\n",
              "      background-color: #E2EBFA;\n",
              "      box-shadow: 0px 1px 2px rgba(60, 64, 67, 0.3), 0px 1px 3px 1px rgba(60, 64, 67, 0.15);\n",
              "      fill: #174EA6;\n",
              "    }\n",
              "\n",
              "    [theme=dark] .colab-df-convert {\n",
              "      background-color: #3B4455;\n",
              "      fill: #D2E3FC;\n",
              "    }\n",
              "\n",
              "    [theme=dark] .colab-df-convert:hover {\n",
              "      background-color: #434B5C;\n",
              "      box-shadow: 0px 1px 3px 1px rgba(0, 0, 0, 0.15);\n",
              "      filter: drop-shadow(0px 1px 2px rgba(0, 0, 0, 0.3));\n",
              "      fill: #FFFFFF;\n",
              "    }\n",
              "  </style>\n",
              "\n",
              "      <script>\n",
              "        const buttonEl =\n",
              "          document.querySelector('#df-49be18d7-0266-4fb9-b1c1-b5e999f45920 button.colab-df-convert');\n",
              "        buttonEl.style.display =\n",
              "          google.colab.kernel.accessAllowed ? 'block' : 'none';\n",
              "\n",
              "        async function convertToInteractive(key) {\n",
              "          const element = document.querySelector('#df-49be18d7-0266-4fb9-b1c1-b5e999f45920');\n",
              "          const dataTable =\n",
              "            await google.colab.kernel.invokeFunction('convertToInteractive',\n",
              "                                                     [key], {});\n",
              "          if (!dataTable) return;\n",
              "\n",
              "          const docLinkHtml = 'Like what you see? Visit the ' +\n",
              "            '<a target=\"_blank\" href=https://colab.research.google.com/notebooks/data_table.ipynb>data table notebook</a>'\n",
              "            + ' to learn more about interactive tables.';\n",
              "          element.innerHTML = '';\n",
              "          dataTable['output_type'] = 'display_data';\n",
              "          await google.colab.output.renderOutput(dataTable, element);\n",
              "          const docLink = document.createElement('div');\n",
              "          docLink.innerHTML = docLinkHtml;\n",
              "          element.appendChild(docLink);\n",
              "        }\n",
              "      </script>\n",
              "    </div>\n",
              "  </div>\n",
              "  "
            ]
          },
          "metadata": {},
          "execution_count": 53
        }
      ]
    },
    {
      "cell_type": "markdown",
      "source": [
        "Mari kita cek pada baris ke 24067"
      ],
      "metadata": {
        "id": "GmrDKNfkCKgK"
      },
      "id": "GmrDKNfkCKgK"
    },
    {
      "cell_type": "code",
      "source": [
        "y_si_2 = df[(df[\"cut\"]==\"Premium\") & (df[\"color\"]==\"H\") & (df[\"clarity\"]==\"SI2\") & (df[\"carat\"]==2.00)]\n",
        "y_si_2"
      ],
      "metadata": {
        "colab": {
          "base_uri": "https://localhost:8080/",
          "height": 394
        },
        "id": "4EUk8DbDCM2r",
        "outputId": "67796397-500c-4da4-c449-ec3b9db5c154"
      },
      "id": "4EUk8DbDCM2r",
      "execution_count": 54,
      "outputs": [
        {
          "output_type": "execute_result",
          "data": {
            "text/plain": [
              "       carat      cut color clarity  depth  table  price     x      y     z\n",
              "23080    2.0  Premium     H     SI2   61.4   59.0  11108  8.07   8.00  4.93\n",
              "23194    2.0  Premium     H     SI2   62.1   60.0  11202  8.10   8.01  5.30\n",
              "23882    2.0  Premium     H     SI2   62.8   57.0  11975  8.05   8.01  5.04\n",
              "24003    2.0  Premium     H     SI2   62.7   58.0  12168  8.06   8.01  5.04\n",
              "24067    2.0  Premium     H     SI2   58.9   57.0  12210  8.09  58.90  8.06\n",
              "24614    2.0  Premium     H     SI2   62.5   58.0  12940  8.14   8.03  5.05\n",
              "24771    2.0  Premium     H     SI2   61.5   61.0  13134  8.13   8.10  4.99\n",
              "26081    2.0  Premium     H     SI2   60.7   60.0  15312  8.07   8.11  4.91\n",
              "26146    2.0  Premium     H     SI2   59.7   61.0  15451  8.20   8.15  4.88\n",
              "26147    2.0  Premium     H     SI2   60.7   60.0  15451  8.11   8.07  4.91\n",
              "26465    2.0  Premium     H     SI2   62.8   56.0  16031  8.04   7.98  5.03"
            ],
            "text/html": [
              "\n",
              "  <div id=\"df-ee0a6986-450e-4f2c-8aff-3f5e0a52061f\">\n",
              "    <div class=\"colab-df-container\">\n",
              "      <div>\n",
              "<style scoped>\n",
              "    .dataframe tbody tr th:only-of-type {\n",
              "        vertical-align: middle;\n",
              "    }\n",
              "\n",
              "    .dataframe tbody tr th {\n",
              "        vertical-align: top;\n",
              "    }\n",
              "\n",
              "    .dataframe thead th {\n",
              "        text-align: right;\n",
              "    }\n",
              "</style>\n",
              "<table border=\"1\" class=\"dataframe\">\n",
              "  <thead>\n",
              "    <tr style=\"text-align: right;\">\n",
              "      <th></th>\n",
              "      <th>carat</th>\n",
              "      <th>cut</th>\n",
              "      <th>color</th>\n",
              "      <th>clarity</th>\n",
              "      <th>depth</th>\n",
              "      <th>table</th>\n",
              "      <th>price</th>\n",
              "      <th>x</th>\n",
              "      <th>y</th>\n",
              "      <th>z</th>\n",
              "    </tr>\n",
              "  </thead>\n",
              "  <tbody>\n",
              "    <tr>\n",
              "      <th>23080</th>\n",
              "      <td>2.0</td>\n",
              "      <td>Premium</td>\n",
              "      <td>H</td>\n",
              "      <td>SI2</td>\n",
              "      <td>61.4</td>\n",
              "      <td>59.0</td>\n",
              "      <td>11108</td>\n",
              "      <td>8.07</td>\n",
              "      <td>8.00</td>\n",
              "      <td>4.93</td>\n",
              "    </tr>\n",
              "    <tr>\n",
              "      <th>23194</th>\n",
              "      <td>2.0</td>\n",
              "      <td>Premium</td>\n",
              "      <td>H</td>\n",
              "      <td>SI2</td>\n",
              "      <td>62.1</td>\n",
              "      <td>60.0</td>\n",
              "      <td>11202</td>\n",
              "      <td>8.10</td>\n",
              "      <td>8.01</td>\n",
              "      <td>5.30</td>\n",
              "    </tr>\n",
              "    <tr>\n",
              "      <th>23882</th>\n",
              "      <td>2.0</td>\n",
              "      <td>Premium</td>\n",
              "      <td>H</td>\n",
              "      <td>SI2</td>\n",
              "      <td>62.8</td>\n",
              "      <td>57.0</td>\n",
              "      <td>11975</td>\n",
              "      <td>8.05</td>\n",
              "      <td>8.01</td>\n",
              "      <td>5.04</td>\n",
              "    </tr>\n",
              "    <tr>\n",
              "      <th>24003</th>\n",
              "      <td>2.0</td>\n",
              "      <td>Premium</td>\n",
              "      <td>H</td>\n",
              "      <td>SI2</td>\n",
              "      <td>62.7</td>\n",
              "      <td>58.0</td>\n",
              "      <td>12168</td>\n",
              "      <td>8.06</td>\n",
              "      <td>8.01</td>\n",
              "      <td>5.04</td>\n",
              "    </tr>\n",
              "    <tr>\n",
              "      <th>24067</th>\n",
              "      <td>2.0</td>\n",
              "      <td>Premium</td>\n",
              "      <td>H</td>\n",
              "      <td>SI2</td>\n",
              "      <td>58.9</td>\n",
              "      <td>57.0</td>\n",
              "      <td>12210</td>\n",
              "      <td>8.09</td>\n",
              "      <td>58.90</td>\n",
              "      <td>8.06</td>\n",
              "    </tr>\n",
              "    <tr>\n",
              "      <th>24614</th>\n",
              "      <td>2.0</td>\n",
              "      <td>Premium</td>\n",
              "      <td>H</td>\n",
              "      <td>SI2</td>\n",
              "      <td>62.5</td>\n",
              "      <td>58.0</td>\n",
              "      <td>12940</td>\n",
              "      <td>8.14</td>\n",
              "      <td>8.03</td>\n",
              "      <td>5.05</td>\n",
              "    </tr>\n",
              "    <tr>\n",
              "      <th>24771</th>\n",
              "      <td>2.0</td>\n",
              "      <td>Premium</td>\n",
              "      <td>H</td>\n",
              "      <td>SI2</td>\n",
              "      <td>61.5</td>\n",
              "      <td>61.0</td>\n",
              "      <td>13134</td>\n",
              "      <td>8.13</td>\n",
              "      <td>8.10</td>\n",
              "      <td>4.99</td>\n",
              "    </tr>\n",
              "    <tr>\n",
              "      <th>26081</th>\n",
              "      <td>2.0</td>\n",
              "      <td>Premium</td>\n",
              "      <td>H</td>\n",
              "      <td>SI2</td>\n",
              "      <td>60.7</td>\n",
              "      <td>60.0</td>\n",
              "      <td>15312</td>\n",
              "      <td>8.07</td>\n",
              "      <td>8.11</td>\n",
              "      <td>4.91</td>\n",
              "    </tr>\n",
              "    <tr>\n",
              "      <th>26146</th>\n",
              "      <td>2.0</td>\n",
              "      <td>Premium</td>\n",
              "      <td>H</td>\n",
              "      <td>SI2</td>\n",
              "      <td>59.7</td>\n",
              "      <td>61.0</td>\n",
              "      <td>15451</td>\n",
              "      <td>8.20</td>\n",
              "      <td>8.15</td>\n",
              "      <td>4.88</td>\n",
              "    </tr>\n",
              "    <tr>\n",
              "      <th>26147</th>\n",
              "      <td>2.0</td>\n",
              "      <td>Premium</td>\n",
              "      <td>H</td>\n",
              "      <td>SI2</td>\n",
              "      <td>60.7</td>\n",
              "      <td>60.0</td>\n",
              "      <td>15451</td>\n",
              "      <td>8.11</td>\n",
              "      <td>8.07</td>\n",
              "      <td>4.91</td>\n",
              "    </tr>\n",
              "    <tr>\n",
              "      <th>26465</th>\n",
              "      <td>2.0</td>\n",
              "      <td>Premium</td>\n",
              "      <td>H</td>\n",
              "      <td>SI2</td>\n",
              "      <td>62.8</td>\n",
              "      <td>56.0</td>\n",
              "      <td>16031</td>\n",
              "      <td>8.04</td>\n",
              "      <td>7.98</td>\n",
              "      <td>5.03</td>\n",
              "    </tr>\n",
              "  </tbody>\n",
              "</table>\n",
              "</div>\n",
              "      <button class=\"colab-df-convert\" onclick=\"convertToInteractive('df-ee0a6986-450e-4f2c-8aff-3f5e0a52061f')\"\n",
              "              title=\"Convert this dataframe to an interactive table.\"\n",
              "              style=\"display:none;\">\n",
              "        \n",
              "  <svg xmlns=\"http://www.w3.org/2000/svg\" height=\"24px\"viewBox=\"0 0 24 24\"\n",
              "       width=\"24px\">\n",
              "    <path d=\"M0 0h24v24H0V0z\" fill=\"none\"/>\n",
              "    <path d=\"M18.56 5.44l.94 2.06.94-2.06 2.06-.94-2.06-.94-.94-2.06-.94 2.06-2.06.94zm-11 1L8.5 8.5l.94-2.06 2.06-.94-2.06-.94L8.5 2.5l-.94 2.06-2.06.94zm10 10l.94 2.06.94-2.06 2.06-.94-2.06-.94-.94-2.06-.94 2.06-2.06.94z\"/><path d=\"M17.41 7.96l-1.37-1.37c-.4-.4-.92-.59-1.43-.59-.52 0-1.04.2-1.43.59L10.3 9.45l-7.72 7.72c-.78.78-.78 2.05 0 2.83L4 21.41c.39.39.9.59 1.41.59.51 0 1.02-.2 1.41-.59l7.78-7.78 2.81-2.81c.8-.78.8-2.07 0-2.86zM5.41 20L4 18.59l7.72-7.72 1.47 1.35L5.41 20z\"/>\n",
              "  </svg>\n",
              "      </button>\n",
              "      \n",
              "  <style>\n",
              "    .colab-df-container {\n",
              "      display:flex;\n",
              "      flex-wrap:wrap;\n",
              "      gap: 12px;\n",
              "    }\n",
              "\n",
              "    .colab-df-convert {\n",
              "      background-color: #E8F0FE;\n",
              "      border: none;\n",
              "      border-radius: 50%;\n",
              "      cursor: pointer;\n",
              "      display: none;\n",
              "      fill: #1967D2;\n",
              "      height: 32px;\n",
              "      padding: 0 0 0 0;\n",
              "      width: 32px;\n",
              "    }\n",
              "\n",
              "    .colab-df-convert:hover {\n",
              "      background-color: #E2EBFA;\n",
              "      box-shadow: 0px 1px 2px rgba(60, 64, 67, 0.3), 0px 1px 3px 1px rgba(60, 64, 67, 0.15);\n",
              "      fill: #174EA6;\n",
              "    }\n",
              "\n",
              "    [theme=dark] .colab-df-convert {\n",
              "      background-color: #3B4455;\n",
              "      fill: #D2E3FC;\n",
              "    }\n",
              "\n",
              "    [theme=dark] .colab-df-convert:hover {\n",
              "      background-color: #434B5C;\n",
              "      box-shadow: 0px 1px 3px 1px rgba(0, 0, 0, 0.15);\n",
              "      filter: drop-shadow(0px 1px 2px rgba(0, 0, 0, 0.3));\n",
              "      fill: #FFFFFF;\n",
              "    }\n",
              "  </style>\n",
              "\n",
              "      <script>\n",
              "        const buttonEl =\n",
              "          document.querySelector('#df-ee0a6986-450e-4f2c-8aff-3f5e0a52061f button.colab-df-convert');\n",
              "        buttonEl.style.display =\n",
              "          google.colab.kernel.accessAllowed ? 'block' : 'none';\n",
              "\n",
              "        async function convertToInteractive(key) {\n",
              "          const element = document.querySelector('#df-ee0a6986-450e-4f2c-8aff-3f5e0a52061f');\n",
              "          const dataTable =\n",
              "            await google.colab.kernel.invokeFunction('convertToInteractive',\n",
              "                                                     [key], {});\n",
              "          if (!dataTable) return;\n",
              "\n",
              "          const docLinkHtml = 'Like what you see? Visit the ' +\n",
              "            '<a target=\"_blank\" href=https://colab.research.google.com/notebooks/data_table.ipynb>data table notebook</a>'\n",
              "            + ' to learn more about interactive tables.';\n",
              "          element.innerHTML = '';\n",
              "          dataTable['output_type'] = 'display_data';\n",
              "          await google.colab.output.renderOutput(dataTable, element);\n",
              "          const docLink = document.createElement('div');\n",
              "          docLink.innerHTML = docLinkHtml;\n",
              "          element.appendChild(docLink);\n",
              "        }\n",
              "      </script>\n",
              "    </div>\n",
              "  </div>\n",
              "  "
            ]
          },
          "metadata": {},
          "execution_count": 54
        }
      ]
    },
    {
      "cell_type": "markdown",
      "source": [
        "Pada baris 49189, memiliki nilai yang terlalu besar dibandingkan dengan tabel lain dengan kategori yang sama. Sehingga, nilai y pada baris 24067 bisa diperbaiki dahulu. Nilai rata-rata y = 8.04"
      ],
      "metadata": {
        "id": "BrLBZSAECwrN"
      },
      "id": "BrLBZSAECwrN"
    },
    {
      "cell_type": "code",
      "source": [
        "df.loc[24067, \"y\"] = 8.04\n",
        "df.loc[24067]"
      ],
      "metadata": {
        "colab": {
          "base_uri": "https://localhost:8080/"
        },
        "id": "UCaV0n6dCyRm",
        "outputId": "c5f96ce3-136f-41dc-bfb8-2da883a28a8a"
      },
      "id": "UCaV0n6dCyRm",
      "execution_count": 55,
      "outputs": [
        {
          "output_type": "execute_result",
          "data": {
            "text/plain": [
              "carat          2.0\n",
              "cut        Premium\n",
              "color            H\n",
              "clarity        SI2\n",
              "depth         58.9\n",
              "table         57.0\n",
              "price        12210\n",
              "x             8.09\n",
              "y             8.04\n",
              "z             8.06\n",
              "Name: 24067, dtype: object"
            ]
          },
          "metadata": {},
          "execution_count": 55
        }
      ]
    },
    {
      "cell_type": "markdown",
      "source": [
        "Selanjutnya yaitu melakukan pengecekan untuk baris 49189"
      ],
      "metadata": {
        "id": "GYtlLS8fo9xI"
      },
      "id": "GYtlLS8fo9xI"
    },
    {
      "cell_type": "code",
      "source": [
        "y_vs_1 = df[(df[\"cut\"]==\"Ideal\") & (df[\"color\"]==\"E\") & (df[\"clarity\"]==\"VS1\") & (df[\"carat\"]==0.51)]\n",
        "y_vs_1"
      ],
      "metadata": {
        "colab": {
          "base_uri": "https://localhost:8080/",
          "height": 426
        },
        "id": "bc0mNF6VDoHP",
        "outputId": "7aafdced-17ce-48ed-be35-0af800e066ef"
      },
      "id": "bc0mNF6VDoHP",
      "execution_count": 56,
      "outputs": [
        {
          "output_type": "execute_result",
          "data": {
            "text/plain": [
              "       carat    cut color clarity  depth  table  price     x      y     z\n",
              "44954   0.51  Ideal     E     VS1   62.7   56.0   1636  5.10   5.14  3.21\n",
              "45692   0.51  Ideal     E     VS1   61.8   55.0   1697  5.15   5.18  3.19\n",
              "45780   0.51  Ideal     E     VS1   61.5   53.0   1708  5.17   5.24  3.20\n",
              "46326   0.51  Ideal     E     VS1   62.7   56.0   1758  5.14   5.10  3.21\n",
              "46328   0.51  Ideal     E     VS1   61.5   56.0   1758  5.11   5.16  3.16\n",
              "46351   0.51  Ideal     E     VS1   60.9   56.0   1759  5.16   5.22  3.16\n",
              "47239   0.51  Ideal     E     VS1   62.0   57.0   1841  5.11   5.15  3.18\n",
              "47424   0.51  Ideal     E     VS1   61.8   56.0   1851  5.17   5.19  3.20\n",
              "47425   0.51  Ideal     E     VS1   61.5   56.0   1851  5.16   5.11  3.16\n",
              "49186   0.51  Ideal     E     VS1   62.8   57.0   2075  5.10   5.07  3.20\n",
              "49189   0.51  Ideal     E     VS1   61.8   55.0   2075  5.15  31.80  5.12\n",
              "50238   0.51  Ideal     E     VS1   61.4   56.0   2233  5.14   5.16  3.16"
            ],
            "text/html": [
              "\n",
              "  <div id=\"df-f481af6b-2769-4a4e-86ed-ae8d519a8e59\">\n",
              "    <div class=\"colab-df-container\">\n",
              "      <div>\n",
              "<style scoped>\n",
              "    .dataframe tbody tr th:only-of-type {\n",
              "        vertical-align: middle;\n",
              "    }\n",
              "\n",
              "    .dataframe tbody tr th {\n",
              "        vertical-align: top;\n",
              "    }\n",
              "\n",
              "    .dataframe thead th {\n",
              "        text-align: right;\n",
              "    }\n",
              "</style>\n",
              "<table border=\"1\" class=\"dataframe\">\n",
              "  <thead>\n",
              "    <tr style=\"text-align: right;\">\n",
              "      <th></th>\n",
              "      <th>carat</th>\n",
              "      <th>cut</th>\n",
              "      <th>color</th>\n",
              "      <th>clarity</th>\n",
              "      <th>depth</th>\n",
              "      <th>table</th>\n",
              "      <th>price</th>\n",
              "      <th>x</th>\n",
              "      <th>y</th>\n",
              "      <th>z</th>\n",
              "    </tr>\n",
              "  </thead>\n",
              "  <tbody>\n",
              "    <tr>\n",
              "      <th>44954</th>\n",
              "      <td>0.51</td>\n",
              "      <td>Ideal</td>\n",
              "      <td>E</td>\n",
              "      <td>VS1</td>\n",
              "      <td>62.7</td>\n",
              "      <td>56.0</td>\n",
              "      <td>1636</td>\n",
              "      <td>5.10</td>\n",
              "      <td>5.14</td>\n",
              "      <td>3.21</td>\n",
              "    </tr>\n",
              "    <tr>\n",
              "      <th>45692</th>\n",
              "      <td>0.51</td>\n",
              "      <td>Ideal</td>\n",
              "      <td>E</td>\n",
              "      <td>VS1</td>\n",
              "      <td>61.8</td>\n",
              "      <td>55.0</td>\n",
              "      <td>1697</td>\n",
              "      <td>5.15</td>\n",
              "      <td>5.18</td>\n",
              "      <td>3.19</td>\n",
              "    </tr>\n",
              "    <tr>\n",
              "      <th>45780</th>\n",
              "      <td>0.51</td>\n",
              "      <td>Ideal</td>\n",
              "      <td>E</td>\n",
              "      <td>VS1</td>\n",
              "      <td>61.5</td>\n",
              "      <td>53.0</td>\n",
              "      <td>1708</td>\n",
              "      <td>5.17</td>\n",
              "      <td>5.24</td>\n",
              "      <td>3.20</td>\n",
              "    </tr>\n",
              "    <tr>\n",
              "      <th>46326</th>\n",
              "      <td>0.51</td>\n",
              "      <td>Ideal</td>\n",
              "      <td>E</td>\n",
              "      <td>VS1</td>\n",
              "      <td>62.7</td>\n",
              "      <td>56.0</td>\n",
              "      <td>1758</td>\n",
              "      <td>5.14</td>\n",
              "      <td>5.10</td>\n",
              "      <td>3.21</td>\n",
              "    </tr>\n",
              "    <tr>\n",
              "      <th>46328</th>\n",
              "      <td>0.51</td>\n",
              "      <td>Ideal</td>\n",
              "      <td>E</td>\n",
              "      <td>VS1</td>\n",
              "      <td>61.5</td>\n",
              "      <td>56.0</td>\n",
              "      <td>1758</td>\n",
              "      <td>5.11</td>\n",
              "      <td>5.16</td>\n",
              "      <td>3.16</td>\n",
              "    </tr>\n",
              "    <tr>\n",
              "      <th>46351</th>\n",
              "      <td>0.51</td>\n",
              "      <td>Ideal</td>\n",
              "      <td>E</td>\n",
              "      <td>VS1</td>\n",
              "      <td>60.9</td>\n",
              "      <td>56.0</td>\n",
              "      <td>1759</td>\n",
              "      <td>5.16</td>\n",
              "      <td>5.22</td>\n",
              "      <td>3.16</td>\n",
              "    </tr>\n",
              "    <tr>\n",
              "      <th>47239</th>\n",
              "      <td>0.51</td>\n",
              "      <td>Ideal</td>\n",
              "      <td>E</td>\n",
              "      <td>VS1</td>\n",
              "      <td>62.0</td>\n",
              "      <td>57.0</td>\n",
              "      <td>1841</td>\n",
              "      <td>5.11</td>\n",
              "      <td>5.15</td>\n",
              "      <td>3.18</td>\n",
              "    </tr>\n",
              "    <tr>\n",
              "      <th>47424</th>\n",
              "      <td>0.51</td>\n",
              "      <td>Ideal</td>\n",
              "      <td>E</td>\n",
              "      <td>VS1</td>\n",
              "      <td>61.8</td>\n",
              "      <td>56.0</td>\n",
              "      <td>1851</td>\n",
              "      <td>5.17</td>\n",
              "      <td>5.19</td>\n",
              "      <td>3.20</td>\n",
              "    </tr>\n",
              "    <tr>\n",
              "      <th>47425</th>\n",
              "      <td>0.51</td>\n",
              "      <td>Ideal</td>\n",
              "      <td>E</td>\n",
              "      <td>VS1</td>\n",
              "      <td>61.5</td>\n",
              "      <td>56.0</td>\n",
              "      <td>1851</td>\n",
              "      <td>5.16</td>\n",
              "      <td>5.11</td>\n",
              "      <td>3.16</td>\n",
              "    </tr>\n",
              "    <tr>\n",
              "      <th>49186</th>\n",
              "      <td>0.51</td>\n",
              "      <td>Ideal</td>\n",
              "      <td>E</td>\n",
              "      <td>VS1</td>\n",
              "      <td>62.8</td>\n",
              "      <td>57.0</td>\n",
              "      <td>2075</td>\n",
              "      <td>5.10</td>\n",
              "      <td>5.07</td>\n",
              "      <td>3.20</td>\n",
              "    </tr>\n",
              "    <tr>\n",
              "      <th>49189</th>\n",
              "      <td>0.51</td>\n",
              "      <td>Ideal</td>\n",
              "      <td>E</td>\n",
              "      <td>VS1</td>\n",
              "      <td>61.8</td>\n",
              "      <td>55.0</td>\n",
              "      <td>2075</td>\n",
              "      <td>5.15</td>\n",
              "      <td>31.80</td>\n",
              "      <td>5.12</td>\n",
              "    </tr>\n",
              "    <tr>\n",
              "      <th>50238</th>\n",
              "      <td>0.51</td>\n",
              "      <td>Ideal</td>\n",
              "      <td>E</td>\n",
              "      <td>VS1</td>\n",
              "      <td>61.4</td>\n",
              "      <td>56.0</td>\n",
              "      <td>2233</td>\n",
              "      <td>5.14</td>\n",
              "      <td>5.16</td>\n",
              "      <td>3.16</td>\n",
              "    </tr>\n",
              "  </tbody>\n",
              "</table>\n",
              "</div>\n",
              "      <button class=\"colab-df-convert\" onclick=\"convertToInteractive('df-f481af6b-2769-4a4e-86ed-ae8d519a8e59')\"\n",
              "              title=\"Convert this dataframe to an interactive table.\"\n",
              "              style=\"display:none;\">\n",
              "        \n",
              "  <svg xmlns=\"http://www.w3.org/2000/svg\" height=\"24px\"viewBox=\"0 0 24 24\"\n",
              "       width=\"24px\">\n",
              "    <path d=\"M0 0h24v24H0V0z\" fill=\"none\"/>\n",
              "    <path d=\"M18.56 5.44l.94 2.06.94-2.06 2.06-.94-2.06-.94-.94-2.06-.94 2.06-2.06.94zm-11 1L8.5 8.5l.94-2.06 2.06-.94-2.06-.94L8.5 2.5l-.94 2.06-2.06.94zm10 10l.94 2.06.94-2.06 2.06-.94-2.06-.94-.94-2.06-.94 2.06-2.06.94z\"/><path d=\"M17.41 7.96l-1.37-1.37c-.4-.4-.92-.59-1.43-.59-.52 0-1.04.2-1.43.59L10.3 9.45l-7.72 7.72c-.78.78-.78 2.05 0 2.83L4 21.41c.39.39.9.59 1.41.59.51 0 1.02-.2 1.41-.59l7.78-7.78 2.81-2.81c.8-.78.8-2.07 0-2.86zM5.41 20L4 18.59l7.72-7.72 1.47 1.35L5.41 20z\"/>\n",
              "  </svg>\n",
              "      </button>\n",
              "      \n",
              "  <style>\n",
              "    .colab-df-container {\n",
              "      display:flex;\n",
              "      flex-wrap:wrap;\n",
              "      gap: 12px;\n",
              "    }\n",
              "\n",
              "    .colab-df-convert {\n",
              "      background-color: #E8F0FE;\n",
              "      border: none;\n",
              "      border-radius: 50%;\n",
              "      cursor: pointer;\n",
              "      display: none;\n",
              "      fill: #1967D2;\n",
              "      height: 32px;\n",
              "      padding: 0 0 0 0;\n",
              "      width: 32px;\n",
              "    }\n",
              "\n",
              "    .colab-df-convert:hover {\n",
              "      background-color: #E2EBFA;\n",
              "      box-shadow: 0px 1px 2px rgba(60, 64, 67, 0.3), 0px 1px 3px 1px rgba(60, 64, 67, 0.15);\n",
              "      fill: #174EA6;\n",
              "    }\n",
              "\n",
              "    [theme=dark] .colab-df-convert {\n",
              "      background-color: #3B4455;\n",
              "      fill: #D2E3FC;\n",
              "    }\n",
              "\n",
              "    [theme=dark] .colab-df-convert:hover {\n",
              "      background-color: #434B5C;\n",
              "      box-shadow: 0px 1px 3px 1px rgba(0, 0, 0, 0.15);\n",
              "      filter: drop-shadow(0px 1px 2px rgba(0, 0, 0, 0.3));\n",
              "      fill: #FFFFFF;\n",
              "    }\n",
              "  </style>\n",
              "\n",
              "      <script>\n",
              "        const buttonEl =\n",
              "          document.querySelector('#df-f481af6b-2769-4a4e-86ed-ae8d519a8e59 button.colab-df-convert');\n",
              "        buttonEl.style.display =\n",
              "          google.colab.kernel.accessAllowed ? 'block' : 'none';\n",
              "\n",
              "        async function convertToInteractive(key) {\n",
              "          const element = document.querySelector('#df-f481af6b-2769-4a4e-86ed-ae8d519a8e59');\n",
              "          const dataTable =\n",
              "            await google.colab.kernel.invokeFunction('convertToInteractive',\n",
              "                                                     [key], {});\n",
              "          if (!dataTable) return;\n",
              "\n",
              "          const docLinkHtml = 'Like what you see? Visit the ' +\n",
              "            '<a target=\"_blank\" href=https://colab.research.google.com/notebooks/data_table.ipynb>data table notebook</a>'\n",
              "            + ' to learn more about interactive tables.';\n",
              "          element.innerHTML = '';\n",
              "          dataTable['output_type'] = 'display_data';\n",
              "          await google.colab.output.renderOutput(dataTable, element);\n",
              "          const docLink = document.createElement('div');\n",
              "          docLink.innerHTML = docLinkHtml;\n",
              "          element.appendChild(docLink);\n",
              "        }\n",
              "      </script>\n",
              "    </div>\n",
              "  </div>\n",
              "  "
            ]
          },
          "metadata": {},
          "execution_count": 56
        }
      ]
    },
    {
      "cell_type": "markdown",
      "source": [
        "Pada baris 49189, memiliki nilai yang terlalu besar dibandingkan dengan tabel lain dengan kategori yang sama. Sehingga, nilai y pada baris 49189 bisa diperbaiki dahulu. Nilai rata-rata y = 5.15"
      ],
      "metadata": {
        "id": "si2aaiTkpT_w"
      },
      "id": "si2aaiTkpT_w"
    },
    {
      "cell_type": "code",
      "source": [
        "df.loc[49189, \"y\"] = 5.15\n",
        "df.loc[49189]"
      ],
      "metadata": {
        "colab": {
          "base_uri": "https://localhost:8080/"
        },
        "id": "dUx94zrO8cUQ",
        "outputId": "42bd448e-544b-4da9-a16e-2ee7154ff6b9"
      },
      "id": "dUx94zrO8cUQ",
      "execution_count": 57,
      "outputs": [
        {
          "output_type": "execute_result",
          "data": {
            "text/plain": [
              "carat       0.51\n",
              "cut        Ideal\n",
              "color          E\n",
              "clarity      VS1\n",
              "depth       61.8\n",
              "table       55.0\n",
              "price       2075\n",
              "x           5.15\n",
              "y           5.15\n",
              "z           5.12\n",
              "Name: 49189, dtype: object"
            ]
          },
          "metadata": {},
          "execution_count": 57
        }
      ]
    },
    {
      "cell_type": "code",
      "source": [
        "# after plot\n",
        "df.plot(x=\"y\", y=\"price\", kind=\"scatter\")\n",
        "plt.show()"
      ],
      "metadata": {
        "colab": {
          "base_uri": "https://localhost:8080/",
          "height": 279
        },
        "id": "zipxZSd4BIqg",
        "outputId": "bac0d7b6-9755-4aba-edc7-7980e367f67e"
      },
      "id": "zipxZSd4BIqg",
      "execution_count": 58,
      "outputs": [
        {
          "output_type": "display_data",
          "data": {
            "text/plain": [
              "<Figure size 432x288 with 1 Axes>"
            ],
            "image/png": "[encoded data removed]"
          },
          "metadata": {
            "needs_background": "light"
          }
        }
      ]
    },
    {
      "cell_type": "markdown",
      "source": [
        "Pada kolom y (lebar diamond) juga terdapat hubungan yaitu semakin lebar diamond, maka relatif semakin tinggi harga diamond tersebut"
      ],
      "metadata": {
        "id": "KVyXStglDWwT"
      },
      "id": "KVyXStglDWwT"
    },
    {
      "cell_type": "markdown",
      "source": [
        "**kolom z**"
      ],
      "metadata": {
        "id": "fVSTSXeNDfQF"
      },
      "id": "fVSTSXeNDfQF"
    },
    {
      "cell_type": "code",
      "source": [
        "df.plot(x=\"z\", y=\"price\", kind=\"scatter\")\n",
        "plt.show()"
      ],
      "metadata": {
        "colab": {
          "base_uri": "https://localhost:8080/",
          "height": 279
        },
        "id": "_xcfJ3eeDg-K",
        "outputId": "ab6b3b9c-53f6-43e8-b845-8a87d958b2ea"
      },
      "id": "_xcfJ3eeDg-K",
      "execution_count": 59,
      "outputs": [
        {
          "output_type": "display_data",
          "data": {
            "text/plain": [
              "<Figure size 432x288 with 1 Axes>"
            ],
            "image/png": "[encoded data removed]"
          },
          "metadata": {
            "needs_background": "light"
          }
        }
      ]
    },
    {
      "cell_type": "markdown",
      "source": [
        "Bentuk grafik cukup aneh, sehingga perlu dicek dahulu"
      ],
      "metadata": {
        "id": "jViZ6JHUFfsV"
      },
      "id": "jViZ6JHUFfsV"
    },
    {
      "cell_type": "code",
      "source": [
        "df.loc[df[\"z\"] == 0]"
      ],
      "metadata": {
        "colab": {
          "base_uri": "https://localhost:8080/",
          "height": 426
        },
        "id": "XPVHMG12FcbW",
        "outputId": "342e8f39-060f-42df-e00d-9f81a7fc7c90"
      },
      "id": "XPVHMG12FcbW",
      "execution_count": 60,
      "outputs": [
        {
          "output_type": "execute_result",
          "data": {
            "text/plain": [
              "       carat      cut color clarity  depth  table  price     x     y    z\n",
              "2207    1.00  Premium     G     SI2   59.1   59.0   3142  6.55  6.48  0.0\n",
              "2314    1.01  Premium     H      I1   58.1   59.0   3167  6.66  6.60  0.0\n",
              "4791    1.10  Premium     G     SI2   63.0   59.0   3696  6.50  6.47  0.0\n",
              "5471    1.01  Premium     F     SI2   59.2   58.0   3837  6.50  6.47  0.0\n",
              "10167   1.50     Good     G      I1   64.0   61.0   4731  7.15  7.04  0.0\n",
              "13601   1.15    Ideal     G     VS2   59.2   56.0   5564  6.88  6.83  0.0\n",
              "24394   2.18  Premium     H     SI2   59.4   61.0  12631  8.49  8.45  0.0\n",
              "26123   2.25  Premium     I     SI1   61.3   58.0  15397  8.52  8.42  0.0\n",
              "27112   2.20  Premium     H     SI1   61.2   59.0  17265  8.42  8.37  0.0\n",
              "27503   2.02  Premium     H     VS2   62.7   53.0  18207  8.02  7.95  0.0\n",
              "27739   2.80     Good     G     SI2   63.8   58.0  18788  8.90  8.85  0.0\n",
              "51506   1.12  Premium     G      I1   60.4   59.0   2383  6.71  6.67  0.0"
            ],
            "text/html": [
              "\n",
              "  <div id=\"df-490456da-1e81-4e00-9688-6e51b3f94da9\">\n",
              "    <div class=\"colab-df-container\">\n",
              "      <div>\n",
              "<style scoped>\n",
              "    .dataframe tbody tr th:only-of-type {\n",
              "        vertical-align: middle;\n",
              "    }\n",
              "\n",
              "    .dataframe tbody tr th {\n",
              "        vertical-align: top;\n",
              "    }\n",
              "\n",
              "    .dataframe thead th {\n",
              "        text-align: right;\n",
              "    }\n",
              "</style>\n",
              "<table border=\"1\" class=\"dataframe\">\n",
              "  <thead>\n",
              "    <tr style=\"text-align: right;\">\n",
              "      <th></th>\n",
              "      <th>carat</th>\n",
              "      <th>cut</th>\n",
              "      <th>color</th>\n",
              "      <th>clarity</th>\n",
              "      <th>depth</th>\n",
              "      <th>table</th>\n",
              "      <th>price</th>\n",
              "      <th>x</th>\n",
              "      <th>y</th>\n",
              "      <th>z</th>\n",
              "    </tr>\n",
              "  </thead>\n",
              "  <tbody>\n",
              "    <tr>\n",
              "      <th>2207</th>\n",
              "      <td>1.00</td>\n",
              "      <td>Premium</td>\n",
              "      <td>G</td>\n",
              "      <td>SI2</td>\n",
              "      <td>59.1</td>\n",
              "      <td>59.0</td>\n",
              "      <td>3142</td>\n",
              "      <td>6.55</td>\n",
              "      <td>6.48</td>\n",
              "      <td>0.0</td>\n",
              "    </tr>\n",
              "    <tr>\n",
              "      <th>2314</th>\n",
              "      <td>1.01</td>\n",
              "      <td>Premium</td>\n",
              "      <td>H</td>\n",
              "      <td>I1</td>\n",
              "      <td>58.1</td>\n",
              "      <td>59.0</td>\n",
              "      <td>3167</td>\n",
              "      <td>6.66</td>\n",
              "      <td>6.60</td>\n",
              "      <td>0.0</td>\n",
              "    </tr>\n",
              "    <tr>\n",
              "      <th>4791</th>\n",
              "      <td>1.10</td>\n",
              "      <td>Premium</td>\n",
              "      <td>G</td>\n",
              "      <td>SI2</td>\n",
              "      <td>63.0</td>\n",
              "      <td>59.0</td>\n",
              "      <td>3696</td>\n",
              "      <td>6.50</td>\n",
              "      <td>6.47</td>\n",
              "      <td>0.0</td>\n",
              "    </tr>\n",
              "    <tr>\n",
              "      <th>5471</th>\n",
              "      <td>1.01</td>\n",
              "      <td>Premium</td>\n",
              "      <td>F</td>\n",
              "      <td>SI2</td>\n",
              "      <td>59.2</td>\n",
              "      <td>58.0</td>\n",
              "      <td>3837</td>\n",
              "      <td>6.50</td>\n",
              "      <td>6.47</td>\n",
              "      <td>0.0</td>\n",
              "    </tr>\n",
              "    <tr>\n",
              "      <th>10167</th>\n",
              "      <td>1.50</td>\n",
              "      <td>Good</td>\n",
              "      <td>G</td>\n",
              "      <td>I1</td>\n",
              "      <td>64.0</td>\n",
              "      <td>61.0</td>\n",
              "      <td>4731</td>\n",
              "      <td>7.15</td>\n",
              "      <td>7.04</td>\n",
              "      <td>0.0</td>\n",
              "    </tr>\n",
              "    <tr>\n",
              "      <th>13601</th>\n",
              "      <td>1.15</td>\n",
              "      <td>Ideal</td>\n",
              "      <td>G</td>\n",
              "      <td>VS2</td>\n",
              "      <td>59.2</td>\n",
              "      <td>56.0</td>\n",
              "      <td>5564</td>\n",
              "      <td>6.88</td>\n",
              "      <td>6.83</td>\n",
              "      <td>0.0</td>\n",
              "    </tr>\n",
              "    <tr>\n",
              "      <th>24394</th>\n",
              "      <td>2.18</td>\n",
              "      <td>Premium</td>\n",
              "      <td>H</td>\n",
              "      <td>SI2</td>\n",
              "      <td>59.4</td>\n",
              "      <td>61.0</td>\n",
              "      <td>12631</td>\n",
              "      <td>8.49</td>\n",
              "      <td>8.45</td>\n",
              "      <td>0.0</td>\n",
              "    </tr>\n",
              "    <tr>\n",
              "      <th>26123</th>\n",
              "      <td>2.25</td>\n",
              "      <td>Premium</td>\n",
              "      <td>I</td>\n",
              "      <td>SI1</td>\n",
              "      <td>61.3</td>\n",
              "      <td>58.0</td>\n",
              "      <td>15397</td>\n",
              "      <td>8.52</td>\n",
              "      <td>8.42</td>\n",
              "      <td>0.0</td>\n",
              "    </tr>\n",
              "    <tr>\n",
              "      <th>27112</th>\n",
              "      <td>2.20</td>\n",
              "      <td>Premium</td>\n",
              "      <td>H</td>\n",
              "      <td>SI1</td>\n",
              "      <td>61.2</td>\n",
              "      <td>59.0</td>\n",
              "      <td>17265</td>\n",
              "      <td>8.42</td>\n",
              "      <td>8.37</td>\n",
              "      <td>0.0</td>\n",
              "    </tr>\n",
              "    <tr>\n",
              "      <th>27503</th>\n",
              "      <td>2.02</td>\n",
              "      <td>Premium</td>\n",
              "      <td>H</td>\n",
              "      <td>VS2</td>\n",
              "      <td>62.7</td>\n",
              "      <td>53.0</td>\n",
              "      <td>18207</td>\n",
              "      <td>8.02</td>\n",
              "      <td>7.95</td>\n",
              "      <td>0.0</td>\n",
              "    </tr>\n",
              "    <tr>\n",
              "      <th>27739</th>\n",
              "      <td>2.80</td>\n",
              "      <td>Good</td>\n",
              "      <td>G</td>\n",
              "      <td>SI2</td>\n",
              "      <td>63.8</td>\n",
              "      <td>58.0</td>\n",
              "      <td>18788</td>\n",
              "      <td>8.90</td>\n",
              "      <td>8.85</td>\n",
              "      <td>0.0</td>\n",
              "    </tr>\n",
              "    <tr>\n",
              "      <th>51506</th>\n",
              "      <td>1.12</td>\n",
              "      <td>Premium</td>\n",
              "      <td>G</td>\n",
              "      <td>I1</td>\n",
              "      <td>60.4</td>\n",
              "      <td>59.0</td>\n",
              "      <td>2383</td>\n",
              "      <td>6.71</td>\n",
              "      <td>6.67</td>\n",
              "      <td>0.0</td>\n",
              "    </tr>\n",
              "  </tbody>\n",
              "</table>\n",
              "</div>\n",
              "      <button class=\"colab-df-convert\" onclick=\"convertToInteractive('df-490456da-1e81-4e00-9688-6e51b3f94da9')\"\n",
              "              title=\"Convert this dataframe to an interactive table.\"\n",
              "              style=\"display:none;\">\n",
              "        \n",
              "  <svg xmlns=\"http://www.w3.org/2000/svg\" height=\"24px\"viewBox=\"0 0 24 24\"\n",
              "       width=\"24px\">\n",
              "    <path d=\"M0 0h24v24H0V0z\" fill=\"none\"/>\n",
              "    <path d=\"M18.56 5.44l.94 2.06.94-2.06 2.06-.94-2.06-.94-.94-2.06-.94 2.06-2.06.94zm-11 1L8.5 8.5l.94-2.06 2.06-.94-2.06-.94L8.5 2.5l-.94 2.06-2.06.94zm10 10l.94 2.06.94-2.06 2.06-.94-2.06-.94-.94-2.06-.94 2.06-2.06.94z\"/><path d=\"M17.41 7.96l-1.37-1.37c-.4-.4-.92-.59-1.43-.59-.52 0-1.04.2-1.43.59L10.3 9.45l-7.72 7.72c-.78.78-.78 2.05 0 2.83L4 21.41c.39.39.9.59 1.41.59.51 0 1.02-.2 1.41-.59l7.78-7.78 2.81-2.81c.8-.78.8-2.07 0-2.86zM5.41 20L4 18.59l7.72-7.72 1.47 1.35L5.41 20z\"/>\n",
              "  </svg>\n",
              "      </button>\n",
              "      \n",
              "  <style>\n",
              "    .colab-df-container {\n",
              "      display:flex;\n",
              "      flex-wrap:wrap;\n",
              "      gap: 12px;\n",
              "    }\n",
              "\n",
              "    .colab-df-convert {\n",
              "      background-color: #E8F0FE;\n",
              "      border: none;\n",
              "      border-radius: 50%;\n",
              "      cursor: pointer;\n",
              "      display: none;\n",
              "      fill: #1967D2;\n",
              "      height: 32px;\n",
              "      padding: 0 0 0 0;\n",
              "      width: 32px;\n",
              "    }\n",
              "\n",
              "    .colab-df-convert:hover {\n",
              "      background-color: #E2EBFA;\n",
              "      box-shadow: 0px 1px 2px rgba(60, 64, 67, 0.3), 0px 1px 3px 1px rgba(60, 64, 67, 0.15);\n",
              "      fill: #174EA6;\n",
              "    }\n",
              "\n",
              "    [theme=dark] .colab-df-convert {\n",
              "      background-color: #3B4455;\n",
              "      fill: #D2E3FC;\n",
              "    }\n",
              "\n",
              "    [theme=dark] .colab-df-convert:hover {\n",
              "      background-color: #434B5C;\n",
              "      box-shadow: 0px 1px 3px 1px rgba(0, 0, 0, 0.15);\n",
              "      filter: drop-shadow(0px 1px 2px rgba(0, 0, 0, 0.3));\n",
              "      fill: #FFFFFF;\n",
              "    }\n",
              "  </style>\n",
              "\n",
              "      <script>\n",
              "        const buttonEl =\n",
              "          document.querySelector('#df-490456da-1e81-4e00-9688-6e51b3f94da9 button.colab-df-convert');\n",
              "        buttonEl.style.display =\n",
              "          google.colab.kernel.accessAllowed ? 'block' : 'none';\n",
              "\n",
              "        async function convertToInteractive(key) {\n",
              "          const element = document.querySelector('#df-490456da-1e81-4e00-9688-6e51b3f94da9');\n",
              "          const dataTable =\n",
              "            await google.colab.kernel.invokeFunction('convertToInteractive',\n",
              "                                                     [key], {});\n",
              "          if (!dataTable) return;\n",
              "\n",
              "          const docLinkHtml = 'Like what you see? Visit the ' +\n",
              "            '<a target=\"_blank\" href=https://colab.research.google.com/notebooks/data_table.ipynb>data table notebook</a>'\n",
              "            + ' to learn more about interactive tables.';\n",
              "          element.innerHTML = '';\n",
              "          dataTable['output_type'] = 'display_data';\n",
              "          await google.colab.output.renderOutput(dataTable, element);\n",
              "          const docLink = document.createElement('div');\n",
              "          docLink.innerHTML = docLinkHtml;\n",
              "          element.appendChild(docLink);\n",
              "        }\n",
              "      </script>\n",
              "    </div>\n",
              "  </div>\n",
              "  "
            ]
          },
          "metadata": {},
          "execution_count": 60
        }
      ]
    },
    {
      "cell_type": "markdown",
      "source": [
        "Terdapat beberapa angka 0 pada kolom z, sehingga perlu dilakukan imputasi dahulu"
      ],
      "metadata": {
        "id": "bAp2JH-DFu_Z"
      },
      "id": "bAp2JH-DFu_Z"
    },
    {
      "cell_type": "markdown",
      "source": [
        "melakukan imputasi pada baris ke 2207\n"
      ],
      "metadata": {
        "id": "Y7v-W_THF3nc"
      },
      "id": "Y7v-W_THF3nc"
    },
    {
      "cell_type": "code",
      "source": [
        "x_si2_6 = df[(df[\"cut\"]==\"Premium\") & (df[\"color\"]==\"G\") & (df[\"clarity\"]==\"SI2\") & (df[\"carat\"]==1.00)]\n",
        "x_si2_6 = pd.DataFrame(x_si2_6)"
      ],
      "metadata": {
        "id": "tSphu10nFyaR"
      },
      "id": "tSphu10nFyaR",
      "execution_count": 99,
      "outputs": []
    },
    {
      "cell_type": "code",
      "source": [
        "z_si2_6_average = x_si2_6[\"z\"].mean()\n",
        "z_si2_6_average"
      ],
      "metadata": {
        "colab": {
          "base_uri": "https://localhost:8080/"
        },
        "id": "2vXmeD5QGJp2",
        "outputId": "a74a580f-a0ea-4744-c3e2-d0c621dc6530"
      },
      "id": "2vXmeD5QGJp2",
      "execution_count": 100,
      "outputs": [
        {
          "output_type": "execute_result",
          "data": {
            "text/plain": [
              "3.9224999999999994"
            ]
          },
          "metadata": {},
          "execution_count": 100
        }
      ]
    },
    {
      "cell_type": "code",
      "source": [
        "df.loc[2207, \"z\"] = 3.92\n",
        "df.loc[2207]"
      ],
      "metadata": {
        "colab": {
          "base_uri": "https://localhost:8080/"
        },
        "id": "AkbOvKEpGOF8",
        "outputId": "0205111d-0926-4b7b-d527-945b21285ea4"
      },
      "id": "AkbOvKEpGOF8",
      "execution_count": 101,
      "outputs": [
        {
          "output_type": "execute_result",
          "data": {
            "text/plain": [
              "carat          1.0\n",
              "cut        Premium\n",
              "color            G\n",
              "clarity        SI2\n",
              "depth         59.1\n",
              "table         59.0\n",
              "price         3142\n",
              "x             6.55\n",
              "y             6.48\n",
              "z             3.92\n",
              "Name: 2207, dtype: object"
            ]
          },
          "metadata": {},
          "execution_count": 101
        }
      ]
    },
    {
      "cell_type": "markdown",
      "source": [
        "melakukan imputasi pada baris ke 2314"
      ],
      "metadata": {
        "id": "-hFpJ4xdGXoA"
      },
      "id": "-hFpJ4xdGXoA"
    },
    {
      "cell_type": "code",
      "source": [
        "x_i1 = df[(df[\"cut\"]==\"Premium\") & (df[\"color\"]==\"H\") & (df[\"clarity\"]==\"I1\") & (df[\"carat\"]==1.01)]\n",
        "x_i1 = pd.DataFrame(x_i1)"
      ],
      "metadata": {
        "id": "OrifXfPxGbyi"
      },
      "id": "OrifXfPxGbyi",
      "execution_count": 64,
      "outputs": []
    },
    {
      "cell_type": "code",
      "source": [
        "x_i1_average = x_i1[\"z\"].mean()\n",
        "x_i1_average"
      ],
      "metadata": {
        "colab": {
          "base_uri": "https://localhost:8080/"
        },
        "id": "--unBvOhGn10",
        "outputId": "06ab383d-caf9-44e5-b8f9-70fb4749b1ac"
      },
      "id": "--unBvOhGn10",
      "execution_count": 65,
      "outputs": [
        {
          "output_type": "execute_result",
          "data": {
            "text/plain": [
              "2.563333333333333"
            ]
          },
          "metadata": {},
          "execution_count": 65
        }
      ]
    },
    {
      "cell_type": "code",
      "source": [
        "df.loc[2314, \"z\"] = 2.56\n",
        "df.loc[2314]"
      ],
      "metadata": {
        "colab": {
          "base_uri": "https://localhost:8080/"
        },
        "id": "3qAllgZJGv1j",
        "outputId": "1761888f-e6b7-4a9e-ca61-9a6293c9ad73"
      },
      "id": "3qAllgZJGv1j",
      "execution_count": 66,
      "outputs": [
        {
          "output_type": "execute_result",
          "data": {
            "text/plain": [
              "carat         1.01\n",
              "cut        Premium\n",
              "color            H\n",
              "clarity         I1\n",
              "depth         58.1\n",
              "table         59.0\n",
              "price         3167\n",
              "x             6.66\n",
              "y              6.6\n",
              "z             2.56\n",
              "Name: 2314, dtype: object"
            ]
          },
          "metadata": {},
          "execution_count": 66
        }
      ]
    },
    {
      "cell_type": "markdown",
      "source": [
        "melakukan imputasi pada baris ke 4791"
      ],
      "metadata": {
        "id": "kgThVbY_G0UY"
      },
      "id": "kgThVbY_G0UY"
    },
    {
      "cell_type": "code",
      "source": [
        "x_si2_7 = df[(df[\"cut\"]==\"Premium\") & (df[\"color\"]==\"G\") & (df[\"clarity\"]==\"SI2\") & (df[\"carat\"]==1.10)]\n",
        "x_si2_7 = pd.DataFrame(x_si2_7)"
      ],
      "metadata": {
        "id": "gFSwXcQVG7-w"
      },
      "id": "gFSwXcQVG7-w",
      "execution_count": 67,
      "outputs": []
    },
    {
      "cell_type": "code",
      "source": [
        "z_si2_7_average = x_si2_7[\"z\"].mean()\n",
        "z_si2_7_average"
      ],
      "metadata": {
        "colab": {
          "base_uri": "https://localhost:8080/"
        },
        "id": "R3bQw9dzHXWK",
        "outputId": "e19307f5-387b-4d8f-8d77-637971018d08"
      },
      "id": "R3bQw9dzHXWK",
      "execution_count": 68,
      "outputs": [
        {
          "output_type": "execute_result",
          "data": {
            "text/plain": [
              "2.04"
            ]
          },
          "metadata": {},
          "execution_count": 68
        }
      ]
    },
    {
      "cell_type": "code",
      "source": [
        "df.loc[4791, \"z\"] = 2.04\n",
        "df.loc[4791]"
      ],
      "metadata": {
        "colab": {
          "base_uri": "https://localhost:8080/"
        },
        "id": "ltzBjrgaHjS_",
        "outputId": "9dc8afe6-582c-4aa9-c6fe-4d8a66054824"
      },
      "id": "ltzBjrgaHjS_",
      "execution_count": 69,
      "outputs": [
        {
          "output_type": "execute_result",
          "data": {
            "text/plain": [
              "carat          1.1\n",
              "cut        Premium\n",
              "color            G\n",
              "clarity        SI2\n",
              "depth         63.0\n",
              "table         59.0\n",
              "price         3696\n",
              "x              6.5\n",
              "y             6.47\n",
              "z             2.04\n",
              "Name: 4791, dtype: object"
            ]
          },
          "metadata": {},
          "execution_count": 69
        }
      ]
    },
    {
      "cell_type": "markdown",
      "source": [
        "melakukan imputasi pada baris ke 5471"
      ],
      "metadata": {
        "id": "pGgNxPfs5QnH"
      },
      "id": "pGgNxPfs5QnH"
    },
    {
      "cell_type": "code",
      "source": [
        "x_si2_8 = df[(df[\"cut\"]==\"Premium\") & (df[\"color\"]==\"F\") & (df[\"clarity\"]==\"SI2\") & (df[\"carat\"]==1.01)]\n",
        "x_si2_8 = pd.DataFrame(x_si2_8)"
      ],
      "metadata": {
        "id": "X8XFsSws5V8g"
      },
      "id": "X8XFsSws5V8g",
      "execution_count": 102,
      "outputs": []
    },
    {
      "cell_type": "code",
      "source": [
        "z_si2_8_average = x_si2_8[\"z\"].mean()\n",
        "z_si2_8_average"
      ],
      "metadata": {
        "colab": {
          "base_uri": "https://localhost:8080/"
        },
        "id": "BRBsq3Hw5ncS",
        "outputId": "d71a9161-4631-42f0-c484-be0cfe1850ee"
      },
      "id": "BRBsq3Hw5ncS",
      "execution_count": 103,
      "outputs": [
        {
          "output_type": "execute_result",
          "data": {
            "text/plain": [
              "3.8610638297872333"
            ]
          },
          "metadata": {},
          "execution_count": 103
        }
      ]
    },
    {
      "cell_type": "code",
      "source": [
        "df.loc[5471, \"z\"] = 3.86\n",
        "df.loc[5471]"
      ],
      "metadata": {
        "colab": {
          "base_uri": "https://localhost:8080/"
        },
        "id": "ySs4FHPk5sSu",
        "outputId": "6dd36171-8926-4d71-841d-b3b917ae4bd8"
      },
      "id": "ySs4FHPk5sSu",
      "execution_count": 104,
      "outputs": [
        {
          "output_type": "execute_result",
          "data": {
            "text/plain": [
              "carat         1.01\n",
              "cut        Premium\n",
              "color            F\n",
              "clarity        SI2\n",
              "depth         59.2\n",
              "table         58.0\n",
              "price         3837\n",
              "x              6.5\n",
              "y             6.47\n",
              "z             3.86\n",
              "Name: 5471, dtype: object"
            ]
          },
          "metadata": {},
          "execution_count": 104
        }
      ]
    },
    {
      "cell_type": "markdown",
      "source": [
        "melakukan imputasi pada baris ke 10167"
      ],
      "metadata": {
        "id": "OaAuoZQY5xmj"
      },
      "id": "OaAuoZQY5xmj"
    },
    {
      "cell_type": "code",
      "source": [
        "x_i1_2 = df[(df[\"cut\"]==\"Good\") & (df[\"color\"]==\"G\") & (df[\"clarity\"]==\"I1\") & (df[\"carat\"]==1.50)]\n",
        "x_i1_2 = pd.DataFrame(x_i1_2)"
      ],
      "metadata": {
        "id": "WvnekA-p515n"
      },
      "id": "WvnekA-p515n",
      "execution_count": 105,
      "outputs": []
    },
    {
      "cell_type": "code",
      "source": [
        "x_i1_2_average = x_i1_2[\"z\"].mean()\n",
        "x_i1_2_average"
      ],
      "metadata": {
        "colab": {
          "base_uri": "https://localhost:8080/"
        },
        "id": "1RI0cjq96CJ-",
        "outputId": "81394818-c1f4-4859-eb7c-7604f2c113d3"
      },
      "id": "1RI0cjq96CJ-",
      "execution_count": 106,
      "outputs": [
        {
          "output_type": "execute_result",
          "data": {
            "text/plain": [
              "2.97"
            ]
          },
          "metadata": {},
          "execution_count": 106
        }
      ]
    },
    {
      "cell_type": "code",
      "source": [
        "df.loc[10167, \"z\"] = 2.97\n",
        "df.loc[10167]"
      ],
      "metadata": {
        "colab": {
          "base_uri": "https://localhost:8080/"
        },
        "id": "hWJJSo_o6Hmy",
        "outputId": "96960667-460c-406b-c2f2-e123e7b67f01"
      },
      "id": "hWJJSo_o6Hmy",
      "execution_count": 107,
      "outputs": [
        {
          "output_type": "execute_result",
          "data": {
            "text/plain": [
              "carat       1.5\n",
              "cut        Good\n",
              "color         G\n",
              "clarity      I1\n",
              "depth      64.0\n",
              "table      61.0\n",
              "price      4731\n",
              "x          7.15\n",
              "y          7.04\n",
              "z          2.97\n",
              "Name: 10167, dtype: object"
            ]
          },
          "metadata": {},
          "execution_count": 107
        }
      ]
    },
    {
      "cell_type": "markdown",
      "source": [
        "melakukan imputasi pada baris ke 13601"
      ],
      "metadata": {
        "id": "N8GYkzuk6M9Q"
      },
      "id": "N8GYkzuk6M9Q"
    },
    {
      "cell_type": "code",
      "source": [
        "x_vs_2 = df[(df[\"cut\"]==\"Ideal\") & (df[\"color\"]==\"G\") & (df[\"clarity\"]==\"VS2\") & (df[\"carat\"]==1.15)]\n",
        "x_vs_2 = pd.DataFrame(x_vs_2)"
      ],
      "metadata": {
        "id": "ndfamD_f6Rs4"
      },
      "id": "ndfamD_f6Rs4",
      "execution_count": 109,
      "outputs": []
    },
    {
      "cell_type": "code",
      "source": [
        "z_vs_2_average = x_vs_2[\"z\"].mean()\n",
        "z_vs_2_average"
      ],
      "metadata": {
        "colab": {
          "base_uri": "https://localhost:8080/"
        },
        "id": "1nNKu8JD6pj8",
        "outputId": "161e5335-ebfb-4411-ab58-671c3dff64db"
      },
      "id": "1nNKu8JD6pj8",
      "execution_count": 110,
      "outputs": [
        {
          "output_type": "execute_result",
          "data": {
            "text/plain": [
              "3.12"
            ]
          },
          "metadata": {},
          "execution_count": 110
        }
      ]
    },
    {
      "cell_type": "code",
      "source": [
        "df.loc[13601, \"z\"] = 3.12\n",
        "df.loc[13601]"
      ],
      "metadata": {
        "colab": {
          "base_uri": "https://localhost:8080/"
        },
        "id": "rvvjA4u56yEl",
        "outputId": "b2e0cd63-9a3b-4b03-d9a8-7d4273deafda"
      },
      "id": "rvvjA4u56yEl",
      "execution_count": 111,
      "outputs": [
        {
          "output_type": "execute_result",
          "data": {
            "text/plain": [
              "carat       1.15\n",
              "cut        Ideal\n",
              "color          G\n",
              "clarity      VS2\n",
              "depth       59.2\n",
              "table       56.0\n",
              "price       5564\n",
              "x           6.88\n",
              "y           6.83\n",
              "z           3.12\n",
              "Name: 13601, dtype: object"
            ]
          },
          "metadata": {},
          "execution_count": 111
        }
      ]
    },
    {
      "cell_type": "markdown",
      "source": [
        "melakukan imputasi pada baris ke 24394"
      ],
      "metadata": {
        "id": "Tt8I1fY-65FD"
      },
      "id": "Tt8I1fY-65FD"
    },
    {
      "cell_type": "code",
      "source": [
        "x_si2_9 = df[(df[\"cut\"]==\"Premium\") & (df[\"color\"]==\"H\") & (df[\"clarity\"]==\"SI2\") & (df[\"carat\"]==2.18)]\n",
        "x_si2_9 = pd.DataFrame(x_si2_9)"
      ],
      "metadata": {
        "id": "-MT9CNpK696C"
      },
      "id": "-MT9CNpK696C",
      "execution_count": 112,
      "outputs": []
    },
    {
      "cell_type": "code",
      "source": [
        "z_si2_9_average = x_si2_9[\"z\"].mean()\n",
        "z_si2_9_average"
      ],
      "metadata": {
        "colab": {
          "base_uri": "https://localhost:8080/"
        },
        "id": "IB7wbAgB7Iyc",
        "outputId": "68878719-d37f-4dc2-d989-5951c79ea36f"
      },
      "id": "IB7wbAgB7Iyc",
      "execution_count": 113,
      "outputs": [
        {
          "output_type": "execute_result",
          "data": {
            "text/plain": [
              "3.3966666666666665"
            ]
          },
          "metadata": {},
          "execution_count": 113
        }
      ]
    },
    {
      "cell_type": "code",
      "source": [
        "df.loc[24394, \"z\"] = 3.39\n",
        "df.loc[24394]"
      ],
      "metadata": {
        "colab": {
          "base_uri": "https://localhost:8080/"
        },
        "id": "l3v4gzZj7NtC",
        "outputId": "9a71c45d-4c88-43f0-ffe2-8a0b1a7d876e"
      },
      "id": "l3v4gzZj7NtC",
      "execution_count": 114,
      "outputs": [
        {
          "output_type": "execute_result",
          "data": {
            "text/plain": [
              "carat         2.18\n",
              "cut        Premium\n",
              "color            H\n",
              "clarity        SI2\n",
              "depth         59.4\n",
              "table         61.0\n",
              "price        12631\n",
              "x             8.49\n",
              "y             8.45\n",
              "z             3.39\n",
              "Name: 24394, dtype: object"
            ]
          },
          "metadata": {},
          "execution_count": 114
        }
      ]
    },
    {
      "cell_type": "markdown",
      "source": [
        "melakukan imputasi pada baris ke 26123"
      ],
      "metadata": {
        "id": "ykz9Yl-N7Ul7"
      },
      "id": "ykz9Yl-N7Ul7"
    },
    {
      "cell_type": "code",
      "source": [
        "x_si1_4 = df[(df[\"cut\"]==\"Premium\") & (df[\"color\"]==\"I\") & (df[\"clarity\"]==\"SI1\") & (df[\"carat\"]==2.25)]\n",
        "x_si1_4 = pd.DataFrame(x_si1_4)"
      ],
      "metadata": {
        "id": "JRxnvkAb7Y-o"
      },
      "id": "JRxnvkAb7Y-o",
      "execution_count": 115,
      "outputs": []
    },
    {
      "cell_type": "code",
      "source": [
        "z_si1_4_average = x_si1_4[\"z\"].mean()\n",
        "z_si1_4_average"
      ],
      "metadata": {
        "colab": {
          "base_uri": "https://localhost:8080/"
        },
        "id": "D0ACTkCN7nds",
        "outputId": "6ceb6213-8fe7-482c-f662-eda920614fca"
      },
      "id": "D0ACTkCN7nds",
      "execution_count": 116,
      "outputs": [
        {
          "output_type": "execute_result",
          "data": {
            "text/plain": [
              "2.565"
            ]
          },
          "metadata": {},
          "execution_count": 116
        }
      ]
    },
    {
      "cell_type": "code",
      "source": [
        "df.loc[26123, \"z\"] = 2.56\n",
        "df.loc[26123]"
      ],
      "metadata": {
        "colab": {
          "base_uri": "https://localhost:8080/"
        },
        "id": "rgbypXEy7rm-",
        "outputId": "e8b43fa2-2df0-4dc1-afa5-e79b7316c10c"
      },
      "id": "rgbypXEy7rm-",
      "execution_count": 117,
      "outputs": [
        {
          "output_type": "execute_result",
          "data": {
            "text/plain": [
              "carat         2.25\n",
              "cut        Premium\n",
              "color            I\n",
              "clarity        SI1\n",
              "depth         61.3\n",
              "table         58.0\n",
              "price        15397\n",
              "x             8.52\n",
              "y             8.42\n",
              "z             2.56\n",
              "Name: 26123, dtype: object"
            ]
          },
          "metadata": {},
          "execution_count": 117
        }
      ]
    },
    {
      "cell_type": "markdown",
      "source": [
        "melakukan imputasi pada baris ke 27112"
      ],
      "metadata": {
        "id": "rFPfwKL47wNh"
      },
      "id": "rFPfwKL47wNh"
    },
    {
      "cell_type": "code",
      "source": [
        "x_si1_5 = df[(df[\"cut\"]==\"Premium\") & (df[\"color\"]==\"H\") & (df[\"clarity\"]==\"SI1\") & (df[\"carat\"]==2.0)]\n",
        "x_si1_5 = pd.DataFrame(x_si1_5)"
      ],
      "metadata": {
        "id": "bnQcdtSz70-S"
      },
      "id": "bnQcdtSz70-S",
      "execution_count": 125,
      "outputs": []
    },
    {
      "cell_type": "markdown",
      "source": [
        "karena carat = 2.20 yang sesuai dengan baris 27112 tidak ada angka lain selain 0 pada z-nya, sehingga menggunakan carat 2.0 untuk pendekatan"
      ],
      "metadata": {
        "id": "BduWWulJ8lpk"
      },
      "id": "BduWWulJ8lpk"
    },
    {
      "cell_type": "code",
      "source": [
        "z_si1_5_average = x_si1_5[\"z\"].mean()\n",
        "z_si1_5_average"
      ],
      "metadata": {
        "colab": {
          "base_uri": "https://localhost:8080/"
        },
        "id": "cir5LADo7_Qw",
        "outputId": "9993a90c-4366-484c-b59d-b439c75140df"
      },
      "id": "cir5LADo7_Qw",
      "execution_count": 126,
      "outputs": [
        {
          "output_type": "execute_result",
          "data": {
            "text/plain": [
              "4.905555555555555"
            ]
          },
          "metadata": {},
          "execution_count": 126
        }
      ]
    },
    {
      "cell_type": "code",
      "source": [
        "df.loc[27112, \"z\"] = 4.90\n",
        "df.loc[27112]"
      ],
      "metadata": {
        "colab": {
          "base_uri": "https://localhost:8080/"
        },
        "id": "2coQ-wHs8HNc",
        "outputId": "f05f5f73-27d8-4628-dd5e-4ad073b6c224"
      },
      "id": "2coQ-wHs8HNc",
      "execution_count": 127,
      "outputs": [
        {
          "output_type": "execute_result",
          "data": {
            "text/plain": [
              "carat          2.2\n",
              "cut        Premium\n",
              "color            H\n",
              "clarity        SI1\n",
              "depth         61.2\n",
              "table         59.0\n",
              "price        17265\n",
              "x             8.42\n",
              "y             8.37\n",
              "z              4.9\n",
              "Name: 27112, dtype: object"
            ]
          },
          "metadata": {},
          "execution_count": 127
        }
      ]
    },
    {
      "cell_type": "markdown",
      "source": [
        "melakukan imputasi pada baris ke 27503"
      ],
      "metadata": {
        "id": "RjXMKBsF839D"
      },
      "id": "RjXMKBsF839D"
    },
    {
      "cell_type": "code",
      "source": [
        "x_vs2_4 = df[(df[\"cut\"]==\"Premium\") & (df[\"color\"]==\"H\") & (df[\"clarity\"]==\"VS2\") & (df[\"carat\"]==2.02)]\n",
        "x_vs2_4 = pd.DataFrame(x_vs2_4)"
      ],
      "metadata": {
        "id": "rZgnPZmF88n6"
      },
      "id": "rZgnPZmF88n6",
      "execution_count": 128,
      "outputs": []
    },
    {
      "cell_type": "code",
      "source": [
        "z_vs2_4_average = x_vs2_4[\"z\"].mean()\n",
        "z_vs2_4_average"
      ],
      "metadata": {
        "colab": {
          "base_uri": "https://localhost:8080/"
        },
        "id": "4-bfACV49O8y",
        "outputId": "18d84f46-d0a3-4845-85df-c876b1794594"
      },
      "id": "4-bfACV49O8y",
      "execution_count": 129,
      "outputs": [
        {
          "output_type": "execute_result",
          "data": {
            "text/plain": [
              "3.313333333333334"
            ]
          },
          "metadata": {},
          "execution_count": 129
        }
      ]
    },
    {
      "cell_type": "code",
      "source": [
        "df.loc[27503, \"z\"] = 3.31\n",
        "df.loc[27503]"
      ],
      "metadata": {
        "colab": {
          "base_uri": "https://localhost:8080/"
        },
        "id": "RVl0TpPn9XUs",
        "outputId": "9a32a78e-2570-4caa-8620-6e6be1bc118a"
      },
      "id": "RVl0TpPn9XUs",
      "execution_count": 130,
      "outputs": [
        {
          "output_type": "execute_result",
          "data": {
            "text/plain": [
              "carat         2.02\n",
              "cut        Premium\n",
              "color            H\n",
              "clarity        VS2\n",
              "depth         62.7\n",
              "table         53.0\n",
              "price        18207\n",
              "x             8.02\n",
              "y             7.95\n",
              "z             3.31\n",
              "Name: 27503, dtype: object"
            ]
          },
          "metadata": {},
          "execution_count": 130
        }
      ]
    },
    {
      "cell_type": "markdown",
      "source": [
        "melakukan imputasi pada baris ke 27739"
      ],
      "metadata": {
        "id": "1PuIgeKa9hCT"
      },
      "id": "1PuIgeKa9hCT"
    },
    {
      "cell_type": "code",
      "source": [
        "x_si2_10 = df[(df[\"cut\"]==\"Good\") & (df[\"color\"]==\"G\") & (df[\"clarity\"]==\"SI2\") & (df[\"carat\"]==2.52)]\n",
        "x_si2_10"
      ],
      "metadata": {
        "colab": {
          "base_uri": "https://localhost:8080/",
          "height": 81
        },
        "id": "kDkslxel9nBD",
        "outputId": "59e335b1-ef5e-4756-e0a7-e3277590f4cd"
      },
      "id": "kDkslxel9nBD",
      "execution_count": 136,
      "outputs": [
        {
          "output_type": "execute_result",
          "data": {
            "text/plain": [
              "       carat   cut color clarity  depth  table  price     x     y     z\n",
              "27239   2.52  Good     G     SI2   63.7   59.0  17608  8.57  8.52  5.44"
            ],
            "text/html": [
              "\n",
              "  <div id=\"df-a7df795f-6a5c-4aa0-bf00-d8110ccf2147\">\n",
              "    <div class=\"colab-df-container\">\n",
              "      <div>\n",
              "<style scoped>\n",
              "    .dataframe tbody tr th:only-of-type {\n",
              "        vertical-align: middle;\n",
              "    }\n",
              "\n",
              "    .dataframe tbody tr th {\n",
              "        vertical-align: top;\n",
              "    }\n",
              "\n",
              "    .dataframe thead th {\n",
              "        text-align: right;\n",
              "    }\n",
              "</style>\n",
              "<table border=\"1\" class=\"dataframe\">\n",
              "  <thead>\n",
              "    <tr style=\"text-align: right;\">\n",
              "      <th></th>\n",
              "      <th>carat</th>\n",
              "      <th>cut</th>\n",
              "      <th>color</th>\n",
              "      <th>clarity</th>\n",
              "      <th>depth</th>\n",
              "      <th>table</th>\n",
              "      <th>price</th>\n",
              "      <th>x</th>\n",
              "      <th>y</th>\n",
              "      <th>z</th>\n",
              "    </tr>\n",
              "  </thead>\n",
              "  <tbody>\n",
              "    <tr>\n",
              "      <th>27239</th>\n",
              "      <td>2.52</td>\n",
              "      <td>Good</td>\n",
              "      <td>G</td>\n",
              "      <td>SI2</td>\n",
              "      <td>63.7</td>\n",
              "      <td>59.0</td>\n",
              "      <td>17608</td>\n",
              "      <td>8.57</td>\n",
              "      <td>8.52</td>\n",
              "      <td>5.44</td>\n",
              "    </tr>\n",
              "  </tbody>\n",
              "</table>\n",
              "</div>\n",
              "      <button class=\"colab-df-convert\" onclick=\"convertToInteractive('df-a7df795f-6a5c-4aa0-bf00-d8110ccf2147')\"\n",
              "              title=\"Convert this dataframe to an interactive table.\"\n",
              "              style=\"display:none;\">\n",
              "        \n",
              "  <svg xmlns=\"http://www.w3.org/2000/svg\" height=\"24px\"viewBox=\"0 0 24 24\"\n",
              "       width=\"24px\">\n",
              "    <path d=\"M0 0h24v24H0V0z\" fill=\"none\"/>\n",
              "    <path d=\"M18.56 5.44l.94 2.06.94-2.06 2.06-.94-2.06-.94-.94-2.06-.94 2.06-2.06.94zm-11 1L8.5 8.5l.94-2.06 2.06-.94-2.06-.94L8.5 2.5l-.94 2.06-2.06.94zm10 10l.94 2.06.94-2.06 2.06-.94-2.06-.94-.94-2.06-.94 2.06-2.06.94z\"/><path d=\"M17.41 7.96l-1.37-1.37c-.4-.4-.92-.59-1.43-.59-.52 0-1.04.2-1.43.59L10.3 9.45l-7.72 7.72c-.78.78-.78 2.05 0 2.83L4 21.41c.39.39.9.59 1.41.59.51 0 1.02-.2 1.41-.59l7.78-7.78 2.81-2.81c.8-.78.8-2.07 0-2.86zM5.41 20L4 18.59l7.72-7.72 1.47 1.35L5.41 20z\"/>\n",
              "  </svg>\n",
              "      </button>\n",
              "      \n",
              "  <style>\n",
              "    .colab-df-container {\n",
              "      display:flex;\n",
              "      flex-wrap:wrap;\n",
              "      gap: 12px;\n",
              "    }\n",
              "\n",
              "    .colab-df-convert {\n",
              "      background-color: #E8F0FE;\n",
              "      border: none;\n",
              "      border-radius: 50%;\n",
              "      cursor: pointer;\n",
              "      display: none;\n",
              "      fill: #1967D2;\n",
              "      height: 32px;\n",
              "      padding: 0 0 0 0;\n",
              "      width: 32px;\n",
              "    }\n",
              "\n",
              "    .colab-df-convert:hover {\n",
              "      background-color: #E2EBFA;\n",
              "      box-shadow: 0px 1px 2px rgba(60, 64, 67, 0.3), 0px 1px 3px 1px rgba(60, 64, 67, 0.15);\n",
              "      fill: #174EA6;\n",
              "    }\n",
              "\n",
              "    [theme=dark] .colab-df-convert {\n",
              "      background-color: #3B4455;\n",
              "      fill: #D2E3FC;\n",
              "    }\n",
              "\n",
              "    [theme=dark] .colab-df-convert:hover {\n",
              "      background-color: #434B5C;\n",
              "      box-shadow: 0px 1px 3px 1px rgba(0, 0, 0, 0.15);\n",
              "      filter: drop-shadow(0px 1px 2px rgba(0, 0, 0, 0.3));\n",
              "      fill: #FFFFFF;\n",
              "    }\n",
              "  </style>\n",
              "\n",
              "      <script>\n",
              "        const buttonEl =\n",
              "          document.querySelector('#df-a7df795f-6a5c-4aa0-bf00-d8110ccf2147 button.colab-df-convert');\n",
              "        buttonEl.style.display =\n",
              "          google.colab.kernel.accessAllowed ? 'block' : 'none';\n",
              "\n",
              "        async function convertToInteractive(key) {\n",
              "          const element = document.querySelector('#df-a7df795f-6a5c-4aa0-bf00-d8110ccf2147');\n",
              "          const dataTable =\n",
              "            await google.colab.kernel.invokeFunction('convertToInteractive',\n",
              "                                                     [key], {});\n",
              "          if (!dataTable) return;\n",
              "\n",
              "          const docLinkHtml = 'Like what you see? Visit the ' +\n",
              "            '<a target=\"_blank\" href=https://colab.research.google.com/notebooks/data_table.ipynb>data table notebook</a>'\n",
              "            + ' to learn more about interactive tables.';\n",
              "          element.innerHTML = '';\n",
              "          dataTable['output_type'] = 'display_data';\n",
              "          await google.colab.output.renderOutput(dataTable, element);\n",
              "          const docLink = document.createElement('div');\n",
              "          docLink.innerHTML = docLinkHtml;\n",
              "          element.appendChild(docLink);\n",
              "        }\n",
              "      </script>\n",
              "    </div>\n",
              "  </div>\n",
              "  "
            ]
          },
          "metadata": {},
          "execution_count": 136
        }
      ]
    },
    {
      "cell_type": "markdown",
      "source": [
        "karena tidak terdapat carat 2.8, maka melakukan pendekatan dengan menggunakan carat 2.52 sebagai nilai terdekat"
      ],
      "metadata": {
        "id": "WhcXEb8e-RMr"
      },
      "id": "WhcXEb8e-RMr"
    },
    {
      "cell_type": "code",
      "source": [
        "z_si2_10_average = x_si2_10[\"z\"].mean()\n",
        "z_si2_10_average"
      ],
      "metadata": {
        "colab": {
          "base_uri": "https://localhost:8080/"
        },
        "id": "mvDAOZm093Th",
        "outputId": "3c94d5fe-192f-44b5-b8de-56be694d8fb7"
      },
      "id": "mvDAOZm093Th",
      "execution_count": 137,
      "outputs": [
        {
          "output_type": "execute_result",
          "data": {
            "text/plain": [
              "5.44"
            ]
          },
          "metadata": {},
          "execution_count": 137
        }
      ]
    },
    {
      "cell_type": "code",
      "source": [
        "df.loc[27739, \"z\"] = 5.44\n",
        "df.loc[27739]"
      ],
      "metadata": {
        "colab": {
          "base_uri": "https://localhost:8080/"
        },
        "id": "pRPVDkV8-iV9",
        "outputId": "b7f1a2d0-d0e7-4d3a-a60b-2acc62d6d81c"
      },
      "id": "pRPVDkV8-iV9",
      "execution_count": 138,
      "outputs": [
        {
          "output_type": "execute_result",
          "data": {
            "text/plain": [
              "carat        2.8\n",
              "cut         Good\n",
              "color          G\n",
              "clarity      SI2\n",
              "depth       63.8\n",
              "table       58.0\n",
              "price      18788\n",
              "x            8.9\n",
              "y           8.85\n",
              "z           5.44\n",
              "Name: 27739, dtype: object"
            ]
          },
          "metadata": {},
          "execution_count": 138
        }
      ]
    },
    {
      "cell_type": "markdown",
      "source": [
        "melakukan imputasi pada baris ke 51506"
      ],
      "metadata": {
        "id": "nMZTSlxk-n-e"
      },
      "id": "nMZTSlxk-n-e"
    },
    {
      "cell_type": "code",
      "source": [
        "x_i1_3 = df[(df[\"cut\"]==\"Premium\") & (df[\"color\"]==\"G\") & (df[\"clarity\"]==\"I1\") & (df[\"carat\"]==1.12)]\n",
        "x_i1_3 = pd.DataFrame(x_i1_3)"
      ],
      "metadata": {
        "id": "6Xj__MQx-si6"
      },
      "id": "6Xj__MQx-si6",
      "execution_count": 139,
      "outputs": []
    },
    {
      "cell_type": "code",
      "source": [
        "z_i1_3_average = x_i1_3[\"z\"].mean()\n",
        "z_i1_3_average"
      ],
      "metadata": {
        "colab": {
          "base_uri": "https://localhost:8080/"
        },
        "id": "b5nLBGh9-5Nh",
        "outputId": "4698b2bc-9e8b-40e8-a2e3-9d920a1c8625"
      },
      "id": "b5nLBGh9-5Nh",
      "execution_count": 140,
      "outputs": [
        {
          "output_type": "execute_result",
          "data": {
            "text/plain": [
              "2.025"
            ]
          },
          "metadata": {},
          "execution_count": 140
        }
      ]
    },
    {
      "cell_type": "code",
      "source": [
        "df.loc[51506, \"z\"] = 2.025\n",
        "df.loc[51506]"
      ],
      "metadata": {
        "colab": {
          "base_uri": "https://localhost:8080/"
        },
        "id": "NdRATM3U_AjT",
        "outputId": "83b1cab1-b5fc-4d58-fcd2-2f12ccfa23bb"
      },
      "id": "NdRATM3U_AjT",
      "execution_count": 141,
      "outputs": [
        {
          "output_type": "execute_result",
          "data": {
            "text/plain": [
              "carat         1.12\n",
              "cut        Premium\n",
              "color            G\n",
              "clarity         I1\n",
              "depth         60.4\n",
              "table         59.0\n",
              "price         2383\n",
              "x             6.71\n",
              "y             6.67\n",
              "z            2.025\n",
              "Name: 51506, dtype: object"
            ]
          },
          "metadata": {},
          "execution_count": 141
        }
      ]
    },
    {
      "cell_type": "markdown",
      "source": [
        "Selanjutnya, melakukan pengecekan ulang"
      ],
      "metadata": {
        "id": "B94vKa-G_JLH"
      },
      "id": "B94vKa-G_JLH"
    },
    {
      "cell_type": "code",
      "source": [
        "df.plot(x=\"z\", y=\"price\", kind=\"scatter\")\n",
        "plt.show()"
      ],
      "metadata": {
        "colab": {
          "base_uri": "https://localhost:8080/",
          "height": 279
        },
        "id": "lz5X-Yqw_Lkl",
        "outputId": "1eac8ebb-0be9-4d85-ccf8-79dca6dd0f26"
      },
      "id": "lz5X-Yqw_Lkl",
      "execution_count": 142,
      "outputs": [
        {
          "output_type": "display_data",
          "data": {
            "text/plain": [
              "<Figure size 432x288 with 1 Axes>"
            ],
            "image/png": "[encoded data removed]"
          },
          "metadata": {
            "needs_background": "light"
          }
        }
      ]
    },
    {
      "cell_type": "markdown",
      "source": [
        "Masih terdapat outlier pada angka 30, mari kita cek"
      ],
      "metadata": {
        "id": "U6nJyfdb_QvO"
      },
      "id": "U6nJyfdb_QvO"
    },
    {
      "cell_type": "code",
      "source": [
        "df.loc[df[\"z\"] > 30]"
      ],
      "metadata": {
        "colab": {
          "base_uri": "https://localhost:8080/",
          "height": 81
        },
        "id": "KxcY_ym9_S5r",
        "outputId": "955e5800-f340-4929-e5bb-efadfce9452f"
      },
      "id": "KxcY_ym9_S5r",
      "execution_count": 146,
      "outputs": [
        {
          "output_type": "execute_result",
          "data": {
            "text/plain": [
              "       carat        cut color clarity  depth  table  price     x     y     z\n",
              "48410   0.51  Very Good     E     VS1   61.8   54.7   1970  5.12  5.15  31.8"
            ],
            "text/html": [
              "\n",
              "  <div id=\"df-1b988f8b-ff68-404b-959f-631308786eb2\">\n",
              "    <div class=\"colab-df-container\">\n",
              "      <div>\n",
              "<style scoped>\n",
              "    .dataframe tbody tr th:only-of-type {\n",
              "        vertical-align: middle;\n",
              "    }\n",
              "\n",
              "    .dataframe tbody tr th {\n",
              "        vertical-align: top;\n",
              "    }\n",
              "\n",
              "    .dataframe thead th {\n",
              "        text-align: right;\n",
              "    }\n",
              "</style>\n",
              "<table border=\"1\" class=\"dataframe\">\n",
              "  <thead>\n",
              "    <tr style=\"text-align: right;\">\n",
              "      <th></th>\n",
              "      <th>carat</th>\n",
              "      <th>cut</th>\n",
              "      <th>color</th>\n",
              "      <th>clarity</th>\n",
              "      <th>depth</th>\n",
              "      <th>table</th>\n",
              "      <th>price</th>\n",
              "      <th>x</th>\n",
              "      <th>y</th>\n",
              "      <th>z</th>\n",
              "    </tr>\n",
              "  </thead>\n",
              "  <tbody>\n",
              "    <tr>\n",
              "      <th>48410</th>\n",
              "      <td>0.51</td>\n",
              "      <td>Very Good</td>\n",
              "      <td>E</td>\n",
              "      <td>VS1</td>\n",
              "      <td>61.8</td>\n",
              "      <td>54.7</td>\n",
              "      <td>1970</td>\n",
              "      <td>5.12</td>\n",
              "      <td>5.15</td>\n",
              "      <td>31.8</td>\n",
              "    </tr>\n",
              "  </tbody>\n",
              "</table>\n",
              "</div>\n",
              "      <button class=\"colab-df-convert\" onclick=\"convertToInteractive('df-1b988f8b-ff68-404b-959f-631308786eb2')\"\n",
              "              title=\"Convert this dataframe to an interactive table.\"\n",
              "              style=\"display:none;\">\n",
              "        \n",
              "  <svg xmlns=\"http://www.w3.org/2000/svg\" height=\"24px\"viewBox=\"0 0 24 24\"\n",
              "       width=\"24px\">\n",
              "    <path d=\"M0 0h24v24H0V0z\" fill=\"none\"/>\n",
              "    <path d=\"M18.56 5.44l.94 2.06.94-2.06 2.06-.94-2.06-.94-.94-2.06-.94 2.06-2.06.94zm-11 1L8.5 8.5l.94-2.06 2.06-.94-2.06-.94L8.5 2.5l-.94 2.06-2.06.94zm10 10l.94 2.06.94-2.06 2.06-.94-2.06-.94-.94-2.06-.94 2.06-2.06.94z\"/><path d=\"M17.41 7.96l-1.37-1.37c-.4-.4-.92-.59-1.43-.59-.52 0-1.04.2-1.43.59L10.3 9.45l-7.72 7.72c-.78.78-.78 2.05 0 2.83L4 21.41c.39.39.9.59 1.41.59.51 0 1.02-.2 1.41-.59l7.78-7.78 2.81-2.81c.8-.78.8-2.07 0-2.86zM5.41 20L4 18.59l7.72-7.72 1.47 1.35L5.41 20z\"/>\n",
              "  </svg>\n",
              "      </button>\n",
              "      \n",
              "  <style>\n",
              "    .colab-df-container {\n",
              "      display:flex;\n",
              "      flex-wrap:wrap;\n",
              "      gap: 12px;\n",
              "    }\n",
              "\n",
              "    .colab-df-convert {\n",
              "      background-color: #E8F0FE;\n",
              "      border: none;\n",
              "      border-radius: 50%;\n",
              "      cursor: pointer;\n",
              "      display: none;\n",
              "      fill: #1967D2;\n",
              "      height: 32px;\n",
              "      padding: 0 0 0 0;\n",
              "      width: 32px;\n",
              "    }\n",
              "\n",
              "    .colab-df-convert:hover {\n",
              "      background-color: #E2EBFA;\n",
              "      box-shadow: 0px 1px 2px rgba(60, 64, 67, 0.3), 0px 1px 3px 1px rgba(60, 64, 67, 0.15);\n",
              "      fill: #174EA6;\n",
              "    }\n",
              "\n",
              "    [theme=dark] .colab-df-convert {\n",
              "      background-color: #3B4455;\n",
              "      fill: #D2E3FC;\n",
              "    }\n",
              "\n",
              "    [theme=dark] .colab-df-convert:hover {\n",
              "      background-color: #434B5C;\n",
              "      box-shadow: 0px 1px 3px 1px rgba(0, 0, 0, 0.15);\n",
              "      filter: drop-shadow(0px 1px 2px rgba(0, 0, 0, 0.3));\n",
              "      fill: #FFFFFF;\n",
              "    }\n",
              "  </style>\n",
              "\n",
              "      <script>\n",
              "        const buttonEl =\n",
              "          document.querySelector('#df-1b988f8b-ff68-404b-959f-631308786eb2 button.colab-df-convert');\n",
              "        buttonEl.style.display =\n",
              "          google.colab.kernel.accessAllowed ? 'block' : 'none';\n",
              "\n",
              "        async function convertToInteractive(key) {\n",
              "          const element = document.querySelector('#df-1b988f8b-ff68-404b-959f-631308786eb2');\n",
              "          const dataTable =\n",
              "            await google.colab.kernel.invokeFunction('convertToInteractive',\n",
              "                                                     [key], {});\n",
              "          if (!dataTable) return;\n",
              "\n",
              "          const docLinkHtml = 'Like what you see? Visit the ' +\n",
              "            '<a target=\"_blank\" href=https://colab.research.google.com/notebooks/data_table.ipynb>data table notebook</a>'\n",
              "            + ' to learn more about interactive tables.';\n",
              "          element.innerHTML = '';\n",
              "          dataTable['output_type'] = 'display_data';\n",
              "          await google.colab.output.renderOutput(dataTable, element);\n",
              "          const docLink = document.createElement('div');\n",
              "          docLink.innerHTML = docLinkHtml;\n",
              "          element.appendChild(docLink);\n",
              "        }\n",
              "      </script>\n",
              "    </div>\n",
              "  </div>\n",
              "  "
            ]
          },
          "metadata": {},
          "execution_count": 146
        }
      ]
    },
    {
      "cell_type": "code",
      "source": [
        "x_vs1_3 = df[(df[\"cut\"]==\"Very Good\") & (df[\"color\"]==\"E\") & (df[\"clarity\"]==\"VS1\") & (df[\"carat\"]==0.51)]\n",
        "x_vs1_3"
      ],
      "metadata": {
        "colab": {
          "base_uri": "https://localhost:8080/",
          "height": 394
        },
        "id": "es2cwhUO_oll",
        "outputId": "44aba408-5882-4b5a-b02b-70aaf4329bef"
      },
      "id": "es2cwhUO_oll",
      "execution_count": 147,
      "outputs": [
        {
          "output_type": "execute_result",
          "data": {
            "text/plain": [
              "       carat        cut color clarity  depth  table  price     x     y      z\n",
              "44391   0.51  Very Good     E     VS1   58.1   60.0   1583  5.28  5.32   3.08\n",
              "44941   0.51  Very Good     E     VS1   64.4   55.0   1634  5.03  5.07   3.25\n",
              "44955   0.51  Very Good     E     VS1   62.0   61.0   1636  5.11  5.14   3.18\n",
              "45690   0.51  Very Good     E     VS1   60.4   59.0   1697  5.16  5.20   3.13\n",
              "45875   0.51  Very Good     E     VS1   60.0   57.0   1717  5.18  5.25   3.13\n",
              "45876   0.51  Very Good     E     VS1   61.0   59.0   1717  5.13  5.17   3.14\n",
              "46490   0.51  Very Good     E     VS1   61.6   59.0   1778  5.10  5.12   3.15\n",
              "47222   0.51  Very Good     E     VS1   61.1   59.0   1839  5.14  5.20   3.16\n",
              "47235   0.51  Very Good     E     VS1   59.6   56.0   1841  5.19  5.24   3.11\n",
              "48410   0.51  Very Good     E     VS1   61.8   54.7   1970  5.12  5.15  31.80\n",
              "48411   0.51  Very Good     E     VS1   62.8   57.1   1970  5.07  5.10   3.20"
            ],
            "text/html": [
              "\n",
              "  <div id=\"df-a9429644-8271-4f2c-8125-a04f408a29ff\">\n",
              "    <div class=\"colab-df-container\">\n",
              "      <div>\n",
              "<style scoped>\n",
              "    .dataframe tbody tr th:only-of-type {\n",
              "        vertical-align: middle;\n",
              "    }\n",
              "\n",
              "    .dataframe tbody tr th {\n",
              "        vertical-align: top;\n",
              "    }\n",
              "\n",
              "    .dataframe thead th {\n",
              "        text-align: right;\n",
              "    }\n",
              "</style>\n",
              "<table border=\"1\" class=\"dataframe\">\n",
              "  <thead>\n",
              "    <tr style=\"text-align: right;\">\n",
              "      <th></th>\n",
              "      <th>carat</th>\n",
              "      <th>cut</th>\n",
              "      <th>color</th>\n",
              "      <th>clarity</th>\n",
              "      <th>depth</th>\n",
              "      <th>table</th>\n",
              "      <th>price</th>\n",
              "      <th>x</th>\n",
              "      <th>y</th>\n",
              "      <th>z</th>\n",
              "    </tr>\n",
              "  </thead>\n",
              "  <tbody>\n",
              "    <tr>\n",
              "      <th>44391</th>\n",
              "      <td>0.51</td>\n",
              "      <td>Very Good</td>\n",
              "      <td>E</td>\n",
              "      <td>VS1</td>\n",
              "      <td>58.1</td>\n",
              "      <td>60.0</td>\n",
              "      <td>1583</td>\n",
              "      <td>5.28</td>\n",
              "      <td>5.32</td>\n",
              "      <td>3.08</td>\n",
              "    </tr>\n",
              "    <tr>\n",
              "      <th>44941</th>\n",
              "      <td>0.51</td>\n",
              "      <td>Very Good</td>\n",
              "      <td>E</td>\n",
              "      <td>VS1</td>\n",
              "      <td>64.4</td>\n",
              "      <td>55.0</td>\n",
              "      <td>1634</td>\n",
              "      <td>5.03</td>\n",
              "      <td>5.07</td>\n",
              "      <td>3.25</td>\n",
              "    </tr>\n",
              "    <tr>\n",
              "      <th>44955</th>\n",
              "      <td>0.51</td>\n",
              "      <td>Very Good</td>\n",
              "      <td>E</td>\n",
              "      <td>VS1</td>\n",
              "      <td>62.0</td>\n",
              "      <td>61.0</td>\n",
              "      <td>1636</td>\n",
              "      <td>5.11</td>\n",
              "      <td>5.14</td>\n",
              "      <td>3.18</td>\n",
              "    </tr>\n",
              "    <tr>\n",
              "      <th>45690</th>\n",
              "      <td>0.51</td>\n",
              "      <td>Very Good</td>\n",
              "      <td>E</td>\n",
              "      <td>VS1</td>\n",
              "      <td>60.4</td>\n",
              "      <td>59.0</td>\n",
              "      <td>1697</td>\n",
              "      <td>5.16</td>\n",
              "      <td>5.20</td>\n",
              "      <td>3.13</td>\n",
              "    </tr>\n",
              "    <tr>\n",
              "      <th>45875</th>\n",
              "      <td>0.51</td>\n",
              "      <td>Very Good</td>\n",
              "      <td>E</td>\n",
              "      <td>VS1</td>\n",
              "      <td>60.0</td>\n",
              "      <td>57.0</td>\n",
              "      <td>1717</td>\n",
              "      <td>5.18</td>\n",
              "      <td>5.25</td>\n",
              "      <td>3.13</td>\n",
              "    </tr>\n",
              "    <tr>\n",
              "      <th>45876</th>\n",
              "      <td>0.51</td>\n",
              "      <td>Very Good</td>\n",
              "      <td>E</td>\n",
              "      <td>VS1</td>\n",
              "      <td>61.0</td>\n",
              "      <td>59.0</td>\n",
              "      <td>1717</td>\n",
              "      <td>5.13</td>\n",
              "      <td>5.17</td>\n",
              "      <td>3.14</td>\n",
              "    </tr>\n",
              "    <tr>\n",
              "      <th>46490</th>\n",
              "      <td>0.51</td>\n",
              "      <td>Very Good</td>\n",
              "      <td>E</td>\n",
              "      <td>VS1</td>\n",
              "      <td>61.6</td>\n",
              "      <td>59.0</td>\n",
              "      <td>1778</td>\n",
              "      <td>5.10</td>\n",
              "      <td>5.12</td>\n",
              "      <td>3.15</td>\n",
              "    </tr>\n",
              "    <tr>\n",
              "      <th>47222</th>\n",
              "      <td>0.51</td>\n",
              "      <td>Very Good</td>\n",
              "      <td>E</td>\n",
              "      <td>VS1</td>\n",
              "      <td>61.1</td>\n",
              "      <td>59.0</td>\n",
              "      <td>1839</td>\n",
              "      <td>5.14</td>\n",
              "      <td>5.20</td>\n",
              "      <td>3.16</td>\n",
              "    </tr>\n",
              "    <tr>\n",
              "      <th>47235</th>\n",
              "      <td>0.51</td>\n",
              "      <td>Very Good</td>\n",
              "      <td>E</td>\n",
              "      <td>VS1</td>\n",
              "      <td>59.6</td>\n",
              "      <td>56.0</td>\n",
              "      <td>1841</td>\n",
              "      <td>5.19</td>\n",
              "      <td>5.24</td>\n",
              "      <td>3.11</td>\n",
              "    </tr>\n",
              "    <tr>\n",
              "      <th>48410</th>\n",
              "      <td>0.51</td>\n",
              "      <td>Very Good</td>\n",
              "      <td>E</td>\n",
              "      <td>VS1</td>\n",
              "      <td>61.8</td>\n",
              "      <td>54.7</td>\n",
              "      <td>1970</td>\n",
              "      <td>5.12</td>\n",
              "      <td>5.15</td>\n",
              "      <td>31.80</td>\n",
              "    </tr>\n",
              "    <tr>\n",
              "      <th>48411</th>\n",
              "      <td>0.51</td>\n",
              "      <td>Very Good</td>\n",
              "      <td>E</td>\n",
              "      <td>VS1</td>\n",
              "      <td>62.8</td>\n",
              "      <td>57.1</td>\n",
              "      <td>1970</td>\n",
              "      <td>5.07</td>\n",
              "      <td>5.10</td>\n",
              "      <td>3.20</td>\n",
              "    </tr>\n",
              "  </tbody>\n",
              "</table>\n",
              "</div>\n",
              "      <button class=\"colab-df-convert\" onclick=\"convertToInteractive('df-a9429644-8271-4f2c-8125-a04f408a29ff')\"\n",
              "              title=\"Convert this dataframe to an interactive table.\"\n",
              "              style=\"display:none;\">\n",
              "        \n",
              "  <svg xmlns=\"http://www.w3.org/2000/svg\" height=\"24px\"viewBox=\"0 0 24 24\"\n",
              "       width=\"24px\">\n",
              "    <path d=\"M0 0h24v24H0V0z\" fill=\"none\"/>\n",
              "    <path d=\"M18.56 5.44l.94 2.06.94-2.06 2.06-.94-2.06-.94-.94-2.06-.94 2.06-2.06.94zm-11 1L8.5 8.5l.94-2.06 2.06-.94-2.06-.94L8.5 2.5l-.94 2.06-2.06.94zm10 10l.94 2.06.94-2.06 2.06-.94-2.06-.94-.94-2.06-.94 2.06-2.06.94z\"/><path d=\"M17.41 7.96l-1.37-1.37c-.4-.4-.92-.59-1.43-.59-.52 0-1.04.2-1.43.59L10.3 9.45l-7.72 7.72c-.78.78-.78 2.05 0 2.83L4 21.41c.39.39.9.59 1.41.59.51 0 1.02-.2 1.41-.59l7.78-7.78 2.81-2.81c.8-.78.8-2.07 0-2.86zM5.41 20L4 18.59l7.72-7.72 1.47 1.35L5.41 20z\"/>\n",
              "  </svg>\n",
              "      </button>\n",
              "      \n",
              "  <style>\n",
              "    .colab-df-container {\n",
              "      display:flex;\n",
              "      flex-wrap:wrap;\n",
              "      gap: 12px;\n",
              "    }\n",
              "\n",
              "    .colab-df-convert {\n",
              "      background-color: #E8F0FE;\n",
              "      border: none;\n",
              "      border-radius: 50%;\n",
              "      cursor: pointer;\n",
              "      display: none;\n",
              "      fill: #1967D2;\n",
              "      height: 32px;\n",
              "      padding: 0 0 0 0;\n",
              "      width: 32px;\n",
              "    }\n",
              "\n",
              "    .colab-df-convert:hover {\n",
              "      background-color: #E2EBFA;\n",
              "      box-shadow: 0px 1px 2px rgba(60, 64, 67, 0.3), 0px 1px 3px 1px rgba(60, 64, 67, 0.15);\n",
              "      fill: #174EA6;\n",
              "    }\n",
              "\n",
              "    [theme=dark] .colab-df-convert {\n",
              "      background-color: #3B4455;\n",
              "      fill: #D2E3FC;\n",
              "    }\n",
              "\n",
              "    [theme=dark] .colab-df-convert:hover {\n",
              "      background-color: #434B5C;\n",
              "      box-shadow: 0px 1px 3px 1px rgba(0, 0, 0, 0.15);\n",
              "      filter: drop-shadow(0px 1px 2px rgba(0, 0, 0, 0.3));\n",
              "      fill: #FFFFFF;\n",
              "    }\n",
              "  </style>\n",
              "\n",
              "      <script>\n",
              "        const buttonEl =\n",
              "          document.querySelector('#df-a9429644-8271-4f2c-8125-a04f408a29ff button.colab-df-convert');\n",
              "        buttonEl.style.display =\n",
              "          google.colab.kernel.accessAllowed ? 'block' : 'none';\n",
              "\n",
              "        async function convertToInteractive(key) {\n",
              "          const element = document.querySelector('#df-a9429644-8271-4f2c-8125-a04f408a29ff');\n",
              "          const dataTable =\n",
              "            await google.colab.kernel.invokeFunction('convertToInteractive',\n",
              "                                                     [key], {});\n",
              "          if (!dataTable) return;\n",
              "\n",
              "          const docLinkHtml = 'Like what you see? Visit the ' +\n",
              "            '<a target=\"_blank\" href=https://colab.research.google.com/notebooks/data_table.ipynb>data table notebook</a>'\n",
              "            + ' to learn more about interactive tables.';\n",
              "          element.innerHTML = '';\n",
              "          dataTable['output_type'] = 'display_data';\n",
              "          await google.colab.output.renderOutput(dataTable, element);\n",
              "          const docLink = document.createElement('div');\n",
              "          docLink.innerHTML = docLinkHtml;\n",
              "          element.appendChild(docLink);\n",
              "        }\n",
              "      </script>\n",
              "    </div>\n",
              "  </div>\n",
              "  "
            ]
          },
          "metadata": {},
          "execution_count": 147
        }
      ]
    },
    {
      "cell_type": "markdown",
      "source": [
        "Untuk rata-rata nilai z dengan kriteria diatas yaitu 3.15"
      ],
      "metadata": {
        "id": "yfW3tsTVAQp8"
      },
      "id": "yfW3tsTVAQp8"
    },
    {
      "cell_type": "code",
      "source": [
        "df.loc[48410, \"z\"] = 3.15\n",
        "df.loc[48410]"
      ],
      "metadata": {
        "colab": {
          "base_uri": "https://localhost:8080/"
        },
        "id": "FCqMxSUrAX3z",
        "outputId": "4734ae68-9888-4d7d-c760-ccaa2bf99838"
      },
      "id": "FCqMxSUrAX3z",
      "execution_count": 149,
      "outputs": [
        {
          "output_type": "execute_result",
          "data": {
            "text/plain": [
              "carat           0.51\n",
              "cut        Very Good\n",
              "color              E\n",
              "clarity          VS1\n",
              "depth           61.8\n",
              "table           54.7\n",
              "price           1970\n",
              "x               5.12\n",
              "y               5.15\n",
              "z               3.15\n",
              "Name: 48410, dtype: object"
            ]
          },
          "metadata": {},
          "execution_count": 149
        }
      ]
    },
    {
      "cell_type": "markdown",
      "source": [
        "Selanjutnya, mari kita cek kembali persebaran grafik"
      ],
      "metadata": {
        "id": "cIAWXGLeAePB"
      },
      "id": "cIAWXGLeAePB"
    },
    {
      "cell_type": "code",
      "source": [
        "df.plot(x=\"z\", y=\"price\", kind=\"scatter\")\n",
        "plt.show()"
      ],
      "metadata": {
        "colab": {
          "base_uri": "https://localhost:8080/",
          "height": 279
        },
        "id": "xDZ6kHDNAgeP",
        "outputId": "5dcbe3b5-2bf8-46be-8748-c91636ae6356"
      },
      "id": "xDZ6kHDNAgeP",
      "execution_count": 150,
      "outputs": [
        {
          "output_type": "display_data",
          "data": {
            "text/plain": [
              "<Figure size 432x288 with 1 Axes>"
            ],
            "image/png": "[encoded data removed]"
          },
          "metadata": {
            "needs_background": "light"
          }
        }
      ]
    },
    {
      "cell_type": "markdown",
      "source": [
        "Kolom z (depth in mm), juga memiliki trend kecenderungan peningkatan harga seiring meningkatnya nilai z. Sehingga, dapat disimpulkan bahwa harga diamond dapat dipengaruhi dengan nilai x, nilai y, dan nilai z"
      ],
      "metadata": {
        "id": "2L_QhiUgAvp6"
      },
      "id": "2L_QhiUgAvp6"
    },
    {
      "cell_type": "markdown",
      "source": [
        "**3. Mengapa clarity SI2 lebih tinggi harganya dari rata-rata harga berlian dengan clarity IF?**"
      ],
      "metadata": {
        "id": "lgURTrg4A832"
      },
      "id": "lgURTrg4A832"
    },
    {
      "cell_type": "markdown",
      "source": [
        "Menurut https://ajaib.co.id/faktor-harga-berlian-bisa-mahal/, terdapat beberapa faktor yang dapat mempengaruhi harga berlian selain clarity, yaitu\n",
        "- berat karat\n",
        "- warna berlian\n",
        "- potongan berlian, berlian dengan potongan yang bagus, akan tampak lebih berkilau dan indah\n",
        "- bentuk berlian, harga berlian bentuk bulat jauh lebih tinggi dibanding bentuk lain karena memiliki tingkat kesulitan serta ketelitian yang tinggi\n",
        "- sertifikat berlian"
      ],
      "metadata": {
        "id": "yKMvwZOGBT5C"
      },
      "id": "yKMvwZOGBT5C"
    },
    {
      "cell_type": "code",
      "source": [
        "df.plot(x=\"carat\", y=\"price\", kind=\"scatter\")\n",
        "plt.show()"
      ],
      "metadata": {
        "colab": {
          "base_uri": "https://localhost:8080/",
          "height": 279
        },
        "id": "T8t7ZodMBQ44",
        "outputId": "c27b95b1-3cd0-4ea2-cf38-a875700dae0f"
      },
      "id": "T8t7ZodMBQ44",
      "execution_count": 153,
      "outputs": [
        {
          "output_type": "display_data",
          "data": {
            "text/plain": [
              "<Figure size 432x288 with 1 Axes>"
            ],
            "image/png": "[encoded data removed]"
          },
          "metadata": {
            "needs_background": "light"
          }
        }
      ]
    },
    {
      "cell_type": "markdown",
      "source": [
        "Dapat dilihat bahwa, terdapat trend peningkatan harga seiring dengan peningkatan carat. Mari kita lihat persebaran carat pada SI2 dan IF"
      ],
      "metadata": {
        "id": "8dcCmFGyCe5z"
      },
      "id": "8dcCmFGyCe5z"
    },
    {
      "cell_type": "code",
      "source": [
        "carat_si2 = df[(df[\"clarity\"]==\"SI2\")]\n",
        "carat_si2"
      ],
      "metadata": {
        "colab": {
          "base_uri": "https://localhost:8080/",
          "height": 424
        },
        "id": "ABRIKWSKDEfc",
        "outputId": "eeeea35f-06ed-46a7-a455-c2a1d922b80b"
      },
      "id": "ABRIKWSKDEfc",
      "execution_count": 155,
      "outputs": [
        {
          "output_type": "execute_result",
          "data": {
            "text/plain": [
              "       carat        cut color clarity  depth  table  price     x     y     z\n",
              "0       0.23      Ideal     E     SI2   61.5   55.0    326  3.95  3.98  2.43\n",
              "4       0.31       Good     J     SI2   63.3   58.0    335  4.34  4.35  2.75\n",
              "13      0.31      Ideal     J     SI2   62.2   54.0    344  4.35  4.37  2.71\n",
              "14      0.20    Premium     E     SI2   60.2   62.0    345  3.79  3.75  2.27\n",
              "16      0.30      Ideal     I     SI2   62.0   54.0    348  4.31  4.34  2.68\n",
              "...      ...        ...   ...     ...    ...    ...    ...   ...   ...   ...\n",
              "53902   0.77  Very Good     E     SI2   59.9   61.0   2753  5.98  6.01  3.59\n",
              "53915   0.77      Ideal     E     SI2   62.1   56.0   2753  5.84  5.86  3.63\n",
              "53928   0.79    Premium     E     SI2   61.4   58.0   2756  6.03  5.96  3.68\n",
              "53938   0.86    Premium     H     SI2   61.0   58.0   2757  6.15  6.12  3.74\n",
              "53939   0.75      Ideal     D     SI2   62.2   55.0   2757  5.83  5.87  3.64\n",
              "\n",
              "[9194 rows x 10 columns]"
            ],
            "text/html": [
              "\n",
              "  <div id=\"df-81438bfd-d7ee-455d-98a7-4c756a4d3818\">\n",
              "    <div class=\"colab-df-container\">\n",
              "      <div>\n",
              "<style scoped>\n",
              "    .dataframe tbody tr th:only-of-type {\n",
              "        vertical-align: middle;\n",
              "    }\n",
              "\n",
              "    .dataframe tbody tr th {\n",
              "        vertical-align: top;\n",
              "    }\n",
              "\n",
              "    .dataframe thead th {\n",
              "        text-align: right;\n",
              "    }\n",
              "</style>\n",
              "<table border=\"1\" class=\"dataframe\">\n",
              "  <thead>\n",
              "    <tr style=\"text-align: right;\">\n",
              "      <th></th>\n",
              "      <th>carat</th>\n",
              "      <th>cut</th>\n",
              "      <th>color</th>\n",
              "      <th>clarity</th>\n",
              "      <th>depth</th>\n",
              "      <th>table</th>\n",
              "      <th>price</th>\n",
              "      <th>x</th>\n",
              "      <th>y</th>\n",
              "      <th>z</th>\n",
              "    </tr>\n",
              "  </thead>\n",
              "  <tbody>\n",
              "    <tr>\n",
              "      <th>0</th>\n",
              "      <td>0.23</td>\n",
              "      <td>Ideal</td>\n",
              "      <td>E</td>\n",
              "      <td>SI2</td>\n",
              "      <td>61.5</td>\n",
              "      <td>55.0</td>\n",
              "      <td>326</td>\n",
              "      <td>3.95</td>\n",
              "      <td>3.98</td>\n",
              "      <td>2.43</td>\n",
              "    </tr>\n",
              "    <tr>\n",
              "      <th>4</th>\n",
              "      <td>0.31</td>\n",
              "      <td>Good</td>\n",
              "      <td>J</td>\n",
              "      <td>SI2</td>\n",
              "      <td>63.3</td>\n",
              "      <td>58.0</td>\n",
              "      <td>335</td>\n",
              "      <td>4.34</td>\n",
              "      <td>4.35</td>\n",
              "      <td>2.75</td>\n",
              "    </tr>\n",
              "    <tr>\n",
              "      <th>13</th>\n",
              "      <td>0.31</td>\n",
              "      <td>Ideal</td>\n",
              "      <td>J</td>\n",
              "      <td>SI2</td>\n",
              "      <td>62.2</td>\n",
              "      <td>54.0</td>\n",
              "      <td>344</td>\n",
              "      <td>4.35</td>\n",
              "      <td>4.37</td>\n",
              "      <td>2.71</td>\n",
              "    </tr>\n",
              "    <tr>\n",
              "      <th>14</th>\n",
              "      <td>0.20</td>\n",
              "      <td>Premium</td>\n",
              "      <td>E</td>\n",
              "      <td>SI2</td>\n",
              "      <td>60.2</td>\n",
              "      <td>62.0</td>\n",
              "      <td>345</td>\n",
              "      <td>3.79</td>\n",
              "      <td>3.75</td>\n",
              "      <td>2.27</td>\n",
              "    </tr>\n",
              "    <tr>\n",
              "      <th>16</th>\n",
              "      <td>0.30</td>\n",
              "      <td>Ideal</td>\n",
              "      <td>I</td>\n",
              "      <td>SI2</td>\n",
              "      <td>62.0</td>\n",
              "      <td>54.0</td>\n",
              "      <td>348</td>\n",
              "      <td>4.31</td>\n",
              "      <td>4.34</td>\n",
              "      <td>2.68</td>\n",
              "    </tr>\n",
              "    <tr>\n",
              "      <th>...</th>\n",
              "      <td>...</td>\n",
              "      <td>...</td>\n",
              "      <td>...</td>\n",
              "      <td>...</td>\n",
              "      <td>...</td>\n",
              "      <td>...</td>\n",
              "      <td>...</td>\n",
              "      <td>...</td>\n",
              "      <td>...</td>\n",
              "      <td>...</td>\n",
              "    </tr>\n",
              "    <tr>\n",
              "      <th>53902</th>\n",
              "      <td>0.77</td>\n",
              "      <td>Very Good</td>\n",
              "      <td>E</td>\n",
              "      <td>SI2</td>\n",
              "      <td>59.9</td>\n",
              "      <td>61.0</td>\n",
              "      <td>2753</td>\n",
              "      <td>5.98</td>\n",
              "      <td>6.01</td>\n",
              "      <td>3.59</td>\n",
              "    </tr>\n",
              "    <tr>\n",
              "      <th>53915</th>\n",
              "      <td>0.77</td>\n",
              "      <td>Ideal</td>\n",
              "      <td>E</td>\n",
              "      <td>SI2</td>\n",
              "      <td>62.1</td>\n",
              "      <td>56.0</td>\n",
              "      <td>2753</td>\n",
              "      <td>5.84</td>\n",
              "      <td>5.86</td>\n",
              "      <td>3.63</td>\n",
              "    </tr>\n",
              "    <tr>\n",
              "      <th>53928</th>\n",
              "      <td>0.79</td>\n",
              "      <td>Premium</td>\n",
              "      <td>E</td>\n",
              "      <td>SI2</td>\n",
              "      <td>61.4</td>\n",
              "      <td>58.0</td>\n",
              "      <td>2756</td>\n",
              "      <td>6.03</td>\n",
              "      <td>5.96</td>\n",
              "      <td>3.68</td>\n",
              "    </tr>\n",
              "    <tr>\n",
              "      <th>53938</th>\n",
              "      <td>0.86</td>\n",
              "      <td>Premium</td>\n",
              "      <td>H</td>\n",
              "      <td>SI2</td>\n",
              "      <td>61.0</td>\n",
              "      <td>58.0</td>\n",
              "      <td>2757</td>\n",
              "      <td>6.15</td>\n",
              "      <td>6.12</td>\n",
              "      <td>3.74</td>\n",
              "    </tr>\n",
              "    <tr>\n",
              "      <th>53939</th>\n",
              "      <td>0.75</td>\n",
              "      <td>Ideal</td>\n",
              "      <td>D</td>\n",
              "      <td>SI2</td>\n",
              "      <td>62.2</td>\n",
              "      <td>55.0</td>\n",
              "      <td>2757</td>\n",
              "      <td>5.83</td>\n",
              "      <td>5.87</td>\n",
              "      <td>3.64</td>\n",
              "    </tr>\n",
              "  </tbody>\n",
              "</table>\n",
              "<p>9194 rows × 10 columns</p>\n",
              "</div>\n",
              "      <button class=\"colab-df-convert\" onclick=\"convertToInteractive('df-81438bfd-d7ee-455d-98a7-4c756a4d3818')\"\n",
              "              title=\"Convert this dataframe to an interactive table.\"\n",
              "              style=\"display:none;\">\n",
              "        \n",
              "  <svg xmlns=\"http://www.w3.org/2000/svg\" height=\"24px\"viewBox=\"0 0 24 24\"\n",
              "       width=\"24px\">\n",
              "    <path d=\"M0 0h24v24H0V0z\" fill=\"none\"/>\n",
              "    <path d=\"M18.56 5.44l.94 2.06.94-2.06 2.06-.94-2.06-.94-.94-2.06-.94 2.06-2.06.94zm-11 1L8.5 8.5l.94-2.06 2.06-.94-2.06-.94L8.5 2.5l-.94 2.06-2.06.94zm10 10l.94 2.06.94-2.06 2.06-.94-2.06-.94-.94-2.06-.94 2.06-2.06.94z\"/><path d=\"M17.41 7.96l-1.37-1.37c-.4-.4-.92-.59-1.43-.59-.52 0-1.04.2-1.43.59L10.3 9.45l-7.72 7.72c-.78.78-.78 2.05 0 2.83L4 21.41c.39.39.9.59 1.41.59.51 0 1.02-.2 1.41-.59l7.78-7.78 2.81-2.81c.8-.78.8-2.07 0-2.86zM5.41 20L4 18.59l7.72-7.72 1.47 1.35L5.41 20z\"/>\n",
              "  </svg>\n",
              "      </button>\n",
              "      \n",
              "  <style>\n",
              "    .colab-df-container {\n",
              "      display:flex;\n",
              "      flex-wrap:wrap;\n",
              "      gap: 12px;\n",
              "    }\n",
              "\n",
              "    .colab-df-convert {\n",
              "      background-color: #E8F0FE;\n",
              "      border: none;\n",
              "      border-radius: 50%;\n",
              "      cursor: pointer;\n",
              "      display: none;\n",
              "      fill: #1967D2;\n",
              "      height: 32px;\n",
              "      padding: 0 0 0 0;\n",
              "      width: 32px;\n",
              "    }\n",
              "\n",
              "    .colab-df-convert:hover {\n",
              "      background-color: #E2EBFA;\n",
              "      box-shadow: 0px 1px 2px rgba(60, 64, 67, 0.3), 0px 1px 3px 1px rgba(60, 64, 67, 0.15);\n",
              "      fill: #174EA6;\n",
              "    }\n",
              "\n",
              "    [theme=dark] .colab-df-convert {\n",
              "      background-color: #3B4455;\n",
              "      fill: #D2E3FC;\n",
              "    }\n",
              "\n",
              "    [theme=dark] .colab-df-convert:hover {\n",
              "      background-color: #434B5C;\n",
              "      box-shadow: 0px 1px 3px 1px rgba(0, 0, 0, 0.15);\n",
              "      filter: drop-shadow(0px 1px 2px rgba(0, 0, 0, 0.3));\n",
              "      fill: #FFFFFF;\n",
              "    }\n",
              "  </style>\n",
              "\n",
              "      <script>\n",
              "        const buttonEl =\n",
              "          document.querySelector('#df-81438bfd-d7ee-455d-98a7-4c756a4d3818 button.colab-df-convert');\n",
              "        buttonEl.style.display =\n",
              "          google.colab.kernel.accessAllowed ? 'block' : 'none';\n",
              "\n",
              "        async function convertToInteractive(key) {\n",
              "          const element = document.querySelector('#df-81438bfd-d7ee-455d-98a7-4c756a4d3818');\n",
              "          const dataTable =\n",
              "            await google.colab.kernel.invokeFunction('convertToInteractive',\n",
              "                                                     [key], {});\n",
              "          if (!dataTable) return;\n",
              "\n",
              "          const docLinkHtml = 'Like what you see? Visit the ' +\n",
              "            '<a target=\"_blank\" href=https://colab.research.google.com/notebooks/data_table.ipynb>data table notebook</a>'\n",
              "            + ' to learn more about interactive tables.';\n",
              "          element.innerHTML = '';\n",
              "          dataTable['output_type'] = 'display_data';\n",
              "          await google.colab.output.renderOutput(dataTable, element);\n",
              "          const docLink = document.createElement('div');\n",
              "          docLink.innerHTML = docLinkHtml;\n",
              "          element.appendChild(docLink);\n",
              "        }\n",
              "      </script>\n",
              "    </div>\n",
              "  </div>\n",
              "  "
            ]
          },
          "metadata": {},
          "execution_count": 155
        }
      ]
    },
    {
      "cell_type": "code",
      "source": [
        "sns.histplot(x = \"carat\", data = carat_si2, multiple='stack');"
      ],
      "metadata": {
        "colab": {
          "base_uri": "https://localhost:8080/",
          "height": 279
        },
        "id": "Bb8BFucbCjEk",
        "outputId": "d5d811f5-4226-4763-a3ab-02938c3e9d07"
      },
      "id": "Bb8BFucbCjEk",
      "execution_count": 157,
      "outputs": [
        {
          "output_type": "display_data",
          "data": {
            "text/plain": [
              "<Figure size 432x288 with 1 Axes>"
            ],
            "image/png": "[encoded data removed]"
          },
          "metadata": {
            "needs_background": "light"
          }
        }
      ]
    },
    {
      "cell_type": "code",
      "source": [
        "carat_if = df[(df[\"clarity\"]==\"IF\")]\n",
        "carat_if"
      ],
      "metadata": {
        "colab": {
          "base_uri": "https://localhost:8080/",
          "height": 424
        },
        "id": "OLNAZx1RDmd7",
        "outputId": "6eb423a2-eafe-40fc-9419-1fc9d6deb6f4"
      },
      "id": "OLNAZx1RDmd7",
      "execution_count": 158,
      "outputs": [
        {
          "output_type": "execute_result",
          "data": {
            "text/plain": [
              "       carat        cut color clarity  depth  table  price     x     y     z\n",
              "229     0.52      Ideal     F      IF   62.2   55.0   2783  5.14  5.18  3.21\n",
              "250     0.55      Ideal     G      IF   60.9   57.0   2789  5.28  5.30  3.22\n",
              "256     0.64      Ideal     G      IF   61.3   56.0   2790  5.54  5.58  3.41\n",
              "281     0.72    Premium     I      IF   63.0   57.0   2795  5.72  5.70  3.60\n",
              "304     0.60  Very Good     G      IF   61.6   56.0   2800  5.43  5.46  3.35\n",
              "...      ...        ...   ...     ...    ...    ...    ...   ...   ...   ...\n",
              "53790   0.54      Ideal     F      IF   62.2   54.0   2729  5.24  5.27  3.27\n",
              "53792   0.51      Ideal     F      IF   62.5   54.0   2730  5.12  5.16  3.21\n",
              "53811   0.52      Ideal     F      IF   61.7   57.0   2733  5.13  5.17  3.18\n",
              "53887   0.52      Ideal     F      IF   61.5   57.0   2749  5.15  5.19  3.18\n",
              "53911   0.57    Premium     E      IF   59.8   60.0   2753  5.43  5.38  3.23\n",
              "\n",
              "[1790 rows x 10 columns]"
            ],
            "text/html": [
              "\n",
              "  <div id=\"df-a62a8a02-40af-4090-8018-5200c22fc527\">\n",
              "    <div class=\"colab-df-container\">\n",
              "      <div>\n",
              "<style scoped>\n",
              "    .dataframe tbody tr th:only-of-type {\n",
              "        vertical-align: middle;\n",
              "    }\n",
              "\n",
              "    .dataframe tbody tr th {\n",
              "        vertical-align: top;\n",
              "    }\n",
              "\n",
              "    .dataframe thead th {\n",
              "        text-align: right;\n",
              "    }\n",
              "</style>\n",
              "<table border=\"1\" class=\"dataframe\">\n",
              "  <thead>\n",
              "    <tr style=\"text-align: right;\">\n",
              "      <th></th>\n",
              "      <th>carat</th>\n",
              "      <th>cut</th>\n",
              "      <th>color</th>\n",
              "      <th>clarity</th>\n",
              "      <th>depth</th>\n",
              "      <th>table</th>\n",
              "      <th>price</th>\n",
              "      <th>x</th>\n",
              "      <th>y</th>\n",
              "      <th>z</th>\n",
              "    </tr>\n",
              "  </thead>\n",
              "  <tbody>\n",
              "    <tr>\n",
              "      <th>229</th>\n",
              "      <td>0.52</td>\n",
              "      <td>Ideal</td>\n",
              "      <td>F</td>\n",
              "      <td>IF</td>\n",
              "      <td>62.2</td>\n",
              "      <td>55.0</td>\n",
              "      <td>2783</td>\n",
              "      <td>5.14</td>\n",
              "      <td>5.18</td>\n",
              "      <td>3.21</td>\n",
              "    </tr>\n",
              "    <tr>\n",
              "      <th>250</th>\n",
              "      <td>0.55</td>\n",
              "      <td>Ideal</td>\n",
              "      <td>G</td>\n",
              "      <td>IF</td>\n",
              "      <td>60.9</td>\n",
              "      <td>57.0</td>\n",
              "      <td>2789</td>\n",
              "      <td>5.28</td>\n",
              "      <td>5.30</td>\n",
              "      <td>3.22</td>\n",
              "    </tr>\n",
              "    <tr>\n",
              "      <th>256</th>\n",
              "      <td>0.64</td>\n",
              "      <td>Ideal</td>\n",
              "      <td>G</td>\n",
              "      <td>IF</td>\n",
              "      <td>61.3</td>\n",
              "      <td>56.0</td>\n",
              "      <td>2790</td>\n",
              "      <td>5.54</td>\n",
              "      <td>5.58</td>\n",
              "      <td>3.41</td>\n",
              "    </tr>\n",
              "    <tr>\n",
              "      <th>281</th>\n",
              "      <td>0.72</td>\n",
              "      <td>Premium</td>\n",
              "      <td>I</td>\n",
              "      <td>IF</td>\n",
              "      <td>63.0</td>\n",
              "      <td>57.0</td>\n",
              "      <td>2795</td>\n",
              "      <td>5.72</td>\n",
              "      <td>5.70</td>\n",
              "      <td>3.60</td>\n",
              "    </tr>\n",
              "    <tr>\n",
              "      <th>304</th>\n",
              "      <td>0.60</td>\n",
              "      <td>Very Good</td>\n",
              "      <td>G</td>\n",
              "      <td>IF</td>\n",
              "      <td>61.6</td>\n",
              "      <td>56.0</td>\n",
              "      <td>2800</td>\n",
              "      <td>5.43</td>\n",
              "      <td>5.46</td>\n",
              "      <td>3.35</td>\n",
              "    </tr>\n",
              "    <tr>\n",
              "      <th>...</th>\n",
              "      <td>...</td>\n",
              "      <td>...</td>\n",
              "      <td>...</td>\n",
              "      <td>...</td>\n",
              "      <td>...</td>\n",
              "      <td>...</td>\n",
              "      <td>...</td>\n",
              "      <td>...</td>\n",
              "      <td>...</td>\n",
              "      <td>...</td>\n",
              "    </tr>\n",
              "    <tr>\n",
              "      <th>53790</th>\n",
              "      <td>0.54</td>\n",
              "      <td>Ideal</td>\n",
              "      <td>F</td>\n",
              "      <td>IF</td>\n",
              "      <td>62.2</td>\n",
              "      <td>54.0</td>\n",
              "      <td>2729</td>\n",
              "      <td>5.24</td>\n",
              "      <td>5.27</td>\n",
              "      <td>3.27</td>\n",
              "    </tr>\n",
              "    <tr>\n",
              "      <th>53792</th>\n",
              "      <td>0.51</td>\n",
              "      <td>Ideal</td>\n",
              "      <td>F</td>\n",
              "      <td>IF</td>\n",
              "      <td>62.5</td>\n",
              "      <td>54.0</td>\n",
              "      <td>2730</td>\n",
              "      <td>5.12</td>\n",
              "      <td>5.16</td>\n",
              "      <td>3.21</td>\n",
              "    </tr>\n",
              "    <tr>\n",
              "      <th>53811</th>\n",
              "      <td>0.52</td>\n",
              "      <td>Ideal</td>\n",
              "      <td>F</td>\n",
              "      <td>IF</td>\n",
              "      <td>61.7</td>\n",
              "      <td>57.0</td>\n",
              "      <td>2733</td>\n",
              "      <td>5.13</td>\n",
              "      <td>5.17</td>\n",
              "      <td>3.18</td>\n",
              "    </tr>\n",
              "    <tr>\n",
              "      <th>53887</th>\n",
              "      <td>0.52</td>\n",
              "      <td>Ideal</td>\n",
              "      <td>F</td>\n",
              "      <td>IF</td>\n",
              "      <td>61.5</td>\n",
              "      <td>57.0</td>\n",
              "      <td>2749</td>\n",
              "      <td>5.15</td>\n",
              "      <td>5.19</td>\n",
              "      <td>3.18</td>\n",
              "    </tr>\n",
              "    <tr>\n",
              "      <th>53911</th>\n",
              "      <td>0.57</td>\n",
              "      <td>Premium</td>\n",
              "      <td>E</td>\n",
              "      <td>IF</td>\n",
              "      <td>59.8</td>\n",
              "      <td>60.0</td>\n",
              "      <td>2753</td>\n",
              "      <td>5.43</td>\n",
              "      <td>5.38</td>\n",
              "      <td>3.23</td>\n",
              "    </tr>\n",
              "  </tbody>\n",
              "</table>\n",
              "<p>1790 rows × 10 columns</p>\n",
              "</div>\n",
              "      <button class=\"colab-df-convert\" onclick=\"convertToInteractive('df-a62a8a02-40af-4090-8018-5200c22fc527')\"\n",
              "              title=\"Convert this dataframe to an interactive table.\"\n",
              "              style=\"display:none;\">\n",
              "        \n",
              "  <svg xmlns=\"http://www.w3.org/2000/svg\" height=\"24px\"viewBox=\"0 0 24 24\"\n",
              "       width=\"24px\">\n",
              "    <path d=\"M0 0h24v24H0V0z\" fill=\"none\"/>\n",
              "    <path d=\"M18.56 5.44l.94 2.06.94-2.06 2.06-.94-2.06-.94-.94-2.06-.94 2.06-2.06.94zm-11 1L8.5 8.5l.94-2.06 2.06-.94-2.06-.94L8.5 2.5l-.94 2.06-2.06.94zm10 10l.94 2.06.94-2.06 2.06-.94-2.06-.94-.94-2.06-.94 2.06-2.06.94z\"/><path d=\"M17.41 7.96l-1.37-1.37c-.4-.4-.92-.59-1.43-.59-.52 0-1.04.2-1.43.59L10.3 9.45l-7.72 7.72c-.78.78-.78 2.05 0 2.83L4 21.41c.39.39.9.59 1.41.59.51 0 1.02-.2 1.41-.59l7.78-7.78 2.81-2.81c.8-.78.8-2.07 0-2.86zM5.41 20L4 18.59l7.72-7.72 1.47 1.35L5.41 20z\"/>\n",
              "  </svg>\n",
              "      </button>\n",
              "      \n",
              "  <style>\n",
              "    .colab-df-container {\n",
              "      display:flex;\n",
              "      flex-wrap:wrap;\n",
              "      gap: 12px;\n",
              "    }\n",
              "\n",
              "    .colab-df-convert {\n",
              "      background-color: #E8F0FE;\n",
              "      border: none;\n",
              "      border-radius: 50%;\n",
              "      cursor: pointer;\n",
              "      display: none;\n",
              "      fill: #1967D2;\n",
              "      height: 32px;\n",
              "      padding: 0 0 0 0;\n",
              "      width: 32px;\n",
              "    }\n",
              "\n",
              "    .colab-df-convert:hover {\n",
              "      background-color: #E2EBFA;\n",
              "      box-shadow: 0px 1px 2px rgba(60, 64, 67, 0.3), 0px 1px 3px 1px rgba(60, 64, 67, 0.15);\n",
              "      fill: #174EA6;\n",
              "    }\n",
              "\n",
              "    [theme=dark] .colab-df-convert {\n",
              "      background-color: #3B4455;\n",
              "      fill: #D2E3FC;\n",
              "    }\n",
              "\n",
              "    [theme=dark] .colab-df-convert:hover {\n",
              "      background-color: #434B5C;\n",
              "      box-shadow: 0px 1px 3px 1px rgba(0, 0, 0, 0.15);\n",
              "      filter: drop-shadow(0px 1px 2px rgba(0, 0, 0, 0.3));\n",
              "      fill: #FFFFFF;\n",
              "    }\n",
              "  </style>\n",
              "\n",
              "      <script>\n",
              "        const buttonEl =\n",
              "          document.querySelector('#df-a62a8a02-40af-4090-8018-5200c22fc527 button.colab-df-convert');\n",
              "        buttonEl.style.display =\n",
              "          google.colab.kernel.accessAllowed ? 'block' : 'none';\n",
              "\n",
              "        async function convertToInteractive(key) {\n",
              "          const element = document.querySelector('#df-a62a8a02-40af-4090-8018-5200c22fc527');\n",
              "          const dataTable =\n",
              "            await google.colab.kernel.invokeFunction('convertToInteractive',\n",
              "                                                     [key], {});\n",
              "          if (!dataTable) return;\n",
              "\n",
              "          const docLinkHtml = 'Like what you see? Visit the ' +\n",
              "            '<a target=\"_blank\" href=https://colab.research.google.com/notebooks/data_table.ipynb>data table notebook</a>'\n",
              "            + ' to learn more about interactive tables.';\n",
              "          element.innerHTML = '';\n",
              "          dataTable['output_type'] = 'display_data';\n",
              "          await google.colab.output.renderOutput(dataTable, element);\n",
              "          const docLink = document.createElement('div');\n",
              "          docLink.innerHTML = docLinkHtml;\n",
              "          element.appendChild(docLink);\n",
              "        }\n",
              "      </script>\n",
              "    </div>\n",
              "  </div>\n",
              "  "
            ]
          },
          "metadata": {},
          "execution_count": 158
        }
      ]
    },
    {
      "cell_type": "code",
      "source": [
        "sns.histplot(x = \"carat\", data = carat_if, multiple='stack');"
      ],
      "metadata": {
        "colab": {
          "base_uri": "https://localhost:8080/",
          "height": 279
        },
        "id": "etEExA-cDrrX",
        "outputId": "88dfcd53-07da-4ba8-8fe7-81d54db98534"
      },
      "id": "etEExA-cDrrX",
      "execution_count": 159,
      "outputs": [
        {
          "output_type": "display_data",
          "data": {
            "text/plain": [
              "<Figure size 432x288 with 1 Axes>"
            ],
            "image/png": "[encoded data removed]"
          },
          "metadata": {
            "needs_background": "light"
          }
        }
      ]
    },
    {
      "cell_type": "markdown",
      "source": [
        "Berdasarkan nilai carat, pada IF cenderung memiliki nilai carat yang kecil yaitu <0.5 jika dibandingkan dengan SI2 yang memiliki kecenderungan memiliki carat yang lebih besar. Oleh karena itu, rata-rata harga dapat menjadi salah satu penyebab mengapa rata-rata harga SI2 lebih tinggi. Selanjutnya mari kita lihat dari warnanya"
      ],
      "metadata": {
        "id": "_0d1CnmzDxza"
      },
      "id": "_0d1CnmzDxza"
    },
    {
      "cell_type": "code",
      "source": [
        "sns.boxplot(data=df, x=\"color\", y=\"price\")"
      ],
      "metadata": {
        "colab": {
          "base_uri": "https://localhost:8080/",
          "height": 296
        },
        "id": "kQHAkqbyEK4B",
        "outputId": "5ac6b283-0421-4e67-8973-4b615b2c8bf7"
      },
      "id": "kQHAkqbyEK4B",
      "execution_count": 165,
      "outputs": [
        {
          "output_type": "execute_result",
          "data": {
            "text/plain": [
              "<matplotlib.axes._subplots.AxesSubplot at 0x7f1b79ed1090>"
            ]
          },
          "metadata": {},
          "execution_count": 165
        },
        {
          "output_type": "display_data",
          "data": {
            "text/plain": [
              "<Figure size 432x288 with 1 Axes>"
            ],
            "image/png": "[encoded data removed]"
          },
          "metadata": {
            "needs_background": "light"
          }
        }
      ]
    },
    {
      "cell_type": "markdown",
      "source": [
        "Berdasarkan grafik diatas, pada warna J memiliki median price tertinggi. Sedangkan pada warna E dan D memiliki median price terendah. Mari kita cek untuk clarity SI2 dan IF"
      ],
      "metadata": {
        "id": "Bvn_PQ5sFImW"
      },
      "id": "Bvn_PQ5sFImW"
    },
    {
      "cell_type": "code",
      "source": [
        "sns.boxplot(data=carat_if, x=\"color\", y=\"price\")"
      ],
      "metadata": {
        "colab": {
          "base_uri": "https://localhost:8080/",
          "height": 296
        },
        "id": "eYoqCBr_FVyw",
        "outputId": "104cb2bb-d08c-4d64-9b1e-2f9042342f2f"
      },
      "id": "eYoqCBr_FVyw",
      "execution_count": 166,
      "outputs": [
        {
          "output_type": "execute_result",
          "data": {
            "text/plain": [
              "<matplotlib.axes._subplots.AxesSubplot at 0x7f1b79d90a50>"
            ]
          },
          "metadata": {},
          "execution_count": 166
        },
        {
          "output_type": "display_data",
          "data": {
            "text/plain": [
              "<Figure size 432x288 with 1 Axes>"
            ],
            "image/png": "[encoded data removed]"
          },
          "metadata": {
            "needs_background": "light"
          }
        }
      ]
    },
    {
      "cell_type": "code",
      "source": [
        "sns.boxplot(data=carat_si2, x=\"color\", y=\"price\")"
      ],
      "metadata": {
        "colab": {
          "base_uri": "https://localhost:8080/",
          "height": 296
        },
        "id": "2MhJtwTKFmqw",
        "outputId": "4c8ec790-87ef-4587-bc5b-f431d41ac816"
      },
      "id": "2MhJtwTKFmqw",
      "execution_count": 167,
      "outputs": [
        {
          "output_type": "execute_result",
          "data": {
            "text/plain": [
              "<matplotlib.axes._subplots.AxesSubplot at 0x7f1b79f4b610>"
            ]
          },
          "metadata": {},
          "execution_count": 167
        },
        {
          "output_type": "display_data",
          "data": {
            "text/plain": [
              "<Figure size 432x288 with 1 Axes>"
            ],
            "image/png": "[encoded data removed]"
          },
          "metadata": {
            "needs_background": "light"
          }
        }
      ]
    },
    {
      "cell_type": "markdown",
      "source": [
        "Dari grafik diatas, dapat dilihat bahwa pada carat IF, memiliki warna D sebagai kontribusi warna terbesar. Sedangkan SI2, memiliki warna I sebagai kontribusi terbesar. Sehingga, dapat disimpulkan bahwa warna menjadi penentu mengapa rata-rata price SI2 memiliki harga yang tinggi. Mari kita cek pada variable depth"
      ],
      "metadata": {
        "id": "2Vud4hEsFq60"
      },
      "id": "2Vud4hEsFq60"
    },
    {
      "cell_type": "code",
      "source": [
        "df.plot(x=\"depth\", y=\"price\", kind=\"scatter\")\n",
        "plt.show()"
      ],
      "metadata": {
        "colab": {
          "base_uri": "https://localhost:8080/",
          "height": 279
        },
        "id": "ECxlh44sGRgl",
        "outputId": "afafa208-740c-4a61-ab00-3c61124443dd"
      },
      "id": "ECxlh44sGRgl",
      "execution_count": 168,
      "outputs": [
        {
          "output_type": "display_data",
          "data": {
            "text/plain": [
              "<Figure size 432x288 with 1 Axes>"
            ],
            "image/png": "[encoded data removed]"
          },
          "metadata": {
            "needs_background": "light"
          }
        }
      ]
    },
    {
      "cell_type": "code",
      "source": [
        "sns.histplot(x = \"depth\", data = carat_if, multiple='stack');"
      ],
      "metadata": {
        "colab": {
          "base_uri": "https://localhost:8080/",
          "height": 279
        },
        "id": "lEZ6u2o_GeIX",
        "outputId": "0554d6e1-0a95-452e-82c9-6e936ad93f04"
      },
      "id": "lEZ6u2o_GeIX",
      "execution_count": 169,
      "outputs": [
        {
          "output_type": "display_data",
          "data": {
            "text/plain": [
              "<Figure size 432x288 with 1 Axes>"
            ],
            "image/png": "[encoded data removed]"
          },
          "metadata": {
            "needs_background": "light"
          }
        }
      ]
    },
    {
      "cell_type": "code",
      "source": [
        "sns.histplot(x = \"depth\", data = carat_si2, multiple='stack');"
      ],
      "metadata": {
        "colab": {
          "base_uri": "https://localhost:8080/",
          "height": 279
        },
        "id": "S-Cyij5tGr3z",
        "outputId": "13e46130-b62b-4f9d-e137-1d4ff2d2e475"
      },
      "id": "S-Cyij5tGr3z",
      "execution_count": 170,
      "outputs": [
        {
          "output_type": "display_data",
          "data": {
            "text/plain": [
              "<Figure size 432x288 with 1 Axes>"
            ],
            "image/png": "[encoded data removed]"
          },
          "metadata": {
            "needs_background": "light"
          }
        }
      ]
    },
    {
      "cell_type": "markdown",
      "source": [
        "Dari grafik diatas, dapat disimpulkan bahwa tidak terdapat perbedaan yang signifikan pada depth untuk kedua jenis clarity"
      ],
      "metadata": {
        "id": "XOL7SYs0GvE8"
      },
      "id": "XOL7SYs0GvE8"
    },
    {
      "cell_type": "markdown",
      "source": [
        "Mari kita cek untuk jenis cut"
      ],
      "metadata": {
        "id": "mZpWDaD-G1Mi"
      },
      "id": "mZpWDaD-G1Mi"
    },
    {
      "cell_type": "code",
      "source": [
        "sns.boxplot(data=df, x=\"cut\", y=\"price\")"
      ],
      "metadata": {
        "colab": {
          "base_uri": "https://localhost:8080/",
          "height": 296
        },
        "id": "QOMVmEDdG98e",
        "outputId": "da2b95fe-79b7-45f7-fe13-5f493ba7432f"
      },
      "id": "QOMVmEDdG98e",
      "execution_count": 171,
      "outputs": [
        {
          "output_type": "execute_result",
          "data": {
            "text/plain": [
              "<matplotlib.axes._subplots.AxesSubplot at 0x7f1b772a6450>"
            ]
          },
          "metadata": {},
          "execution_count": 171
        },
        {
          "output_type": "display_data",
          "data": {
            "text/plain": [
              "<Figure size 432x288 with 1 Axes>"
            ],
            "image/png": "[encoded data removed]"
          },
          "metadata": {
            "needs_background": "light"
          }
        }
      ]
    },
    {
      "cell_type": "markdown",
      "source": [
        "Terdapat sedikit keanehan pada grafik yaitu harga cut premium dan fair memiliki median yang hampir sama. Hal ini disebabkan karena terdapat banyak outlier, terutama pada jenis fair"
      ],
      "metadata": {
        "id": "0WWk2g4QHGGU"
      },
      "id": "0WWk2g4QHGGU"
    },
    {
      "cell_type": "code",
      "source": [
        "sns.boxplot(data=carat_if, x=\"cut\", y=\"price\")"
      ],
      "metadata": {
        "colab": {
          "base_uri": "https://localhost:8080/",
          "height": 296
        },
        "id": "UBLYqrAzHQEk",
        "outputId": "2bb15d37-15d2-4cb9-9949-6b51a52ad65f"
      },
      "id": "UBLYqrAzHQEk",
      "execution_count": 172,
      "outputs": [
        {
          "output_type": "execute_result",
          "data": {
            "text/plain": [
              "<matplotlib.axes._subplots.AxesSubplot at 0x7f1b773b6710>"
            ]
          },
          "metadata": {},
          "execution_count": 172
        },
        {
          "output_type": "display_data",
          "data": {
            "text/plain": [
              "<Figure size 432x288 with 1 Axes>"
            ],
            "image/png": "[encoded data removed]"
          },
          "metadata": {
            "needs_background": "light"
          }
        }
      ]
    },
    {
      "cell_type": "code",
      "source": [
        "sns.boxplot(data=carat_si2, x=\"cut\", y=\"price\")"
      ],
      "metadata": {
        "colab": {
          "base_uri": "https://localhost:8080/",
          "height": 296
        },
        "id": "9X7yCsLOHW3F",
        "outputId": "89fdb6ee-6b46-4516-c554-f344754b4bd3"
      },
      "id": "9X7yCsLOHW3F",
      "execution_count": 173,
      "outputs": [
        {
          "output_type": "execute_result",
          "data": {
            "text/plain": [
              "<matplotlib.axes._subplots.AxesSubplot at 0x7f1b79cbe790>"
            ]
          },
          "metadata": {},
          "execution_count": 173
        },
        {
          "output_type": "display_data",
          "data": {
            "text/plain": [
              "<Figure size 432x288 with 1 Axes>"
            ],
            "image/png": "[encoded data removed]"
          },
          "metadata": {
            "needs_background": "light"
          }
        }
      ]
    },
    {
      "cell_type": "markdown",
      "source": [
        "Pada grafik, dapat dilihat bahwa jenis cut pada si2 lebih baik dibandingkan IF"
      ],
      "metadata": {
        "id": "uGhKjKk4Hc6D"
      },
      "id": "uGhKjKk4Hc6D"
    },
    {
      "cell_type": "markdown",
      "source": [
        "Oleh karena itu, dapat disimpulkan bahwa penyebab diamond SI2 memiliki harga yang lebih tinggi dibandingkan IF walaupun dari segi clarity IF lebih baik, yaitu karena:\n",
        "- Pada SI2, memiliki jenis cut premium dengan price median yang tinggi, dibandingkan dengan IF yang cenderung memiliki jenis cut pada level good\n",
        "- Pada SI2, memiliki color I dan J yang cenderung memiliki harga yang lebih besar dibandingkan warna lainnya\n",
        "- Pada SI2, memiliki carat yang lebih besar dan bervariasi dibandingkan IF yang memiliki carat <0.5 dengan jumlah besar"
      ],
      "metadata": {
        "id": "QoHcU_GLIIKU"
      },
      "id": "QoHcU_GLIIKU"
    }
  ],
  "metadata": {
    "kernelspec": {
      "display_name": "Python 3",
      "language": "python",
      "name": "python3"
    },
    "language_info": {
      "codemirror_mode": {
        "name": "ipython",
        "version": 3
      },
      "file_extension": ".py",
      "mimetype": "text/x-python",
      "name": "python",
      "nbconvert_exporter": "python",
      "pygments_lexer": "ipython3",
      "version": "3.7.0"
    },
    "colab": {
      "name": "Extra Class Homework.ipynb",
      "provenance": [],
      "collapsed_sections": [],
      "include_colab_link": true
    }
  },
  "nbformat": 4,
  "nbformat_minor": 5
}