{
  "cells": [
    {
      "cell_type": "markdown",
      "metadata": {
        "id": "view-in-github",
        "colab_type": "text"
      },
      "source": [
        "<a href=\"https://colab.research.google.com/github/shoofiash/BootcampTask/blob/main/Assignment_14_Causal_Analysis_Yasmin_Shofiyyah.ipynb\" target=\"_parent\"><img src=\"https://colab.research.google.com/assets/colab-badge.svg\" alt=\"Open In Colab\"/></a>"
      ]
    },
    {
      "cell_type": "markdown",
      "source": [
        "# Causal Analysis Basic"
      ],
      "metadata": {
        "id": "BI_21XkOIPk8"
      }
    },
    {
      "cell_type": "markdown",
      "source": [
        "## 1. Jelaskan mengapa proses matching perlu dilakukan ketika ingin mengukur dampak dari suatu treatment pada propensity score modeling?"
      ],
      "metadata": {
        "id": "d1dZBjq3IXJD"
      }
    },
    {
      "cell_type": "markdown",
      "source": [
        "Metode propensity score didefinisikan sebagai probabilitas bersyarat untuk menerima intervensi berdasarkan pada karakteristik-karakteristik sebelum intervensi. Metode ini merupakan metode penyesuaian statistik yang dapat digunakan untuk menganalisis data dari desain studi observasi dimana desain pemberian *treatment* melalui pengacakan untuk kelompok *treatment* atau *non-treatment* tidak mungkin dilakukan. Propensity score pada statistik digunakan untuk menyeimbangkan atau menyamakan kelompok subjek penelitian sehingga dapat mengurangi bias akibat pemberian *treatment* yang tidak *random*.\n",
        "\n",
        "Pada saat melakukan penelitian, terdapat salah satu faktor yang perlu diperhatikan yaitu faktor *confounding*. Salah satu metode yang dapat menangani *confounding* adalah metode *Propensity Score Matching* yang dapat menangani efek bias akibat *confounding*.\n",
        "\n",
        "Terdapat tiga tahap proses analisis pada *Propensity Score Matching* yaitu\n",
        "- Mencari variabel atau kovariat yang diduga sebagai penyebab ketidakseimbangan antara kelompok *treatment* (misal diberi simbol 1) dan kelompok *non-treatment* (misal diberi simbol 0). Analisis pada langkah ini adalah untuk mengidentifikasi kovariat yang diamati yang dapat menyebabkan adanya seleksi bias.\n",
        "- Pencocokan (*matching*) dengan metode *Nearest Neighbor Matching*. Setelah mendapat *balance score* dari estimasi *propensity score*, peneliti kemudian menggunakan nilai (*score*) tersebut untuk mencocokkan peserta pada kelompok *treatment* dengan kelompok *non-treatment*. Pada proses ini, biasanya peserta dari kelompok *non-treatment* akan dikurangi, sehingga ada beberapa peserta yang tidak digunakan karena tidak memiliki nilai yang cocok. Oleh karena itu, *mathcing* juga sering disebut dengan istilah *resampling*\n",
        "- Melakukan *postmatching* dengan nilai *propensity score*. Pada tahap ini, peneliti akan menghitung nilai *balance* kovariat dan nilai ATT dengan membandingkan perbedaan rata-rata dari hasil antara kelompok *treatment* dan *non-treatment* untuk seluruh sampel.\n",
        "\n",
        "\n",
        "Sumber:\n",
        "Adityaningrum A. 2017. Estimasi Propensity Score Matching berdasarkan Pendekatan Mutlivariate Adaptive Regression Splines. Tugas Akhir. Institut Teknologi Sepuluh Nopember, Surabaya."
      ],
      "metadata": {
        "id": "9t05BrOMIbsj"
      }
    },
    {
      "cell_type": "markdown",
      "source": [
        "## 2. Jelaskan mengapa Double ML lebih baik digunakan ketimbang Double Selection? Masalah apa yang ada pada Double Selection yang dapat diselesaikan dengan Double ML?"
      ],
      "metadata": {
        "id": "s2s_D0qFMWy9"
      }
    },
    {
      "cell_type": "markdown",
      "source": [
        "Double Selection merupakan metode yang simpel serta *quite intuitivte*. Namun, saat ini, Double Machine Learning atau Double ML lebih baik digunakan dibandingkan Double Selection. Ide utama dari Double ML adalah menjadikan parameter T sebagai solusi untuk beberapa masalah dalam melakukan prediksi yang diatur dan dirata-rata secara hati-hati sehingga bias yang menjadi masalah dalam melakukan prediksi tidak benar-benar muncul di T. Dibandingkan dengan Double Selection, Double ML menghilangkan *asymptotic bias* pada koefisien yang diperkirakan dari T. \n",
        "\n",
        "Selain itu, *key part* pada Double Selection adalah semua input mampu menjelaskan d ataupun y (sesuai dengan lasso). Sedangkan *key part* pada Double ML adalah menggunakan cross-fitting yang berkaitan dengan cross-validation. \n",
        "\n",
        "Sumber\n",
        "- Gilchrist D. 2017. How to Use Machine Learning to Accelerate AB Testing, https://medium.com/teconomics-blog/using-ml-to-resolve-experiments-faster-bd8053ff602e\n",
        "- http://qed.econ.queensu.ca/pub/faculty/mackinnon/econ882/slides/econ882-slides-20h.pdf"
      ],
      "metadata": {
        "id": "HRcxqUTFMfeS"
      }
    },
    {
      "cell_type": "markdown",
      "source": [
        "## 3. Ada banyak metrik yang dapat digunakan untuk mengukur dampak dari suatu variabel: ATE, CATE, dan LATE. Jelaskan kapan masing-masing metrik digunakan!"
      ],
      "metadata": {
        "id": "GZFKUTLVjidI"
      }
    },
    {
      "cell_type": "markdown",
      "source": [
        "- ATE (Average Treatment Effect) merupakan metrik yang digunakan untuk menghitung average total pada semua populasi\n",
        "- CATE (Conditional Average Treatment Effect) merupakan metrik yang digunakan untuk mengetahui efek pada kategori tertentu. Contoh: untuk mengetahui efek pada populasi wanita, maka dilakukan CATE dengan mengukur rata-rata causal effect pada populasi wanita saja\n",
        "- LATE (Local Average Treatment Effect) merupakan metrik yang digunakan ketika baik instrumen maupun treatment merupakan *binary variables*. Contohnya yaitu ketika kita ingin mengetahui efek dari tingkat pendidikan data yang tertera adalah responden kuliah dan tidak berkuliah. Aplikasi LATE dapat digunakan pada *randomized experiment* yang terdapat ketidakpatuhan. LATE digunakan dalam menghitung rata-rata unit level causal effect pada populasi compile (populasi yang mendapatkan treatment apabila dan hanya jika mereka *assign* sebagai *treatment group*). Hal yang lumayan sulit adalah kita tidak benar-benar tau jumlah compile dari dataset, tidak seperti jumlah populasi yang mendapatkan treatment dan tidak mendapatkan treatment.\n",
        "\n",
        "Sumber:\n",
        "- https://www.youtube.com/watch?v=6Vg10LxmWUY\n",
        "- https://www.youtube.com/watch?v=ujTjUh3JVSs\n"
      ],
      "metadata": {
        "id": "1e2j0gbRcHve"
      }
    },
    {
      "cell_type": "markdown",
      "source": [
        "## 4. Metode apa yang lebih baik antara *interpretable machine learning* dan double ML untuk menjelaskan dampak dari akibat? Kapan metode *interpretable machine learning* dapat digunakan untuk analisis kausal?"
      ],
      "metadata": {
        "id": "qSAsXLsBk24H"
      }
    },
    {
      "cell_type": "markdown",
      "source": [
        "Dalam menjelaskan dampak sebab akibat, Double ML merupakan metode yang lebih baik dibandingkan *interpretable machine learning*. Hal ini disebabkan karena, sebagian besar teknik *interpretable machine learning*, lebih fokus dalam pemecahan statistik korelasi dibandingkan hubungan dampak dari sebab-akibat. Selain itu pada *interpretable machine learning*, tidak dapat menjawab pertanyaan kausal seperti \"Bagaimana dampak dari x terhadap y?\". Salah satu contoh *interpretable machine learning* adalah linear regression dimana metode tersebut tidak melakukan perhitungan pada confounder serta memiliki asumsi bahwa confounder memiliki nilai yang sama dengan outcome dimana hal tersebut tidak memiliki dasar yang *scientific*\n",
        "\n",
        "*Interpretable machine learning* dapat digunakan dalam analisis kausal dengan beberapa metode:\n",
        "- Model-Agnostic Causality for Deep Neural Networks, merupakan cara tradisional dalam melakukan analisis *Deep Neural Network* untuk membuat beberapa model dengan struktur yang berbeda kemudian dilakukan uji perbandingan untuk melihat performance-nya. Kelemahannya adalah saat melakukan re-training DNN, akan menimbulkan komputasi yang berlebihan. Berdasarkan *Generative Adversarial Networks* (GANs) *interpretability*, mengusulkan pendekatan visualisasi untuk memahami pada unit serta objek dengan melakukan estimasi *causal effect* pada model yang *interpratable*. Terdapat dua tahap yaitu *dissection* dan *intervention*. *Dissection* merupakan tahap dimana kelas dengan representasi eksplisit pertama kali diidentifikasi. Kemudian, dilakukan tahap intervensi dengan memaksa unit untuk *appeared* dan *disappeared*. Tahap selanjutnya yaitu melakukan kalkulasi terhadap *causal effect*. \n",
        "- Post-hoc Interpretability. Penjelasan *Model-Agnostic* menjadi semakin rumit ketika parameter pada model memiliki hubungan yang lebih kompleks. Oleh karena itu, *post-hoc* dilakukan untuk *exploit* apa yang sudah dipelajari oleh *trained model* tanpa mengubah dasar dari model.\n",
        "- *Visualization of Causal Effect*. Penggunaan *Partial Dependence Plot* dapat meng-ekstrak *causal information* dari machine learning model. Tools tersebut dapat membantu dalam mengukur prediksi dari perubahan setelah dilakukan intervensi, yang dapat membantu dalam mengetahui hubungan kausal pada *features*.\n",
        "\n",
        "\n",
        "Sumber:\n",
        "- Moraffah R., Mansooreh K., Ruocheng G., et.al. 2020. Causal Interpretability for Machine Learning - Problems, Methods, and Evaluation. Cornell University, https://arxiv.org/pdf/2003.03934.pdf\n",
        "- Xu G., Tri D.D., Qian L., et.al. 2021. Causality Learning: A New Perspective for Interpretable Machine Learning. Cornell University, https://arxiv.org/pdf/2006.16789.pdf "
      ],
      "metadata": {
        "id": "tQP1ZNjflW7h"
      }
    },
    {
      "cell_type": "markdown",
      "source": [
        "# Causal Analysis Advanced"
      ],
      "metadata": {
        "id": "GwBHIJ5IO2eK"
      }
    },
    {
      "cell_type": "code",
      "source": [
        "# install and load packages\n",
        "!pip install econml"
      ],
      "metadata": {
        "colab": {
          "base_uri": "https://localhost:8080/"
        },
        "id": "jTXZ8OuJPUyz",
        "outputId": "37660311-f868-4822-e253-15e724696721"
      },
      "execution_count": null,
      "outputs": [
        {
          "output_type": "stream",
          "name": "stdout",
          "text": [
            "Looking in indexes: https://pypi.org/simple, https://us-python.pkg.dev/colab-wheels/public/simple/\n",
            "Requirement already satisfied: econml in /usr/local/lib/python3.7/dist-packages (0.13.1)\n",
            "Requirement already satisfied: lightgbm in /usr/local/lib/python3.7/dist-packages (from econml) (2.2.3)\n",
            "Requirement already satisfied: shap<0.41.0,>=0.38.1 in /usr/local/lib/python3.7/dist-packages (from econml) (0.40.0)\n",
            "Requirement already satisfied: sparse in /usr/local/lib/python3.7/dist-packages (from econml) (0.13.0)\n",
            "Requirement already satisfied: scipy>1.4.0 in /usr/local/lib/python3.7/dist-packages (from econml) (1.4.1)\n",
            "Requirement already satisfied: pandas in /usr/local/lib/python3.7/dist-packages (from econml) (1.3.5)\n",
            "Requirement already satisfied: dowhy<0.8 in /usr/local/lib/python3.7/dist-packages (from econml) (0.7.1)\n",
            "Requirement already satisfied: joblib>=0.13.0 in /usr/local/lib/python3.7/dist-packages (from econml) (1.1.0)\n",
            "Requirement already satisfied: scikit-learn<1.2,>0.22.0 in /usr/local/lib/python3.7/dist-packages (from econml) (1.0.2)\n",
            "Requirement already satisfied: numpy in /usr/local/lib/python3.7/dist-packages (from econml) (1.21.6)\n",
            "Requirement already satisfied: statsmodels>=0.10 in /usr/local/lib/python3.7/dist-packages (from econml) (0.13.2)\n",
            "Requirement already satisfied: sympy>=1.4 in /usr/local/lib/python3.7/dist-packages (from dowhy<0.8->econml) (1.7.1)\n",
            "Requirement already satisfied: networkx>=2.0 in /usr/local/lib/python3.7/dist-packages (from dowhy<0.8->econml) (2.6.3)\n",
            "Requirement already satisfied: pydot>=1.4 in /usr/local/lib/python3.7/dist-packages (from dowhy<0.8->econml) (1.4.2)\n",
            "Requirement already satisfied: python-dateutil>=2.7.3 in /usr/local/lib/python3.7/dist-packages (from pandas->econml) (2.8.2)\n",
            "Requirement already satisfied: pytz>=2017.3 in /usr/local/lib/python3.7/dist-packages (from pandas->econml) (2022.1)\n",
            "Requirement already satisfied: pyparsing>=2.1.4 in /usr/local/lib/python3.7/dist-packages (from pydot>=1.4->dowhy<0.8->econml) (3.0.9)\n",
            "Requirement already satisfied: six>=1.5 in /usr/local/lib/python3.7/dist-packages (from python-dateutil>=2.7.3->pandas->econml) (1.15.0)\n",
            "Requirement already satisfied: threadpoolctl>=2.0.0 in /usr/local/lib/python3.7/dist-packages (from scikit-learn<1.2,>0.22.0->econml) (3.1.0)\n",
            "Requirement already satisfied: cloudpickle in /usr/local/lib/python3.7/dist-packages (from shap<0.41.0,>=0.38.1->econml) (1.3.0)\n",
            "Requirement already satisfied: packaging>20.9 in /usr/local/lib/python3.7/dist-packages (from shap<0.41.0,>=0.38.1->econml) (21.3)\n",
            "Requirement already satisfied: slicer==0.0.7 in /usr/local/lib/python3.7/dist-packages (from shap<0.41.0,>=0.38.1->econml) (0.0.7)\n",
            "Requirement already satisfied: numba in /usr/local/lib/python3.7/dist-packages (from shap<0.41.0,>=0.38.1->econml) (0.51.2)\n",
            "Requirement already satisfied: tqdm>4.25.0 in /usr/local/lib/python3.7/dist-packages (from shap<0.41.0,>=0.38.1->econml) (4.64.0)\n",
            "Requirement already satisfied: patsy>=0.5.2 in /usr/local/lib/python3.7/dist-packages (from statsmodels>=0.10->econml) (0.5.2)\n",
            "Requirement already satisfied: mpmath>=0.19 in /usr/local/lib/python3.7/dist-packages (from sympy>=1.4->dowhy<0.8->econml) (1.2.1)\n",
            "Requirement already satisfied: setuptools in /usr/local/lib/python3.7/dist-packages (from numba->shap<0.41.0,>=0.38.1->econml) (57.4.0)\n",
            "Requirement already satisfied: llvmlite<0.35,>=0.34.0.dev0 in /usr/local/lib/python3.7/dist-packages (from numba->shap<0.41.0,>=0.38.1->econml) (0.34.0)\n"
          ]
        }
      ]
    },
    {
      "cell_type": "code",
      "source": [
        "!pip install psmpy==0.2.8\n",
        "!pip install pycausalimpact"
      ],
      "metadata": {
        "colab": {
          "base_uri": "https://localhost:8080/"
        },
        "id": "OYhE1Dref8SV",
        "outputId": "1310b0e7-94b6-4794-f877-0f5350b4349d"
      },
      "execution_count": null,
      "outputs": [
        {
          "output_type": "stream",
          "name": "stdout",
          "text": [
            "Looking in indexes: https://pypi.org/simple, https://us-python.pkg.dev/colab-wheels/public/simple/\n",
            "Requirement already satisfied: psmpy==0.2.8 in /usr/local/lib/python3.7/dist-packages (0.2.8)\n",
            "Requirement already satisfied: seaborn in /usr/local/lib/python3.7/dist-packages (from psmpy==0.2.8) (0.11.2)\n",
            "Requirement already satisfied: sklearn in /usr/local/lib/python3.7/dist-packages (from psmpy==0.2.8) (0.0)\n",
            "Requirement already satisfied: matplotlib in /usr/local/lib/python3.7/dist-packages (from psmpy==0.2.8) (3.2.2)\n",
            "Requirement already satisfied: numpy in /usr/local/lib/python3.7/dist-packages (from psmpy==0.2.8) (1.21.6)\n",
            "Requirement already satisfied: pandas in /usr/local/lib/python3.7/dist-packages (from psmpy==0.2.8) (1.3.5)\n",
            "Requirement already satisfied: scipy in /usr/local/lib/python3.7/dist-packages (from psmpy==0.2.8) (1.4.1)\n",
            "Requirement already satisfied: pyparsing!=2.0.4,!=2.1.2,!=2.1.6,>=2.0.1 in /usr/local/lib/python3.7/dist-packages (from matplotlib->psmpy==0.2.8) (3.0.9)\n",
            "Requirement already satisfied: python-dateutil>=2.1 in /usr/local/lib/python3.7/dist-packages (from matplotlib->psmpy==0.2.8) (2.8.2)\n",
            "Requirement already satisfied: cycler>=0.10 in /usr/local/lib/python3.7/dist-packages (from matplotlib->psmpy==0.2.8) (0.11.0)\n",
            "Requirement already satisfied: kiwisolver>=1.0.1 in /usr/local/lib/python3.7/dist-packages (from matplotlib->psmpy==0.2.8) (1.4.3)\n",
            "Requirement already satisfied: typing-extensions in /usr/local/lib/python3.7/dist-packages (from kiwisolver>=1.0.1->matplotlib->psmpy==0.2.8) (4.1.1)\n",
            "Requirement already satisfied: six>=1.5 in /usr/local/lib/python3.7/dist-packages (from python-dateutil>=2.1->matplotlib->psmpy==0.2.8) (1.15.0)\n",
            "Requirement already satisfied: pytz>=2017.3 in /usr/local/lib/python3.7/dist-packages (from pandas->psmpy==0.2.8) (2022.1)\n",
            "Requirement already satisfied: scikit-learn in /usr/local/lib/python3.7/dist-packages (from sklearn->psmpy==0.2.8) (1.0.2)\n",
            "Requirement already satisfied: threadpoolctl>=2.0.0 in /usr/local/lib/python3.7/dist-packages (from scikit-learn->sklearn->psmpy==0.2.8) (3.1.0)\n",
            "Requirement already satisfied: joblib>=0.11 in /usr/local/lib/python3.7/dist-packages (from scikit-learn->sklearn->psmpy==0.2.8) (1.1.0)\n",
            "Looking in indexes: https://pypi.org/simple, https://us-python.pkg.dev/colab-wheels/public/simple/\n",
            "Requirement already satisfied: pycausalimpact in /usr/local/lib/python3.7/dist-packages (0.1.1)\n",
            "Requirement already satisfied: jinja2>=2.10 in /usr/local/lib/python3.7/dist-packages (from pycausalimpact) (2.11.3)\n",
            "Requirement already satisfied: numpy in /usr/local/lib/python3.7/dist-packages (from pycausalimpact) (1.21.6)\n",
            "Requirement already satisfied: matplotlib>=2.2.3 in /usr/local/lib/python3.7/dist-packages (from pycausalimpact) (3.2.2)\n",
            "Requirement already satisfied: scipy in /usr/local/lib/python3.7/dist-packages (from pycausalimpact) (1.4.1)\n",
            "Requirement already satisfied: statsmodels>=0.11.0 in /usr/local/lib/python3.7/dist-packages (from pycausalimpact) (0.13.2)\n",
            "Requirement already satisfied: MarkupSafe>=0.23 in /usr/local/lib/python3.7/dist-packages (from jinja2>=2.10->pycausalimpact) (2.0.1)\n",
            "Requirement already satisfied: python-dateutil>=2.1 in /usr/local/lib/python3.7/dist-packages (from matplotlib>=2.2.3->pycausalimpact) (2.8.2)\n",
            "Requirement already satisfied: pyparsing!=2.0.4,!=2.1.2,!=2.1.6,>=2.0.1 in /usr/local/lib/python3.7/dist-packages (from matplotlib>=2.2.3->pycausalimpact) (3.0.9)\n",
            "Requirement already satisfied: cycler>=0.10 in /usr/local/lib/python3.7/dist-packages (from matplotlib>=2.2.3->pycausalimpact) (0.11.0)\n",
            "Requirement already satisfied: kiwisolver>=1.0.1 in /usr/local/lib/python3.7/dist-packages (from matplotlib>=2.2.3->pycausalimpact) (1.4.3)\n",
            "Requirement already satisfied: typing-extensions in /usr/local/lib/python3.7/dist-packages (from kiwisolver>=1.0.1->matplotlib>=2.2.3->pycausalimpact) (4.1.1)\n",
            "Requirement already satisfied: six>=1.5 in /usr/local/lib/python3.7/dist-packages (from python-dateutil>=2.1->matplotlib>=2.2.3->pycausalimpact) (1.15.0)\n",
            "Requirement already satisfied: patsy>=0.5.2 in /usr/local/lib/python3.7/dist-packages (from statsmodels>=0.11.0->pycausalimpact) (0.5.2)\n",
            "Requirement already satisfied: packaging>=21.3 in /usr/local/lib/python3.7/dist-packages (from statsmodels>=0.11.0->pycausalimpact) (21.3)\n",
            "Requirement already satisfied: pandas>=0.25 in /usr/local/lib/python3.7/dist-packages (from statsmodels>=0.11.0->pycausalimpact) (1.3.5)\n",
            "Requirement already satisfied: pytz>=2017.3 in /usr/local/lib/python3.7/dist-packages (from pandas>=0.25->statsmodels>=0.11.0->pycausalimpact) (2022.1)\n"
          ]
        }
      ]
    },
    {
      "cell_type": "code",
      "source": [
        "# data exploration package\n",
        "import numpy as np\n",
        "import pandas as pd\n",
        "import pandas as pd\n",
        "import numpy as np\n",
        "from matplotlib import pyplot as plt\n",
        "import seaborn as sns\n",
        "\n",
        "# scikit learn\n",
        "from sklearn.linear_model import ElasticNetCV, LinearRegression\n",
        "from sklearn.ensemble import GradientBoostingRegressor, RandomForestRegressor, RandomForestClassifier\n",
        "from sklearn.tree import DecisionTreeRegressor\n",
        "from sklearn.tree import DecisionTreeClassifier\n",
        "\n",
        "# econml\n",
        "from econml.dml import DML\n",
        "from econml.metalearners import TLearner, SLearner, XLearner\n",
        "\n",
        "# statsmodels for linear/logistic regression and Granger causality test\n",
        "import statsmodels.api as sm\n",
        "from statsmodels.tsa.stattools import grangercausalitytests\n",
        "\n",
        "# psmpy for propensity score modeling and plotting\n",
        "from psmpy import PsmPy\n",
        "from psmpy.functions import cohenD\n",
        "from psmpy.plotting import *"
      ],
      "metadata": {
        "id": "o6dFdcM0PifP"
      },
      "execution_count": null,
      "outputs": []
    },
    {
      "cell_type": "code",
      "source": [
        "# load dataset\n",
        "df = pd.read_csv(\"https://raw.githubusercontent.com/hadimaster65555/dataset_for_teaching/main/dataset/learning_mindset/learning_mindset.csv\")\n",
        "df"
      ],
      "metadata": {
        "colab": {
          "base_uri": "https://localhost:8080/",
          "height": 488
        },
        "id": "VOIEC25XPlpG",
        "outputId": "8c385df6-280c-4e7c-888a-c53bfc0b3c90"
      },
      "execution_count": null,
      "outputs": [
        {
          "output_type": "execute_result",
          "data": {
            "text/plain": [
              "       schoolid  intervention  achievement_score  success_expect  ethnicity  \\\n",
              "0            76             1           0.277359               6          4   \n",
              "1            76             1          -0.449646               4         12   \n",
              "2            76             1           0.769703               6          4   \n",
              "3            76             1          -0.121763               6          4   \n",
              "4            76             1           1.526147               6          4   \n",
              "...         ...           ...                ...             ...        ...   \n",
              "10386         1             0           0.808867               7          4   \n",
              "10387         1             0          -0.156063               7          4   \n",
              "10388         1             0           0.370820               2         15   \n",
              "10389         1             0          -0.396297               5          4   \n",
              "10390         1             0           0.478970               5          1   \n",
              "\n",
              "       gender  frst_in_family  school_urbanicity  school_mindset  \\\n",
              "0           2               1                  4        0.334544   \n",
              "1           2               1                  4        0.334544   \n",
              "2           2               0                  4        0.334544   \n",
              "3           2               0                  4        0.334544   \n",
              "4           1               0                  4        0.334544   \n",
              "...       ...             ...                ...             ...   \n",
              "10386       2               1                  3        1.185986   \n",
              "10387       2               1                  3        1.185986   \n",
              "10388       1               1                  3        1.185986   \n",
              "10389       1               1                  3        1.185986   \n",
              "10390       2               1                  3        1.185986   \n",
              "\n",
              "       school_achievement  school_ethnic_minority  school_poverty  school_size  \n",
              "0                0.648586               -1.310927        0.224077    -0.426757  \n",
              "1                0.648586               -1.310927        0.224077    -0.426757  \n",
              "2                0.648586               -1.310927        0.224077    -0.426757  \n",
              "3                0.648586               -1.310927        0.224077    -0.426757  \n",
              "4                0.648586               -1.310927        0.224077    -0.426757  \n",
              "...                   ...                     ...             ...          ...  \n",
              "10386           -1.129889                1.009875        1.005063    -1.174702  \n",
              "10387           -1.129889                1.009875        1.005063    -1.174702  \n",
              "10388           -1.129889                1.009875        1.005063    -1.174702  \n",
              "10389           -1.129889                1.009875        1.005063    -1.174702  \n",
              "10390           -1.129889                1.009875        1.005063    -1.174702  \n",
              "\n",
              "[10391 rows x 13 columns]"
            ],
            "text/html": [
              "\n",
              "  <div id=\"df-0d517abc-5990-4667-8da3-b55afd734bfb\">\n",
              "    <div class=\"colab-df-container\">\n",
              "      <div>\n",
              "<style scoped>\n",
              "    .dataframe tbody tr th:only-of-type {\n",
              "        vertical-align: middle;\n",
              "    }\n",
              "\n",
              "    .dataframe tbody tr th {\n",
              "        vertical-align: top;\n",
              "    }\n",
              "\n",
              "    .dataframe thead th {\n",
              "        text-align: right;\n",
              "    }\n",
              "</style>\n",
              "<table border=\"1\" class=\"dataframe\">\n",
              "  <thead>\n",
              "    <tr style=\"text-align: right;\">\n",
              "      <th></th>\n",
              "      <th>schoolid</th>\n",
              "      <th>intervention</th>\n",
              "      <th>achievement_score</th>\n",
              "      <th>success_expect</th>\n",
              "      <th>ethnicity</th>\n",
              "      <th>gender</th>\n",
              "      <th>frst_in_family</th>\n",
              "      <th>school_urbanicity</th>\n",
              "      <th>school_mindset</th>\n",
              "      <th>school_achievement</th>\n",
              "      <th>school_ethnic_minority</th>\n",
              "      <th>school_poverty</th>\n",
              "      <th>school_size</th>\n",
              "    </tr>\n",
              "  </thead>\n",
              "  <tbody>\n",
              "    <tr>\n",
              "      <th>0</th>\n",
              "      <td>76</td>\n",
              "      <td>1</td>\n",
              "      <td>0.277359</td>\n",
              "      <td>6</td>\n",
              "      <td>4</td>\n",
              "      <td>2</td>\n",
              "      <td>1</td>\n",
              "      <td>4</td>\n",
              "      <td>0.334544</td>\n",
              "      <td>0.648586</td>\n",
              "      <td>-1.310927</td>\n",
              "      <td>0.224077</td>\n",
              "      <td>-0.426757</td>\n",
              "    </tr>\n",
              "    <tr>\n",
              "      <th>1</th>\n",
              "      <td>76</td>\n",
              "      <td>1</td>\n",
              "      <td>-0.449646</td>\n",
              "      <td>4</td>\n",
              "      <td>12</td>\n",
              "      <td>2</td>\n",
              "      <td>1</td>\n",
              "      <td>4</td>\n",
              "      <td>0.334544</td>\n",
              "      <td>0.648586</td>\n",
              "      <td>-1.310927</td>\n",
              "      <td>0.224077</td>\n",
              "      <td>-0.426757</td>\n",
              "    </tr>\n",
              "    <tr>\n",
              "      <th>2</th>\n",
              "      <td>76</td>\n",
              "      <td>1</td>\n",
              "      <td>0.769703</td>\n",
              "      <td>6</td>\n",
              "      <td>4</td>\n",
              "      <td>2</td>\n",
              "      <td>0</td>\n",
              "      <td>4</td>\n",
              "      <td>0.334544</td>\n",
              "      <td>0.648586</td>\n",
              "      <td>-1.310927</td>\n",
              "      <td>0.224077</td>\n",
              "      <td>-0.426757</td>\n",
              "    </tr>\n",
              "    <tr>\n",
              "      <th>3</th>\n",
              "      <td>76</td>\n",
              "      <td>1</td>\n",
              "      <td>-0.121763</td>\n",
              "      <td>6</td>\n",
              "      <td>4</td>\n",
              "      <td>2</td>\n",
              "      <td>0</td>\n",
              "      <td>4</td>\n",
              "      <td>0.334544</td>\n",
              "      <td>0.648586</td>\n",
              "      <td>-1.310927</td>\n",
              "      <td>0.224077</td>\n",
              "      <td>-0.426757</td>\n",
              "    </tr>\n",
              "    <tr>\n",
              "      <th>4</th>\n",
              "      <td>76</td>\n",
              "      <td>1</td>\n",
              "      <td>1.526147</td>\n",
              "      <td>6</td>\n",
              "      <td>4</td>\n",
              "      <td>1</td>\n",
              "      <td>0</td>\n",
              "      <td>4</td>\n",
              "      <td>0.334544</td>\n",
              "      <td>0.648586</td>\n",
              "      <td>-1.310927</td>\n",
              "      <td>0.224077</td>\n",
              "      <td>-0.426757</td>\n",
              "    </tr>\n",
              "    <tr>\n",
              "      <th>...</th>\n",
              "      <td>...</td>\n",
              "      <td>...</td>\n",
              "      <td>...</td>\n",
              "      <td>...</td>\n",
              "      <td>...</td>\n",
              "      <td>...</td>\n",
              "      <td>...</td>\n",
              "      <td>...</td>\n",
              "      <td>...</td>\n",
              "      <td>...</td>\n",
              "      <td>...</td>\n",
              "      <td>...</td>\n",
              "      <td>...</td>\n",
              "    </tr>\n",
              "    <tr>\n",
              "      <th>10386</th>\n",
              "      <td>1</td>\n",
              "      <td>0</td>\n",
              "      <td>0.808867</td>\n",
              "      <td>7</td>\n",
              "      <td>4</td>\n",
              "      <td>2</td>\n",
              "      <td>1</td>\n",
              "      <td>3</td>\n",
              "      <td>1.185986</td>\n",
              "      <td>-1.129889</td>\n",
              "      <td>1.009875</td>\n",
              "      <td>1.005063</td>\n",
              "      <td>-1.174702</td>\n",
              "    </tr>\n",
              "    <tr>\n",
              "      <th>10387</th>\n",
              "      <td>1</td>\n",
              "      <td>0</td>\n",
              "      <td>-0.156063</td>\n",
              "      <td>7</td>\n",
              "      <td>4</td>\n",
              "      <td>2</td>\n",
              "      <td>1</td>\n",
              "      <td>3</td>\n",
              "      <td>1.185986</td>\n",
              "      <td>-1.129889</td>\n",
              "      <td>1.009875</td>\n",
              "      <td>1.005063</td>\n",
              "      <td>-1.174702</td>\n",
              "    </tr>\n",
              "    <tr>\n",
              "      <th>10388</th>\n",
              "      <td>1</td>\n",
              "      <td>0</td>\n",
              "      <td>0.370820</td>\n",
              "      <td>2</td>\n",
              "      <td>15</td>\n",
              "      <td>1</td>\n",
              "      <td>1</td>\n",
              "      <td>3</td>\n",
              "      <td>1.185986</td>\n",
              "      <td>-1.129889</td>\n",
              "      <td>1.009875</td>\n",
              "      <td>1.005063</td>\n",
              "      <td>-1.174702</td>\n",
              "    </tr>\n",
              "    <tr>\n",
              "      <th>10389</th>\n",
              "      <td>1</td>\n",
              "      <td>0</td>\n",
              "      <td>-0.396297</td>\n",
              "      <td>5</td>\n",
              "      <td>4</td>\n",
              "      <td>1</td>\n",
              "      <td>1</td>\n",
              "      <td>3</td>\n",
              "      <td>1.185986</td>\n",
              "      <td>-1.129889</td>\n",
              "      <td>1.009875</td>\n",
              "      <td>1.005063</td>\n",
              "      <td>-1.174702</td>\n",
              "    </tr>\n",
              "    <tr>\n",
              "      <th>10390</th>\n",
              "      <td>1</td>\n",
              "      <td>0</td>\n",
              "      <td>0.478970</td>\n",
              "      <td>5</td>\n",
              "      <td>1</td>\n",
              "      <td>2</td>\n",
              "      <td>1</td>\n",
              "      <td>3</td>\n",
              "      <td>1.185986</td>\n",
              "      <td>-1.129889</td>\n",
              "      <td>1.009875</td>\n",
              "      <td>1.005063</td>\n",
              "      <td>-1.174702</td>\n",
              "    </tr>\n",
              "  </tbody>\n",
              "</table>\n",
              "<p>10391 rows × 13 columns</p>\n",
              "</div>\n",
              "      <button class=\"colab-df-convert\" onclick=\"convertToInteractive('df-0d517abc-5990-4667-8da3-b55afd734bfb')\"\n",
              "              title=\"Convert this dataframe to an interactive table.\"\n",
              "              style=\"display:none;\">\n",
              "        \n",
              "  <svg xmlns=\"http://www.w3.org/2000/svg\" height=\"24px\"viewBox=\"0 0 24 24\"\n",
              "       width=\"24px\">\n",
              "    <path d=\"M0 0h24v24H0V0z\" fill=\"none\"/>\n",
              "    <path d=\"M18.56 5.44l.94 2.06.94-2.06 2.06-.94-2.06-.94-.94-2.06-.94 2.06-2.06.94zm-11 1L8.5 8.5l.94-2.06 2.06-.94-2.06-.94L8.5 2.5l-.94 2.06-2.06.94zm10 10l.94 2.06.94-2.06 2.06-.94-2.06-.94-.94-2.06-.94 2.06-2.06.94z\"/><path d=\"M17.41 7.96l-1.37-1.37c-.4-.4-.92-.59-1.43-.59-.52 0-1.04.2-1.43.59L10.3 9.45l-7.72 7.72c-.78.78-.78 2.05 0 2.83L4 21.41c.39.39.9.59 1.41.59.51 0 1.02-.2 1.41-.59l7.78-7.78 2.81-2.81c.8-.78.8-2.07 0-2.86zM5.41 20L4 18.59l7.72-7.72 1.47 1.35L5.41 20z\"/>\n",
              "  </svg>\n",
              "      </button>\n",
              "      \n",
              "  <style>\n",
              "    .colab-df-container {\n",
              "      display:flex;\n",
              "      flex-wrap:wrap;\n",
              "      gap: 12px;\n",
              "    }\n",
              "\n",
              "    .colab-df-convert {\n",
              "      background-color: #E8F0FE;\n",
              "      border: none;\n",
              "      border-radius: 50%;\n",
              "      cursor: pointer;\n",
              "      display: none;\n",
              "      fill: #1967D2;\n",
              "      height: 32px;\n",
              "      padding: 0 0 0 0;\n",
              "      width: 32px;\n",
              "    }\n",
              "\n",
              "    .colab-df-convert:hover {\n",
              "      background-color: #E2EBFA;\n",
              "      box-shadow: 0px 1px 2px rgba(60, 64, 67, 0.3), 0px 1px 3px 1px rgba(60, 64, 67, 0.15);\n",
              "      fill: #174EA6;\n",
              "    }\n",
              "\n",
              "    [theme=dark] .colab-df-convert {\n",
              "      background-color: #3B4455;\n",
              "      fill: #D2E3FC;\n",
              "    }\n",
              "\n",
              "    [theme=dark] .colab-df-convert:hover {\n",
              "      background-color: #434B5C;\n",
              "      box-shadow: 0px 1px 3px 1px rgba(0, 0, 0, 0.15);\n",
              "      filter: drop-shadow(0px 1px 2px rgba(0, 0, 0, 0.3));\n",
              "      fill: #FFFFFF;\n",
              "    }\n",
              "  </style>\n",
              "\n",
              "      <script>\n",
              "        const buttonEl =\n",
              "          document.querySelector('#df-0d517abc-5990-4667-8da3-b55afd734bfb button.colab-df-convert');\n",
              "        buttonEl.style.display =\n",
              "          google.colab.kernel.accessAllowed ? 'block' : 'none';\n",
              "\n",
              "        async function convertToInteractive(key) {\n",
              "          const element = document.querySelector('#df-0d517abc-5990-4667-8da3-b55afd734bfb');\n",
              "          const dataTable =\n",
              "            await google.colab.kernel.invokeFunction('convertToInteractive',\n",
              "                                                     [key], {});\n",
              "          if (!dataTable) return;\n",
              "\n",
              "          const docLinkHtml = 'Like what you see? Visit the ' +\n",
              "            '<a target=\"_blank\" href=https://colab.research.google.com/notebooks/data_table.ipynb>data table notebook</a>'\n",
              "            + ' to learn more about interactive tables.';\n",
              "          element.innerHTML = '';\n",
              "          dataTable['output_type'] = 'display_data';\n",
              "          await google.colab.output.renderOutput(dataTable, element);\n",
              "          const docLink = document.createElement('div');\n",
              "          docLink.innerHTML = docLinkHtml;\n",
              "          element.appendChild(docLink);\n",
              "        }\n",
              "      </script>\n",
              "    </div>\n",
              "  </div>\n",
              "  "
            ]
          },
          "metadata": {},
          "execution_count": 48
        }
      ]
    },
    {
      "cell_type": "code",
      "source": [
        "# check dataset structure\n",
        "df.info()"
      ],
      "metadata": {
        "colab": {
          "base_uri": "https://localhost:8080/"
        },
        "id": "pn2q6tlgP9_3",
        "outputId": "d3a5f418-6302-4cc2-8aef-fdca02ccdaf8"
      },
      "execution_count": null,
      "outputs": [
        {
          "output_type": "stream",
          "name": "stdout",
          "text": [
            "<class 'pandas.core.frame.DataFrame'>\n",
            "RangeIndex: 10391 entries, 0 to 10390\n",
            "Data columns (total 13 columns):\n",
            " #   Column                  Non-Null Count  Dtype  \n",
            "---  ------                  --------------  -----  \n",
            " 0   schoolid                10391 non-null  int64  \n",
            " 1   intervention            10391 non-null  int64  \n",
            " 2   achievement_score       10391 non-null  float64\n",
            " 3   success_expect          10391 non-null  int64  \n",
            " 4   ethnicity               10391 non-null  int64  \n",
            " 5   gender                  10391 non-null  int64  \n",
            " 6   frst_in_family          10391 non-null  int64  \n",
            " 7   school_urbanicity       10391 non-null  int64  \n",
            " 8   school_mindset          10391 non-null  float64\n",
            " 9   school_achievement      10391 non-null  float64\n",
            " 10  school_ethnic_minority  10391 non-null  float64\n",
            " 11  school_poverty          10391 non-null  float64\n",
            " 12  school_size             10391 non-null  float64\n",
            "dtypes: float64(6), int64(7)\n",
            "memory usage: 1.0 MB\n"
          ]
        }
      ]
    },
    {
      "cell_type": "code",
      "source": [
        "# check unique in every variables\n",
        "for x in df.columns:\n",
        "  print(f\"unique of {x}\")\n",
        "  print(f\"{df[x].unique()}\")\n",
        "  print()"
      ],
      "metadata": {
        "colab": {
          "base_uri": "https://localhost:8080/"
        },
        "id": "Ho601zxLtIp2",
        "outputId": "82c3d1de-7f98-453e-ed35-b6ad882a14ac"
      },
      "execution_count": null,
      "outputs": [
        {
          "output_type": "stream",
          "name": "stdout",
          "text": [
            "unique of schoolid\n",
            "[76 75 74 73 72 71 70 69 68 67 66 65 64 63 62 61 60 59 58 57 56 55 54 53\n",
            " 52 51 50 49 48 47 46 45 44 43 42 41 40 39 38 37 36 35 34 33 32 31 30 29\n",
            " 28 27 26 25 24 23 22 21 20 19 18 17 16 15 14 13 12 11 10  9  8  7  6  5\n",
            "  4  3  2  1]\n",
            "\n",
            "unique of intervention\n",
            "[1 0]\n",
            "\n",
            "unique of achievement_score\n",
            "[ 0.27735862 -0.44964639  0.76970344 ...  0.37082009 -0.39629671\n",
            "  0.47897006]\n",
            "\n",
            "unique of success_expect\n",
            "[6 4 7 5 3 1 2]\n",
            "\n",
            "unique of ethnicity\n",
            "[ 4 12  5  1  2 14 15 10  6  9  8  7 11  3 13]\n",
            "\n",
            "unique of gender\n",
            "[2 1]\n",
            "\n",
            "unique of frst_in_family\n",
            "[1 0]\n",
            "\n",
            "unique of school_urbanicity\n",
            "[4 3 1 0 2]\n",
            "\n",
            "unique of school_mindset\n",
            "[ 0.33454352  0.99162827  0.98398211 -0.46294452  0.4204414  -3.08878982\n",
            "  0.98824178 -0.05057947 -0.03439241 -1.11533652  1.02177695 -0.95397163\n",
            " -0.35420731 -1.29411031 -1.13224131 -1.16814528  0.92418344  0.20834922\n",
            " -0.61788794  0.09716239  1.18151615  1.93658085  0.25531863  0.999101\n",
            "  0.19760784 -1.0362246   0.2113852   0.92542289  0.17342362 -1.23927231\n",
            "  1.09941932  0.21400211  0.6184636  -0.56832918  0.72884744  1.26606745\n",
            "  0.50388639 -0.42574215  0.30983348 -0.53072159  1.73191507  0.33083589\n",
            " -0.87306051  0.28505884 -0.37597512 -0.46020674  0.40631632 -0.37308653\n",
            "  1.40661814  0.24026682 -0.28362416 -0.2455873  -0.87050069  0.7729008\n",
            "  2.66182148  1.23510562 -0.99604188 -0.70992463  1.63643021  1.57063981\n",
            " -0.53897539 -0.00995388  1.73202289  0.37014208  2.83458867  0.38023022\n",
            "  0.23057047  1.32432327  0.12041266  0.4007987   0.08852584 -0.05514955\n",
            " -2.289636   -2.08162953  0.20829761  1.18598644]\n",
            "\n",
            "unique of school_achievement\n",
            "[ 0.64858557 -0.67414202 -0.44994328  0.65260818 -0.49197173  0.01305767\n",
            " -2.59942228  1.1124201  -2.6359608   1.05308902 -0.09733576 -0.94397209\n",
            "  1.26438758 -0.15324699  0.7268356  -0.61250126  0.07503707  1.19142159\n",
            " -0.1636193  -0.29235262 -1.56251275 -2.28107462  1.10808553  0.44091224\n",
            " -0.72669641  0.70388684  0.07240733 -0.98780647 -0.01243109  0.5992423\n",
            " -0.28737925 -0.02251354 -1.19299377  0.61346538 -0.64200167 -1.03736773\n",
            "  0.47927952  0.9057637   0.30398439 -0.17706995 -0.58788561 -0.50183197\n",
            "  0.90025497  0.58920477  0.40458449 -0.24017516  0.04024725  0.11309596\n",
            " -1.28913234 -0.78528667 -0.58856293  1.33207445  1.04097821 -1.12466372\n",
            " -3.34781893 -0.69959511 -0.01903883 -0.51623923 -0.06516071 -1.02150386\n",
            "  1.43382631  0.7628039  -0.20217002  0.10257517 -2.94779943 -2.38739157\n",
            " -0.75330861 -1.3114377   0.10580147 -0.18083099  1.30729193 -0.54450609\n",
            "  0.19079672  2.17181459 -0.12238596 -1.1298894 ]\n",
            "\n",
            "unique of school_ethnic_minority\n",
            "[-1.31092697  1.56431794  0.0881594  -0.51520159 -0.9134051  -1.10254668\n",
            "  2.10398324 -0.13882157  2.09306203  0.31575518  0.22547005  0.02552928\n",
            " -0.81952934  0.49354012 -0.05703584 -0.47233301 -0.59996899 -1.28835197\n",
            " -0.99188236 -1.03086542  1.88027273  1.88914475 -0.36778893 -1.34476661\n",
            " -1.07989429 -1.40792172 -1.45446091 -1.15301106 -1.2444796   0.00542947\n",
            "  0.89779669 -0.74926332 -1.21551582 -1.21021044 -0.91555048  1.46313562\n",
            "  0.56103625 -0.13311872  0.51539238 -1.31303655 -0.98620079 -1.28709794\n",
            " -0.78968457 -1.57546279 -1.12735297  0.69700508 -0.20380795 -0.8334171\n",
            "  1.20172778  0.61180747  0.19267649 -1.10177752  0.04728087  0.35271263\n",
            "  2.35827436 -0.0062432  -0.91402067 -0.98776665  0.69420052  0.36120215\n",
            " -0.03316144 -0.22575153 -1.54504751 -1.26563952  2.30859436  1.27717167\n",
            " -0.96309532  1.9302806   1.66055028 -1.14731767 -1.27741907  1.3025867\n",
            "  0.87501243 -0.14526491  1.19949188  1.00987461]\n",
            "\n",
            "unique of school_poverty\n",
            "[ 0.22407651  0.23075543 -0.65713147 -0.16984861 -0.04315946 -1.27078375\n",
            "  1.50164807 -1.18551261  1.51041484  0.05458615 -0.80528851 -0.42398239\n",
            " -1.15836029  0.19666218  1.33051223  0.20148731  0.14241449 -1.09092572\n",
            " -0.946657   -0.81379922  2.05070676  2.04118624 -0.27067499 -0.30486797\n",
            " -0.06142774 -0.30661415 -0.30880087  0.7196583   0.6137558   1.26767967\n",
            "  2.82165999  0.34788938  1.12831638 -0.66485972  0.50499921  0.70011801\n",
            "  0.59647362  1.05510682  1.27408795 -0.04572221  0.54038053  0.47689751\n",
            " -1.3190603  -0.48049274  0.12882984 -0.25641588 -0.22004127 -1.92477827\n",
            "  0.58413059  0.6125681  -0.25990959 -1.0834001   0.90820804  0.67212966\n",
            "  1.5397821   0.26306277 -0.23080431 -0.15960157  1.0373729   1.04399778\n",
            " -0.98227385  0.08261263 -0.88666143 -1.04782184  2.65586349  2.53823498\n",
            " -0.05478073  0.28114305  0.22654534 -1.17339064 -1.36118364 -1.735164\n",
            " -0.72480138 -0.78532157 -0.33713429  1.00506302]\n",
            "\n",
            "unique of school_size\n",
            "[-0.42675665 -1.51190901 -0.32395917  0.17395401 -0.4385311  -1.45842138\n",
            " -1.5200865   0.99888389 -0.2115532   1.86218663 -0.32970768 -1.43105263\n",
            "  0.81011663 -1.29061639  1.89234818 -1.05090297 -1.088472    1.58615649\n",
            "  1.06379     0.18471607 -0.98863463 -0.86556582 -1.45889955 -1.64619806\n",
            " -1.39554198 -0.94365119 -1.60619072 -1.24247256 -1.12524076  0.95850968\n",
            " -0.64686755 -0.78521543 -1.40678341 -1.48198879 -1.21495972 -1.52687987\n",
            " -1.40021945 -1.14543978 -1.53980109 -1.03159453 -1.60630369 -1.34077718\n",
            " -0.85702623 -1.50771655 -1.49543619 -1.80507278 -0.80615082 -1.14731358\n",
            " -0.23546818 -0.11628373 -0.05628597  0.32577707 -1.27406005 -1.34484348\n",
            " -0.9031163  -0.58254147  0.84784394  0.26222063 -0.37507344 -0.47040374\n",
            "  1.59164125  0.35067201 -1.66987217 -1.7069773  -1.03178008 -0.54363968\n",
            " -0.58324099  0.36203114  1.00130811 -0.56061531 -0.86996087 -0.79214586\n",
            "  0.76178098  0.88228109  0.35274712 -1.17470222]\n",
            "\n"
          ]
        }
      ]
    },
    {
      "cell_type": "markdown",
      "source": [
        "## 1. Menentukan variabel *covariate* (X), *treatment* (T), dan *response* (Y)"
      ],
      "metadata": {
        "id": "TaP8i686P00Q"
      }
    },
    {
      "cell_type": "markdown",
      "source": [
        "- Nilai y sebagai outcome yaitu achivement merupakan hasil tes siswa. Sehingga, nilai y dapat mengukur keberhasilan growth mindset dilihat dari prestasi secara akademik.\n",
        "- Nilai t pada data set ini yaitu intervention. Tentu saja variabel tersebut berkaitan dengan apakah siswa mendapatkan edukasi terkait growth mindset atau tidak\n",
        "- Nilai x yang dapat menjadi confounder pada data ini yaitu success expect (dapat menggambarkan motivasi siswa dalam belajar untuk mencapai kesuksesan), etnis (bisa saja terdapat paham tertentu pada etnis tertentu), gender (bisa saja siswa perempuan memiliki prestasi akademik yang lebih tinggi karena identik dengan rajin dalam belajar), first-generation status (bisa saja yang bukan anak pertama, lebih mengetahui terkait hal-hal yang perlu disiapkan dalam belajar karena belajar dari kakak-kakaknya), school_urbanicity (bisa saja sekolah yang terletak di kota memiliki tingkat pendidikan yang lebih baik dibandingkan rural), school mindset (dengan sekolah yang baik, bisa saja menimbulkan mindset yang baik untuk siswanya), school achievement (pada siswa yang dasarnya memang pintar, bisa saja prestasi sekolahnya tetap baik walaupun tidak menggunakan metode growth mindset), school poverty (bisa saja sekolah dengan persentase siswa yang kurang mampu merupakan sekolah yang murah sehingga, bisa saja memiliki fasilitas secukupnya), serta school size (semakin banyak jumlah siswa, bisa saja menyebabkan guru kurang fokus dalam mengajarkan tiap murid)."
      ],
      "metadata": {
        "id": "SceMQsuUQgLT"
      }
    },
    {
      "cell_type": "markdown",
      "source": [
        "## 2. Tentukaan model yang akan digunakan"
      ],
      "metadata": {
        "id": "qmDTB8fCZ2jr"
      }
    },
    {
      "cell_type": "markdown",
      "source": [
        "Dalam melakukan analisis, saya akan menggunakan model Double ML karena dalam model tersebut dapat melakukan estimating treatment effects saat semua potensial cofounders diketahui. Selain itu, kita dapat mengetahui efek treatment per variabel secara jelas dengan melihat p-value"
      ],
      "metadata": {
        "id": "sExsJbWhbciq"
      }
    },
    {
      "cell_type": "markdown",
      "source": [
        "## 3. Analisis model"
      ],
      "metadata": {
        "id": "BUJQemp3cLxu"
      }
    },
    {
      "cell_type": "code",
      "source": [
        "# outcome\n",
        "Y = \"achievement_score\"\n",
        "\n",
        "# treatment\n",
        "T = \"intervention\"\n",
        "\n",
        "# covariates\n",
        "X = [\"success_expect\", \"ethnicity\", \"gender\", \"frst_in_family\",\"school_urbanicity\", \"school_mindset\", \"school_achievement\", \"school_ethnic_minority\",\"school_poverty\",\"school_size\"]"
      ],
      "metadata": {
        "id": "e3th7Xv-Zznj"
      },
      "execution_count": null,
      "outputs": []
    },
    {
      "cell_type": "code",
      "source": [
        "df_train = df[Y]\n",
        "df_train"
      ],
      "metadata": {
        "colab": {
          "base_uri": "https://localhost:8080/"
        },
        "id": "8E8qKnP7p1kj",
        "outputId": "0b5af4d0-72b9-4d97-97a6-c587fd7247fa"
      },
      "execution_count": null,
      "outputs": [
        {
          "output_type": "execute_result",
          "data": {
            "text/plain": [
              "0        0.277359\n",
              "1       -0.449646\n",
              "2        0.769703\n",
              "3       -0.121763\n",
              "4        1.526147\n",
              "           ...   \n",
              "10386    0.808867\n",
              "10387   -0.156063\n",
              "10388    0.370820\n",
              "10389   -0.396297\n",
              "10390    0.478970\n",
              "Name: achievement_score, Length: 10391, dtype: float64"
            ]
          },
          "metadata": {},
          "execution_count": 57
        }
      ]
    },
    {
      "cell_type": "code",
      "source": [
        "df_train_t = df[T]\n",
        "df_train_t"
      ],
      "metadata": {
        "colab": {
          "base_uri": "https://localhost:8080/"
        },
        "id": "nTHcZj7GqL7Q",
        "outputId": "2fba6127-1e8e-479e-f857-598b3cec0d1c"
      },
      "execution_count": null,
      "outputs": [
        {
          "output_type": "execute_result",
          "data": {
            "text/plain": [
              "0        1\n",
              "1        1\n",
              "2        1\n",
              "3        1\n",
              "4        1\n",
              "        ..\n",
              "10386    0\n",
              "10387    0\n",
              "10388    0\n",
              "10389    0\n",
              "10390    0\n",
              "Name: intervention, Length: 10391, dtype: int64"
            ]
          },
          "metadata": {},
          "execution_count": 58
        }
      ]
    },
    {
      "cell_type": "code",
      "source": [
        "df_train_x = df[X]\n",
        "df_train_x"
      ],
      "metadata": {
        "colab": {
          "base_uri": "https://localhost:8080/",
          "height": 488
        },
        "id": "PT5XyCZWqVMq",
        "outputId": "f7c1c1b9-5c34-4808-a0ba-5bd2ed2d604b"
      },
      "execution_count": null,
      "outputs": [
        {
          "output_type": "execute_result",
          "data": {
            "text/plain": [
              "       success_expect  ethnicity  gender  frst_in_family  school_urbanicity  \\\n",
              "0                   6          4       2               1                  4   \n",
              "1                   4         12       2               1                  4   \n",
              "2                   6          4       2               0                  4   \n",
              "3                   6          4       2               0                  4   \n",
              "4                   6          4       1               0                  4   \n",
              "...               ...        ...     ...             ...                ...   \n",
              "10386               7          4       2               1                  3   \n",
              "10387               7          4       2               1                  3   \n",
              "10388               2         15       1               1                  3   \n",
              "10389               5          4       1               1                  3   \n",
              "10390               5          1       2               1                  3   \n",
              "\n",
              "       school_mindset  school_achievement  school_ethnic_minority  \\\n",
              "0            0.334544            0.648586               -1.310927   \n",
              "1            0.334544            0.648586               -1.310927   \n",
              "2            0.334544            0.648586               -1.310927   \n",
              "3            0.334544            0.648586               -1.310927   \n",
              "4            0.334544            0.648586               -1.310927   \n",
              "...               ...                 ...                     ...   \n",
              "10386        1.185986           -1.129889                1.009875   \n",
              "10387        1.185986           -1.129889                1.009875   \n",
              "10388        1.185986           -1.129889                1.009875   \n",
              "10389        1.185986           -1.129889                1.009875   \n",
              "10390        1.185986           -1.129889                1.009875   \n",
              "\n",
              "       school_poverty  school_size  \n",
              "0            0.224077    -0.426757  \n",
              "1            0.224077    -0.426757  \n",
              "2            0.224077    -0.426757  \n",
              "3            0.224077    -0.426757  \n",
              "4            0.224077    -0.426757  \n",
              "...               ...          ...  \n",
              "10386        1.005063    -1.174702  \n",
              "10387        1.005063    -1.174702  \n",
              "10388        1.005063    -1.174702  \n",
              "10389        1.005063    -1.174702  \n",
              "10390        1.005063    -1.174702  \n",
              "\n",
              "[10391 rows x 10 columns]"
            ],
            "text/html": [
              "\n",
              "  <div id=\"df-6e9ec4a9-ccec-460d-bc0b-332d53fadf08\">\n",
              "    <div class=\"colab-df-container\">\n",
              "      <div>\n",
              "<style scoped>\n",
              "    .dataframe tbody tr th:only-of-type {\n",
              "        vertical-align: middle;\n",
              "    }\n",
              "\n",
              "    .dataframe tbody tr th {\n",
              "        vertical-align: top;\n",
              "    }\n",
              "\n",
              "    .dataframe thead th {\n",
              "        text-align: right;\n",
              "    }\n",
              "</style>\n",
              "<table border=\"1\" class=\"dataframe\">\n",
              "  <thead>\n",
              "    <tr style=\"text-align: right;\">\n",
              "      <th></th>\n",
              "      <th>success_expect</th>\n",
              "      <th>ethnicity</th>\n",
              "      <th>gender</th>\n",
              "      <th>frst_in_family</th>\n",
              "      <th>school_urbanicity</th>\n",
              "      <th>school_mindset</th>\n",
              "      <th>school_achievement</th>\n",
              "      <th>school_ethnic_minority</th>\n",
              "      <th>school_poverty</th>\n",
              "      <th>school_size</th>\n",
              "    </tr>\n",
              "  </thead>\n",
              "  <tbody>\n",
              "    <tr>\n",
              "      <th>0</th>\n",
              "      <td>6</td>\n",
              "      <td>4</td>\n",
              "      <td>2</td>\n",
              "      <td>1</td>\n",
              "      <td>4</td>\n",
              "      <td>0.334544</td>\n",
              "      <td>0.648586</td>\n",
              "      <td>-1.310927</td>\n",
              "      <td>0.224077</td>\n",
              "      <td>-0.426757</td>\n",
              "    </tr>\n",
              "    <tr>\n",
              "      <th>1</th>\n",
              "      <td>4</td>\n",
              "      <td>12</td>\n",
              "      <td>2</td>\n",
              "      <td>1</td>\n",
              "      <td>4</td>\n",
              "      <td>0.334544</td>\n",
              "      <td>0.648586</td>\n",
              "      <td>-1.310927</td>\n",
              "      <td>0.224077</td>\n",
              "      <td>-0.426757</td>\n",
              "    </tr>\n",
              "    <tr>\n",
              "      <th>2</th>\n",
              "      <td>6</td>\n",
              "      <td>4</td>\n",
              "      <td>2</td>\n",
              "      <td>0</td>\n",
              "      <td>4</td>\n",
              "      <td>0.334544</td>\n",
              "      <td>0.648586</td>\n",
              "      <td>-1.310927</td>\n",
              "      <td>0.224077</td>\n",
              "      <td>-0.426757</td>\n",
              "    </tr>\n",
              "    <tr>\n",
              "      <th>3</th>\n",
              "      <td>6</td>\n",
              "      <td>4</td>\n",
              "      <td>2</td>\n",
              "      <td>0</td>\n",
              "      <td>4</td>\n",
              "      <td>0.334544</td>\n",
              "      <td>0.648586</td>\n",
              "      <td>-1.310927</td>\n",
              "      <td>0.224077</td>\n",
              "      <td>-0.426757</td>\n",
              "    </tr>\n",
              "    <tr>\n",
              "      <th>4</th>\n",
              "      <td>6</td>\n",
              "      <td>4</td>\n",
              "      <td>1</td>\n",
              "      <td>0</td>\n",
              "      <td>4</td>\n",
              "      <td>0.334544</td>\n",
              "      <td>0.648586</td>\n",
              "      <td>-1.310927</td>\n",
              "      <td>0.224077</td>\n",
              "      <td>-0.426757</td>\n",
              "    </tr>\n",
              "    <tr>\n",
              "      <th>...</th>\n",
              "      <td>...</td>\n",
              "      <td>...</td>\n",
              "      <td>...</td>\n",
              "      <td>...</td>\n",
              "      <td>...</td>\n",
              "      <td>...</td>\n",
              "      <td>...</td>\n",
              "      <td>...</td>\n",
              "      <td>...</td>\n",
              "      <td>...</td>\n",
              "    </tr>\n",
              "    <tr>\n",
              "      <th>10386</th>\n",
              "      <td>7</td>\n",
              "      <td>4</td>\n",
              "      <td>2</td>\n",
              "      <td>1</td>\n",
              "      <td>3</td>\n",
              "      <td>1.185986</td>\n",
              "      <td>-1.129889</td>\n",
              "      <td>1.009875</td>\n",
              "      <td>1.005063</td>\n",
              "      <td>-1.174702</td>\n",
              "    </tr>\n",
              "    <tr>\n",
              "      <th>10387</th>\n",
              "      <td>7</td>\n",
              "      <td>4</td>\n",
              "      <td>2</td>\n",
              "      <td>1</td>\n",
              "      <td>3</td>\n",
              "      <td>1.185986</td>\n",
              "      <td>-1.129889</td>\n",
              "      <td>1.009875</td>\n",
              "      <td>1.005063</td>\n",
              "      <td>-1.174702</td>\n",
              "    </tr>\n",
              "    <tr>\n",
              "      <th>10388</th>\n",
              "      <td>2</td>\n",
              "      <td>15</td>\n",
              "      <td>1</td>\n",
              "      <td>1</td>\n",
              "      <td>3</td>\n",
              "      <td>1.185986</td>\n",
              "      <td>-1.129889</td>\n",
              "      <td>1.009875</td>\n",
              "      <td>1.005063</td>\n",
              "      <td>-1.174702</td>\n",
              "    </tr>\n",
              "    <tr>\n",
              "      <th>10389</th>\n",
              "      <td>5</td>\n",
              "      <td>4</td>\n",
              "      <td>1</td>\n",
              "      <td>1</td>\n",
              "      <td>3</td>\n",
              "      <td>1.185986</td>\n",
              "      <td>-1.129889</td>\n",
              "      <td>1.009875</td>\n",
              "      <td>1.005063</td>\n",
              "      <td>-1.174702</td>\n",
              "    </tr>\n",
              "    <tr>\n",
              "      <th>10390</th>\n",
              "      <td>5</td>\n",
              "      <td>1</td>\n",
              "      <td>2</td>\n",
              "      <td>1</td>\n",
              "      <td>3</td>\n",
              "      <td>1.185986</td>\n",
              "      <td>-1.129889</td>\n",
              "      <td>1.009875</td>\n",
              "      <td>1.005063</td>\n",
              "      <td>-1.174702</td>\n",
              "    </tr>\n",
              "  </tbody>\n",
              "</table>\n",
              "<p>10391 rows × 10 columns</p>\n",
              "</div>\n",
              "      <button class=\"colab-df-convert\" onclick=\"convertToInteractive('df-6e9ec4a9-ccec-460d-bc0b-332d53fadf08')\"\n",
              "              title=\"Convert this dataframe to an interactive table.\"\n",
              "              style=\"display:none;\">\n",
              "        \n",
              "  <svg xmlns=\"http://www.w3.org/2000/svg\" height=\"24px\"viewBox=\"0 0 24 24\"\n",
              "       width=\"24px\">\n",
              "    <path d=\"M0 0h24v24H0V0z\" fill=\"none\"/>\n",
              "    <path d=\"M18.56 5.44l.94 2.06.94-2.06 2.06-.94-2.06-.94-.94-2.06-.94 2.06-2.06.94zm-11 1L8.5 8.5l.94-2.06 2.06-.94-2.06-.94L8.5 2.5l-.94 2.06-2.06.94zm10 10l.94 2.06.94-2.06 2.06-.94-2.06-.94-.94-2.06-.94 2.06-2.06.94z\"/><path d=\"M17.41 7.96l-1.37-1.37c-.4-.4-.92-.59-1.43-.59-.52 0-1.04.2-1.43.59L10.3 9.45l-7.72 7.72c-.78.78-.78 2.05 0 2.83L4 21.41c.39.39.9.59 1.41.59.51 0 1.02-.2 1.41-.59l7.78-7.78 2.81-2.81c.8-.78.8-2.07 0-2.86zM5.41 20L4 18.59l7.72-7.72 1.47 1.35L5.41 20z\"/>\n",
              "  </svg>\n",
              "      </button>\n",
              "      \n",
              "  <style>\n",
              "    .colab-df-container {\n",
              "      display:flex;\n",
              "      flex-wrap:wrap;\n",
              "      gap: 12px;\n",
              "    }\n",
              "\n",
              "    .colab-df-convert {\n",
              "      background-color: #E8F0FE;\n",
              "      border: none;\n",
              "      border-radius: 50%;\n",
              "      cursor: pointer;\n",
              "      display: none;\n",
              "      fill: #1967D2;\n",
              "      height: 32px;\n",
              "      padding: 0 0 0 0;\n",
              "      width: 32px;\n",
              "    }\n",
              "\n",
              "    .colab-df-convert:hover {\n",
              "      background-color: #E2EBFA;\n",
              "      box-shadow: 0px 1px 2px rgba(60, 64, 67, 0.3), 0px 1px 3px 1px rgba(60, 64, 67, 0.15);\n",
              "      fill: #174EA6;\n",
              "    }\n",
              "\n",
              "    [theme=dark] .colab-df-convert {\n",
              "      background-color: #3B4455;\n",
              "      fill: #D2E3FC;\n",
              "    }\n",
              "\n",
              "    [theme=dark] .colab-df-convert:hover {\n",
              "      background-color: #434B5C;\n",
              "      box-shadow: 0px 1px 3px 1px rgba(0, 0, 0, 0.15);\n",
              "      filter: drop-shadow(0px 1px 2px rgba(0, 0, 0, 0.3));\n",
              "      fill: #FFFFFF;\n",
              "    }\n",
              "  </style>\n",
              "\n",
              "      <script>\n",
              "        const buttonEl =\n",
              "          document.querySelector('#df-6e9ec4a9-ccec-460d-bc0b-332d53fadf08 button.colab-df-convert');\n",
              "        buttonEl.style.display =\n",
              "          google.colab.kernel.accessAllowed ? 'block' : 'none';\n",
              "\n",
              "        async function convertToInteractive(key) {\n",
              "          const element = document.querySelector('#df-6e9ec4a9-ccec-460d-bc0b-332d53fadf08');\n",
              "          const dataTable =\n",
              "            await google.colab.kernel.invokeFunction('convertToInteractive',\n",
              "                                                     [key], {});\n",
              "          if (!dataTable) return;\n",
              "\n",
              "          const docLinkHtml = 'Like what you see? Visit the ' +\n",
              "            '<a target=\"_blank\" href=https://colab.research.google.com/notebooks/data_table.ipynb>data table notebook</a>'\n",
              "            + ' to learn more about interactive tables.';\n",
              "          element.innerHTML = '';\n",
              "          dataTable['output_type'] = 'display_data';\n",
              "          await google.colab.output.renderOutput(dataTable, element);\n",
              "          const docLink = document.createElement('div');\n",
              "          docLink.innerHTML = docLinkHtml;\n",
              "          element.appendChild(docLink);\n",
              "        }\n",
              "      </script>\n",
              "    </div>\n",
              "  </div>\n",
              "  "
            ]
          },
          "metadata": {},
          "execution_count": 59
        }
      ]
    },
    {
      "cell_type": "code",
      "source": [
        "# define DML Object\n",
        "dml_est = DML(\n",
        "    model_y = GradientBoostingRegressor(n_estimators=100,  random_state=1000),\n",
        "    model_t = GradientBoostingRegressor(n_estimators=100, random_state= 1000),\n",
        "    model_final = LinearRegression(fit_intercept= False),\n",
        "    random_state = 1000\n",
        ")"
      ],
      "metadata": {
        "id": "ab0Sf8KmoWAF"
      },
      "execution_count": null,
      "outputs": []
    },
    {
      "cell_type": "code",
      "source": [
        "# fit estimator to train data\n",
        "np.random.seed(1000)\n",
        "dml_est.fit(df_train, T= df_train_t, X=df_train_x, inference=\"bootstrap\")"
      ],
      "metadata": {
        "colab": {
          "base_uri": "https://localhost:8080/"
        },
        "id": "N49fMrS9pxPx",
        "outputId": "eef2d5d0-7da6-4630-a8d1-148e451129ee"
      },
      "execution_count": null,
      "outputs": [
        {
          "output_type": "execute_result",
          "data": {
            "text/plain": [
              "<econml.dml.dml.DML at 0x7f4be7d12350>"
            ]
          },
          "metadata": {},
          "execution_count": 61
        }
      ]
    },
    {
      "cell_type": "code",
      "source": [
        "dml_est.summary()"
      ],
      "metadata": {
        "colab": {
          "base_uri": "https://localhost:8080/",
          "height": 490
        },
        "id": "yX7qQjCsrSgc",
        "outputId": "f2f8ac15-039e-41fc-960c-9dd4e9b50edc"
      },
      "execution_count": null,
      "outputs": [
        {
          "output_type": "execute_result",
          "data": {
            "text/plain": [
              "<class 'econml.utilities.Summary'>\n",
              "\"\"\"\n",
              "                            Coefficient Results                             \n",
              "============================================================================\n",
              "                       point_estimate stderr zstat  pvalue ci_lower ci_upper\n",
              "----------------------------------------------------------------------------\n",
              "success_expect                  0.024  0.015  1.628   0.06   -0.004    0.053\n",
              "ethnicity                       0.004  0.005  0.731   0.12   -0.004    0.016\n",
              "gender                         -0.013  0.029 -0.452    0.2   -0.078     0.03\n",
              "frst_in_family                 -0.008  0.033 -0.252   0.32    -0.08    0.054\n",
              "school_urbanicity               0.005  0.014  0.364    0.2   -0.008    0.041\n",
              "school_mindset                 -0.052  0.023 -2.239   0.02     -0.1   -0.007\n",
              "school_achievement              0.004  0.027  0.142   0.41   -0.045    0.051\n",
              "school_ethnic_minority          0.013  0.021  0.604   0.26   -0.033    0.052\n",
              "school_poverty                  0.015  0.022  0.697   0.49   -0.032    0.049\n",
              "school_size                     0.021  0.022  0.931   0.22   -0.028    0.055\n",
              "                       CATE Intercept Results                      \n",
              "===================================================================\n",
              "               point_estimate stderr zstat pvalue ci_lower ci_upper\n",
              "-------------------------------------------------------------------\n",
              "cate_intercept          0.256  0.102 2.519   0.01    0.055     0.42\n",
              "-------------------------------------------------------------------\n",
              "\n",
              "<sub>A linear parametric conditional average treatment effect (CATE) model was fitted:\n",
              "$Y = \\Theta(X)\\cdot T + g(X, W) + \\epsilon$\n",
              "where for every outcome $i$ and treatment $j$ the CATE $\\Theta_{ij}(X)$ has the form:\n",
              "$\\Theta_{ij}(X) = \\phi(X)' coef_{ij} + cate\\_intercept_{ij}$\n",
              "where $\\phi(X)$ is the output of the `featurizer` or $X$ if `featurizer`=None. Coefficient Results table portrays the $coef_{ij}$ parameter vector for each outcome $i$ and treatment $j$. Intercept Results table portrays the $cate\\_intercept_{ij}$ parameter.</sub>\n",
              "\"\"\""
            ],
            "text/html": [
              "<table class=\"simpletable\">\n",
              "<caption>Coefficient Results</caption>\n",
              "<tr>\n",
              "             <td></td>            <th>point_estimate</th> <th>stderr</th>  <th>zstat</th> <th>pvalue</th> <th>ci_lower</th> <th>ci_upper</th>\n",
              "</tr>\n",
              "<tr>\n",
              "  <th>success_expect</th>              <td>0.024</td>      <td>0.015</td>  <td>1.628</td>  <td>0.06</td>   <td>-0.004</td>    <td>0.053</td> \n",
              "</tr>\n",
              "<tr>\n",
              "  <th>ethnicity</th>                   <td>0.004</td>      <td>0.005</td>  <td>0.731</td>  <td>0.12</td>   <td>-0.004</td>    <td>0.016</td> \n",
              "</tr>\n",
              "<tr>\n",
              "  <th>gender</th>                     <td>-0.013</td>      <td>0.029</td> <td>-0.452</td>   <td>0.2</td>   <td>-0.078</td>    <td>0.03</td>  \n",
              "</tr>\n",
              "<tr>\n",
              "  <th>frst_in_family</th>             <td>-0.008</td>      <td>0.033</td> <td>-0.252</td>  <td>0.32</td>    <td>-0.08</td>    <td>0.054</td> \n",
              "</tr>\n",
              "<tr>\n",
              "  <th>school_urbanicity</th>           <td>0.005</td>      <td>0.014</td>  <td>0.364</td>   <td>0.2</td>   <td>-0.008</td>    <td>0.041</td> \n",
              "</tr>\n",
              "<tr>\n",
              "  <th>school_mindset</th>             <td>-0.052</td>      <td>0.023</td> <td>-2.239</td>  <td>0.02</td>    <td>-0.1</td>    <td>-0.007</td> \n",
              "</tr>\n",
              "<tr>\n",
              "  <th>school_achievement</th>          <td>0.004</td>      <td>0.027</td>  <td>0.142</td>  <td>0.41</td>   <td>-0.045</td>    <td>0.051</td> \n",
              "</tr>\n",
              "<tr>\n",
              "  <th>school_ethnic_minority</th>      <td>0.013</td>      <td>0.021</td>  <td>0.604</td>  <td>0.26</td>   <td>-0.033</td>    <td>0.052</td> \n",
              "</tr>\n",
              "<tr>\n",
              "  <th>school_poverty</th>              <td>0.015</td>      <td>0.022</td>  <td>0.697</td>  <td>0.49</td>   <td>-0.032</td>    <td>0.049</td> \n",
              "</tr>\n",
              "<tr>\n",
              "  <th>school_size</th>                 <td>0.021</td>      <td>0.022</td>  <td>0.931</td>  <td>0.22</td>   <td>-0.028</td>    <td>0.055</td> \n",
              "</tr>\n",
              "</table>\n",
              "<table class=\"simpletable\">\n",
              "<caption>CATE Intercept Results</caption>\n",
              "<tr>\n",
              "         <td></td>        <th>point_estimate</th> <th>stderr</th> <th>zstat</th> <th>pvalue</th> <th>ci_lower</th> <th>ci_upper</th>\n",
              "</tr>\n",
              "<tr>\n",
              "  <th>cate_intercept</th>      <td>0.256</td>      <td>0.102</td> <td>2.519</td>  <td>0.01</td>    <td>0.055</td>    <td>0.42</td>  \n",
              "</tr>\n",
              "</table><br/><br/><sub>A linear parametric conditional average treatment effect (CATE) model was fitted:<br/>$Y = \\Theta(X)\\cdot T + g(X, W) + \\epsilon$<br/>where for every outcome $i$ and treatment $j$ the CATE $\\Theta_{ij}(X)$ has the form:<br/>$\\Theta_{ij}(X) = \\phi(X)' coef_{ij} + cate\\_intercept_{ij}$<br/>where $\\phi(X)$ is the output of the `featurizer` or $X$ if `featurizer`=None. Coefficient Results table portrays the $coef_{ij}$ parameter vector for each outcome $i$ and treatment $j$. Intercept Results table portrays the $cate\\_intercept_{ij}$ parameter.</sub>"
            ]
          },
          "metadata": {},
          "execution_count": 62
        }
      ]
    },
    {
      "cell_type": "markdown",
      "source": [
        "Pada tabel diatas, dapat dilihat bahwa: \n",
        "- Hanya school_mindset saja yang memiliki significant impact tetapi negatif dengan materi terkait materi growth mindset dengan akademik siswa di sekolah (p-value= 0.02, <0.05).\n",
        "- Nilai Cate yaitu 0.256 dengan p-value yaitu 0.01 (<0.05) sehingga pembelajaran terkait growth mindset signifikan terhadap akademik siswa"
      ],
      "metadata": {
        "id": "n83p4cA91HtL"
      }
    },
    {
      "cell_type": "code",
      "source": [
        "# get treatment effect and its confidence interval\n",
        "te_pred = dml_est.effect(df_train_x)"
      ],
      "metadata": {
        "id": "wY4nKNPcsTP1"
      },
      "execution_count": null,
      "outputs": []
    },
    {
      "cell_type": "code",
      "source": [
        "# measure effect\n",
        "np.mean(te_pred)"
      ],
      "metadata": {
        "colab": {
          "base_uri": "https://localhost:8080/",
          "height": 37
        },
        "id": "19y1DdHDsZB-",
        "outputId": "b7adfb5d-ad08-4fa6-b79c-7ccbb52307d7"
      },
      "execution_count": null,
      "outputs": [
        {
          "output_type": "execute_result",
          "data": {
            "text/plain": [
              "0.39106346500452244"
            ],
            "image/png": "[encoded data removed]",
            "text/latex": "$\\displaystyle 0.391063465004522$"
          },
          "metadata": {},
          "execution_count": 64
        }
      ]
    },
    {
      "cell_type": "markdown",
      "source": [
        "Dampak yang dihasilkan pada eksperimen yang dilakukan oleh *The National Study of Learning Mindset* yaitu sebesar 0.39"
      ],
      "metadata": {
        "id": "qYmAmBTA3Pcg"
      }
    },
    {
      "cell_type": "code",
      "source": [
        "# check treatment effect distribution\n",
        "sns.boxplot(x= te_pred).set_title(\"Treatment Effect of Growth Mindset Leason on Academic Achievement\")"
      ],
      "metadata": {
        "colab": {
          "base_uri": "https://localhost:8080/",
          "height": 524
        },
        "id": "AyzSsnNZsb-M",
        "outputId": "0e042764-305e-4891-ed95-43551b031e8e"
      },
      "execution_count": null,
      "outputs": [
        {
          "output_type": "execute_result",
          "data": {
            "text/plain": [
              "Text(0.5, 1.0, 'Treatment Effect of Growth Mindset Leason on Academic Achievement')"
            ]
          },
          "metadata": {},
          "execution_count": 65
        },
        {
          "output_type": "display_data",
          "data": {
            "text/plain": [
              "<Figure size 720x576 with 1 Axes>"
            ],
            "image/png": "[encoded data removed]"
          },
          "metadata": {}
        }
      ]
    },
    {
      "cell_type": "markdown",
      "source": [
        "Berdasarkan hasil plot, hasilnya kurang baik karena ada banyak sekali outlier pada data. Sebaiknya mungkin perlu dilakukan beberapa treatment agar tidak menimbulkan bias pada data"
      ],
      "metadata": {
        "id": "3vtsUf-m3zfU"
      }
    }
  ],
  "metadata": {
    "colab": {
      "name": "Assignment 14 Causal Analysis - Yasmin Shofiyyah",
      "provenance": [],
      "collapsed_sections": [],
      "include_colab_link": true
    },
    "kernelspec": {
      "display_name": "Python 3",
      "name": "python3"
    }
  },
  "nbformat": 4,
  "nbformat_minor": 0
}